{
 "cells": [
  {
   "cell_type": "markdown",
   "id": "e980d5f1-aba6-4b1c-ba3e-d33c3271ca42",
   "metadata": {},
   "source": [
    "## Problem Metadata \n",
    "DO NOT DELETE (JSON Block; the metadata and course context MUST be in the first cell)\n",
    "\n",
    "```json\n",
    "{\n",
    "    \"problem_title\": \"coolingSolidBlock\",\n",
    "    \"author\": \"tschutzius\",\n",
    "    \"year\": \"Fa25\",\n",
    "    \"difficulty_tags\": [\"easy\"],\n",
    "    \"topic\": \"Closed Systems\",\n",
    "    \"lecture_reference\": {\n",
    "        \"lecture_id\": \"1_0r6wkz1o\",\n",
    "        \"subtopics\": [\n",
    "            {\n",
    "              \"key\": \"Fa25-L5a-1.0\",\n",
    "              \"title\": \"Cooling of a solid block\",\n",
    "            }\n",
    "        ]\n",
    "    },\n",
    "    \"book_reference\": {\n",
    "          \"chapter_number\": 4,\n",
    "          \"title\": \"Energy Analysis of Closed Systems\",\n",
    "        \"sections\": [\n",
    "            \"Internal Energy, Enthalpy, and Specific Heats of Solids and Liquids\"\n",
    "        ]\n",
    "    },\n",
    "    \"notes\": \"\"\n",
    "}\n",
    "```\n",
    "\n",
    "## 1. Problem Statement\n",
    "A 50 kg iron block at a temperature of 80 deg C is immersed into a 0.5 m$^3$ water bath, which is initially at 25 deg C. Determine the temperature when equilibrium is reached.\n",
    "\n",
    "**Goal**: \n",
    "* ...\n",
    "\n",
    "## 2. Schematic\n",
    "Draw a control volume. One control volume for the iron block (CV1). Another control volume for the water bath (CV2).\n",
    "\n",
    "## 3. Assumptions and Approximations\n",
    "* Neglect kinetic and potential energy\n",
    "* Closed system (no mass in or out)\n",
    "* Constant values for specific heat\n",
    "* No work transfer\n",
    "    \n",
    "## 4. Physical Laws and Governing Equations\n",
    "- Conservation of energy.\n",
    "\n",
    "$$\\Delta E_\\text{CV1+CV2} = E_\\text{in,CV1+CV2} - E_\\text{out,CV1+CV2} $$\n",
    "\n",
    "$$\\left( \\Delta U + \\Delta KE + \\Delta PE \\right)_\\text{CV1+CV2} = (W_\\text{in} + Q_\\text{in})_\\text{CV1+CV2} - (W_\\text{out} + Q_\\text{out})_\\text{CV1+CV2}  $$\n",
    "\n",
    "No work or heat transfer:\n",
    "$$\\left( \\Delta U \\right)_\\text{CV1+CV2} = 0 $$\n",
    "\n",
    "$$\\Delta U_\\text{CV1} + \\Delta U_\\text{CV2} = 0 \\tag{1}$$\n",
    "\n",
    "No heat will be transferred out of or into the combined control volumes of CV1 and CV2 (adiabatic).\n",
    "\n",
    "### Change in internal energy of the iron block\n",
    "\n",
    "For incompressible solids:\n",
    "\n",
    "$$du = c_V(T)dT \\text{ (solids)} $$\n",
    "\n",
    "$$\\Delta u = \\int_1^2c_V(T)dT \\approx c_\\text{V,avg}(T_2 - T_\\text{1,Fe}) $$\n",
    "\n",
    "We will select the value of $c_\\text{V,Fe}$ at $T=T_\\text{1,Fe}$, $c_\\text{V,Fe}=c_\\text{V,Fe}(T_\\text{1,Fe})$. Substituting into equation (1):\n",
    "\n",
    "$$\\Delta U_\\text{CV1} = m_\\text{Fe} c_\\text{V,Fe} (T_2 - T_\\text{1,Fe}) \\tag{2} $$\n",
    "\n",
    "### Conservation of energy of the water bath\n",
    "\n",
    "For incompressible liquids, $c_p = c_V = c$, therefore:\n",
    "\n",
    "$$du = c_V(T)dT $$\n",
    "\n",
    "$$\\Delta u = \\int_1^2c_V(T)dT \\approx c_\\text{V,avg}(T_2 - T_1) $$\n",
    "\n",
    "We will select the value of $c_\\text{H2O}$ at $T=T_\\text{1,H2O}$, $c_\\text{V,H2O}=c_\\text{V,H2O}(T_\\text{1,H2O})$. (We will see in the property tables that the only value for specific heat that is available is for room temperature. This should be okay since the initial and final temperature difference is not that large.) Substituting into equation (1):\n",
    "\n",
    "$$\\Delta U_\\text{CV2} = m_\\text{H2O} c_\\text{V,H2O} (T_2 - T_\\text{1,H2O})  \\tag{3} $$\n",
    "\n",
    "Combining equations (1)-(3):\n",
    "\n",
    "$$ m_\\text{Fe} c_\\text{V,Fe} (T_2 - T_\\text{1,Fe}) + m_\\text{H2O} c_\\text{V,H2O} (T_2 - T_\\text{1,H2O}) = 0  $$\n",
    "\n",
    "Rearranging:\n",
    "\n",
    "$$ T_2  = \\frac{m_\\text{Fe} c_\\text{V,Fe} T_\\text{1,Fe} +  m_\\text{H2O} c_\\text{V,H2O} T_\\text{1,H2O}}{m_\\text{Fe} c_\\text{V,Fe} + m_\\text{H2O} c_\\text{V,H2O}} $$\n",
    "\n",
    "When looking up property tables in the textbook, you will see that the only values that are available are $c_p$. Since the substances are incompressible, it is okay to substitute $c_p = c_V$ into the above equation.\n",
    "\n",
    "### Alternative solution\n",
    "\n",
    "You could analyze CV1 and CV2, and set the heat transferred out of the iron block to be equal to the heat transferred into the water bath. The combined control volumes would be treated as adiabatic with no work transfer. "
   ]
  },
  {
   "cell_type": "code",
   "execution_count": 1,
   "id": "af5adf84-4025-4054-81ad-4d58e217fcfc",
   "metadata": {},
   "outputs": [],
   "source": [
    "## 5. Properties (Code Cell)\n",
    "vH2O_m3PerKg = 0.001\n",
    "VH2O_m3 = 0.5\n",
    "\n",
    "mH2O_kg = VH2O_m3/vH2O_m3PerKg\n",
    "\n",
    "mFe_kg = 50\n",
    "\n",
    "T1H2O_C = 25\n",
    "T1Fe_C = 80\n",
    "\n",
    "cFe_kJperKgPerK = 0.45 # taken at room temperature\n",
    "cH2O_kJperKgPerK = 4.18 # taken at 25 deg C"
   ]
  },
  {
   "cell_type": "code",
   "execution_count": 2,
   "id": "e006e54a-88e7-46b5-9ef4-713bbce3f8c5",
   "metadata": {},
   "outputs": [
    {
     "name": "stdout",
     "output_type": "stream",
     "text": [
      "25.585798816568047\n"
     ]
    }
   ],
   "source": [
    "# 6 Calculations (Code Cell)\n",
    "T2_C = (mFe_kg*cFe_kJperKgPerK*T1Fe_C + mH2O_kg*cH2O_kJperKgPerK*T1H2O_C)/(mFe_kg*cFe_kJperKgPerK + mH2O_kg*cH2O_kJperKgPerK)\n",
    "print(T2_C)"
   ]
  },
  {
   "cell_type": "markdown",
   "id": "73bb240c-8850-4d30-a6f0-99005f62fef9",
   "metadata": {},
   "source": [
    "## 7. Summary and Reasoning\n",
    "It makes sense that the final temperature, $T_2$, is between the initial iron and water temperature. "
   ]
  }
 ],
 "metadata": {
  "kernelspec": {
   "display_name": "Python 3 (ipykernel)",
   "language": "python",
   "name": "python3"
  },
  "language_info": {
   "codemirror_mode": {
    "name": "ipython",
    "version": 3
   },
   "file_extension": ".py",
   "mimetype": "text/x-python",
   "name": "python",
   "nbconvert_exporter": "python",
   "pygments_lexer": "ipython3",
   "version": "3.11.13"
  }
 },
 "nbformat": 4,
 "nbformat_minor": 5
}
