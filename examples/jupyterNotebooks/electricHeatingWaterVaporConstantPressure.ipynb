{
 "cells": [
  {
   "cell_type": "markdown",
   "id": "2284beac-6b06-4b91-a3fa-95ae4e3c7b5f",
   "metadata": {},
   "source": [
    "## Problem Metadata \n",
    "DO NOT DELETE (JSON Block; the metadata and course context MUST be in the first cell)\n",
    "\n",
    "```json\n",
    "{\n",
    "    \"problem_title\": \"electricHeatingWaterVaporConstantPressure\",\n",
    "    \"author\": \"tschutzius\",\n",
    "    \"year\": \"Fa25\",\n",
    "    \"difficulty_tags\": [\"easy\"],\n",
    "    \"topic\": \"Closed Systems\",\n",
    "    \"lecture_reference\": {\n",
    "        \"lecture_id\": \"1_3375c5yj\",\n",
    "        \"subtopics\": [\n",
    "            {\n",
    "              \"key\": \"Fa25-L4c-1.0\",\n",
    "              \"title\": \"Electric heating of water vapor at constant pressure\",\n",
    "            }\n",
    "        ]\n",
    "    },\n",
    "    \"book_reference\": {\n",
    "          \"chapter_number\": 4,\n",
    "          \"title\": \"Energy Analysis of Closed Systems\",\n",
    "        \"sections\": [\n",
    "            \"Moving Boundary Work\",\n",
    "            \"Energy Balance for Closed Systems\",\n",
    "        ]\n",
    "    },\n",
    "    \"notes\": \"\"\n",
    "}\n",
    "```\n",
    "\n",
    "## 1. Problem Statement\n",
    "A piston cylinder contains 25 g of saturated water vapor at 300 kPa. The piston is kept at constant pressure while heat is transferred out. The cylinder contains a resistor inside of it while a voltage of 120 V is applied and 0.2 A of current passes through it for 5 min. \n",
    "\n",
    "**Goal**: \n",
    "* Determine the final temperature of the steam\n",
    "* Determine $(u_2 + p_2 v_2) - (u_1 + p_1 v_1)$\n",
    "\n",
    "## 2. Schematic\n",
    "Draw a schematic of a piston cylinder. Show that electrical work is transferred into the piston and heat is transferred out of it. \n",
    "\n",
    "## 3. Assumptions and Approximations\n",
    "* Use `pyCalor` to determine water properties. \n",
    "* Neglect changes in kinetic and potential energy.\n",
    "* Closed system (no mass in or out)\n",
    "\n",
    "## 4. Physical Laws and Governing Equations\n",
    "\n",
    "Conservation of energy: \n",
    "$$\\Delta E_\\text{CV} = E_\\text{in} - E_\\text{out} $$\n",
    "\n",
    "$$\\Delta U + \\Delta KE + \\Delta PE = (W_\\text{in} + Q_\\text{in}) - (W_\\text{out} + Q_\\text{out})  $$\n",
    "\n",
    "Neglect changes in kinetic and potential energy:\n",
    "$$\\Delta U = (W_\\text{in}) - (W_\\text{out} + Q_\\text{out}) $$\n",
    "\n",
    "$$ W_\\text{out} = p_1 (V_2 - V_1) $$\n",
    "\n",
    "$$ W_\\text{out} = p_1 m (v_2 - v_1) $$\n",
    "\n",
    "$$ W_\\text{in} = \\text{V} I \\Delta t $$\n",
    "\n",
    "Combining yields:\n",
    "\n",
    "$$m (u_2 - u_1) = \\text{V} I \\Delta t  - p_1 m (v_2 - v_1)  - Q_\\text{out} $$\n",
    "\n",
    "Rearranging:\n",
    "\n",
    "$$m \\left[ \\left(u_2 + p_1 v_2\\right) - \\left( u_1 + p_1 v_1 \\right) \\right] = \\text{V} I \\Delta t   - Q_\\text{out} $$\n",
    "\n",
    "Since $p_2 = p_1$, we have:\n",
    "\n",
    "$$m \\left[ \\left(u_2 + p_2 v_2\\right) - \\left( u_1 + p_1 v_1 \\right) \\right] = \\text{V} I \\Delta t   - Q_\\text{out} $$\n",
    "\n",
    "The definition of enthalpy is:\n",
    "\n",
    "$$ h = u + p v$$\n",
    "\n",
    "Therefore,\n",
    "\n",
    "$$m \\left[ h_2 - h_1 \\right] = \\text{V} I \\Delta t   - Q_\\text{out} $$\n",
    "\n",
    "$$h_2  = \\text{V} I \\Delta t /m   - Q_\\text{out} / m + h_1$$\n",
    "\n",
    "We need to determine the specific volumes at state 2 and state 1."
   ]
  },
  {
   "cell_type": "code",
   "execution_count": 1,
   "id": "2e18d5c0-8aa7-4fb2-9734-18dc613c53af",
   "metadata": {},
   "outputs": [
    {
     "name": "stdout",
     "output_type": "stream",
     "text": [
      "Collecting pyCalor\n",
      "  Using cached pycalor-1.0.21-py3-none-any.whl.metadata (4.8 kB)\n",
      "Collecting CoolProp (from pyCalor)\n",
      "  Using cached coolprop-7.1.0-cp311-cp311-manylinux_2_17_x86_64.manylinux2014_x86_64.whl.metadata (282 bytes)\n",
      "Collecting igraph (from pyCalor)\n",
      "  Using cached igraph-0.11.9-cp39-abi3-manylinux_2_17_x86_64.manylinux2014_x86_64.whl.metadata (4.4 kB)\n",
      "Collecting texttable>=1.6.2 (from igraph->pyCalor)\n",
      "  Using cached texttable-1.7.0-py2.py3-none-any.whl.metadata (9.8 kB)\n",
      "Using cached pycalor-1.0.21-py3-none-any.whl (24 kB)\n",
      "Using cached coolprop-7.1.0-cp311-cp311-manylinux_2_17_x86_64.manylinux2014_x86_64.whl (15.1 MB)\n",
      "Using cached igraph-0.11.9-cp39-abi3-manylinux_2_17_x86_64.manylinux2014_x86_64.whl (4.4 MB)\n",
      "Using cached texttable-1.7.0-py2.py3-none-any.whl (10 kB)\n",
      "Installing collected packages: texttable, CoolProp, igraph, pyCalor\n",
      "\u001b[2K   \u001b[90m━━━━━━━━━━━━━━━━━━━━━━━━━━━━━━━━━━━━━━━━\u001b[0m \u001b[32m4/4\u001b[0m [pyCalor]m2/4\u001b[0m [igraph]p]\n",
      "\u001b[1A\u001b[2KSuccessfully installed CoolProp-7.1.0 igraph-0.11.9 pyCalor-1.0.21 texttable-1.7.0\n"
     ]
    }
   ],
   "source": [
    "## 5. Properties (Code Cell)\n",
    "\n",
    "!pip install pyCalor\n",
    "from pyCalor import thermo as th\n",
    "\n",
    "# state 1\n",
    "m_kg = 25/1000\n",
    "p1_kPa = 300\n",
    "x1 = 1\n",
    "\n",
    "st1 = th.state('water', p = (p1_kPa,'kpa'), x = x1, name='1')\n",
    "\n",
    "# state 2\n",
    "p2_kPa = p1_kPa\n",
    "\n",
    "# inputs\n",
    "Qout_kJ = 3.7\n",
    "I_A = 0.2\n",
    "Volt_V = 120\n",
    "dt_min = 5"
   ]
  },
  {
   "cell_type": "code",
   "execution_count": 7,
   "id": "7d3a5b04-fb1c-4589-8890-934a78b3e9b2",
   "metadata": {},
   "outputs": [
    {
     "name": "stdout",
     "output_type": "stream",
     "text": [
      "7.2\n",
      "3009.1826302959594\n",
      "T2: 270.33 deg C\n"
     ]
    },
    {
     "data": {
      "image/png": "[encoded data removed]",
      "text/plain": [
       "<Figure size 640x480 with 1 Axes>"
      ]
     },
     "metadata": {},
     "output_type": "display_data"
    },
    {
     "name": "stdout",
     "output_type": "stream",
     "text": [
      "u2 + p2*v2 - (u1 + p1*v1) = 284.30 kJ/kg\n",
      "h2 - h1 = 284.30 kJ/kg\n"
     ]
    }
   ],
   "source": [
    "# 6 Calculations (Code Cell)\n",
    "Win_e_J = I_A*Volt_V*(dt_min*60)\n",
    "Win_e_kJ = Win_e_J/1e3; print(Win_e_kJ)\n",
    "\n",
    "h2_J = (I_A*Volt_V*(dt_min*60)/m_kg) - (Qout_kJ*1e3) + st1.h*1e3\n",
    "h2_kJ = h2_J/1000; print(h2_kJ)\n",
    "\n",
    "# determine state 2 using h2\n",
    "st2 = th.state('water', p = (p2_kPa,'kpa'), h = h2_kJ, name='2')\n",
    "\n",
    "# by knowing state 2, we can determine T2\n",
    "T2_K = st2.T\n",
    "T2_C = T2_K - 273.15\n",
    "print('T2: {0:1.2f} deg C'.format(T2_C))\n",
    "\n",
    "# define the process using pyCalor\n",
    "pr = th.process([(st1,st2)])\n",
    "\n",
    "# plot the process on a pressure-specific volume diagram\n",
    "pr.plot('pv');\n",
    "\n",
    "# determine u2 + p2*v2 - (u1 + p1*v1)\n",
    "h2 = st2.u + st2.v*st2.p\n",
    "h1 = st1.u + st1.v*st1.p\n",
    "\n",
    "answer = h2 - h1\n",
    "print('u2 + p2*v2 - (u1 + p1*v1) = {0:1.2f} kJ/kg'.format(answer))\n",
    "\n",
    "# st2.h - st1.h #kJ/kg\n",
    "print('h2 - h1 = {0:1.2f} kJ/kg'.format(st2.h - st1.h))"
   ]
  },
  {
   "cell_type": "markdown",
   "id": "8d136144-6a71-45c3-91f7-b99d9dd7c7d7",
   "metadata": {},
   "source": [
    "## 7. Summary and Reasoning\n",
    "We determined the temperature of the steam at state 2. We also compared $u_2 + p_2v_2 - (u_1 + p_1v_1)$ with $h_2 - h_1$ and found that they were the same.  "
   ]
  },
  {
   "cell_type": "code",
   "execution_count": null,
   "id": "d95a6616-6a41-4e4d-9329-b0726bdd8216",
   "metadata": {},
   "outputs": [],
   "source": []
  }
 ],
 "metadata": {
  "kernelspec": {
   "display_name": "Python 3 (ipykernel)",
   "language": "python",
   "name": "python3"
  },
  "language_info": {
   "codemirror_mode": {
    "name": "ipython",
    "version": 3
   },
   "file_extension": ".py",
   "mimetype": "text/x-python",
   "name": "python",
   "nbconvert_exporter": "python",
   "pygments_lexer": "ipython3",
   "version": "3.11.13"
  }
 },
 "nbformat": 4,
 "nbformat_minor": 5
}
