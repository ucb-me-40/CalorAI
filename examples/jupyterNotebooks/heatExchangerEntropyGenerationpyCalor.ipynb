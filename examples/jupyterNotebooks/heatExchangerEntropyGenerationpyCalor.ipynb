{
 "cells": [
  {
   "cell_type": "markdown",
   "id": "7e865eab-1a45-4fda-af06-93aa71d9331e",
   "metadata": {},
   "source": [
    "## Problem Metadata \n",
    "DO NOT DELETE (JSON Block; the metadata and course context MUST be in the first cell)\n",
    "\n",
    "```json\n",
    "{\n",
    "    \"problem_title\": \"heatExchangerEntropyGenerationpyCalor\",\n",
    "    \"author\": \"tschutzius\",\n",
    "    \"year\": \"Fa25\",\n",
    "    \"difficulty_tags\": [\"medium\"],\n",
    "    \"topic\": \"Properties\",\n",
    "    \"lecture_reference\": {\n",
    "        \"lecture_id\": \"\",\n",
    "        \"subtopics\": [\n",
    "            {\n",
    "              \"key\": \"Fa25-L7c-5.0\",\n",
    "              \"title\": \"Heat exchanger entropy balance\",\n",
    "            }\n",
    "        ]\n",
    "    },\n",
    "    \"book_reference\": {\n",
    "        \"chapter_number\": 7,\n",
    "        \"title\": \"Entropy\",\n",
    "        \"sections\": [\n",
    "            \"Entropy Balance\"\n",
    "        ]\n",
    "    },\n",
    "    \"notes\": \"\"\n",
    "}\n",
    "```\n",
    "\n",
    "## 1. Problem Statement\n",
    "Problem 7-141 from Cengels Thermodynamics 9th edition\n",
    "\n",
    "Cold water ($c_p$ = 4.18 kJ/kg.°C) leading to a shower enters a well-insulated, thin-walled, double-pipe, counterflow heat exchanger at 10°C at a rate of 0.95 kg/s and is heated to 70°C by hot water ($c_p$ = 4.19 kJ/kg.°C) that enters at 85°C at a rate of 1.6 kg/s. \n",
    "\n",
    "Determine (a) the rate of heat transfer and (b) the rate of entropy generation in the heat exchanger.\n",
    "\n",
    "## 2. Schematic\n",
    "Draw a heat exchanger that is well-insulated on the outside. There are two inlets and two outlets and the two streams do not mix, but they do transfer heat. We will say that the cold water enters the heat exchanger at state 1 and exits at state 2. We will say that the hot water enters the heat exchanger at state 3 and exits at state 4. \n",
    "\n",
    "We will draw a control volume around the cold water pipe (states 1 to 2), which we will call Control Volume I (CVI). We will draw another control volume around the hot water pipe (states 3 to 4), which we will call Control Volume II (CVII). \n",
    "\n",
    "\n",
    "## 3. Assumptions and Approximations\n",
    "* **Control Volume** (mass crosses the boundary).\n",
    "* Cannot be treated as an ideal gas. We will use pyCalor to determine properties.\n",
    "* Neglect kinetic and potential energy ($\\Delta KE \\approx 0$, $\\Delta PE \\approx 0$).\n",
    "* The outside of the heat exchanger is assumed to be **adiabatic**.\n",
    "* **Steady-flow process** ($\\Delta m_\\text{CV}= 0$, $\\Delta E_\\text{CV}= 0$, $\\Delta S_\\text{CV}= 0$).\n",
    "* We have a single inlet and outlet ($\\dot{m}_\\text{in}$ and $\\dot{m}_\\text{out}$) for the cold water stream.\n",
    "* We have a single inlet and outlet ($\\dot{m}_\\text{in}$ and $\\dot{m}_\\text{out}$) for the hot water stream.\n",
    "* $(\\dot{Q}_\\text{in})_{12} = (\\dot{Q}_\\text{out})_{34}$\n",
    "    \n",
    "## 4. Physical Laws and Governing Equations\n",
    "CVI: Analyze the cold water control volume. Assume steady state.\n",
    "\n",
    "$$\\dot{m}_\\text{in} = \\dot{m}_\\text{out} = \\dot{m}_\\text{cold}$$\n",
    "\n",
    "$$\\dot{E}_\\text{in} = \\dot{E}_\\text{out}$$\n",
    "\n",
    "$$\\dot{W}_\\text{in} + \\dot{Q}_\\text{in} + \\dot{m}_\\text{cold}\\left(h_1 + w_1^2/2 + gz_1 \\right) = \\dot{W}_\\text{out} + \\dot{Q}_\\text{out} + \\dot{m}_\\text{cold}\\left(h_2 + w_2^2/2 + gz_1 \\right)$$\n",
    "\n",
    "Neglecting potential and kinetic energy differences:\n",
    "\n",
    "$$\\dot{Q}_\\text{in} + \\dot{m}_\\text{cold}\\left(h_1\\right) = \\dot{m}_\\text{cold}\\left(h_2 \\right)$$\n",
    "\n",
    "Differences in specific enthalpy can be determined by pyCalor or by specific heat at constant pressure times the temperature difference:\n",
    "\n",
    "$$(\\dot{Q}_\\text{in})_{12} = \\dot{m}_\\text{cold}\\left(h_2 - h_1 \\right) \\approx \\dot{m}_\\text{cold} c_p \\left(T_2 - T_1 \\right)$$ \n",
    "\n",
    "With that formula we can determine the rate of heat transfer and answer part (a) of the question. It can also be shown that the heat transferred out of Control Volume II (CVII) is:\n",
    "\n",
    "$$(\\dot{Q}_\\text{out})_{34} = \\dot{m}_\\text{hot}\\left(h_3 - h_4 \\right) \\approx \\dot{m}_\\text{hot} c_p \\left(T_3 - T_4 \\right)$$ \n",
    "\n",
    "We can now work on determining the rate of entropy generation:\n",
    "\n",
    "$\\dot{S}_\\text{in} - \\dot{S}_\\text{out} + \\dot{S}_\\text{gen} = \\frac{dS_\\text{system}}{dt}$\n",
    "\n",
    "For this we will now combine CVI and CVII. Recall that there is no heat transfer in or out of the combined CVI and CVII. Entopy is only transferred into and out of the combined control volume through mass entering and leaving. We also assume steady state, therefore:\n",
    "\n",
    "$\\dot{m}_\\text{cold}s_1 + \\dot{m}_\\text{hot}s_3 - \\dot{m}_\\text{cold}s_2 - \\dot{m}_\\text{hot}s_4 + \\dot{S}_\\text{gen} = 0$ \n",
    "\n",
    "$\\implies  \\dot{S}_\\text{gen} = -\\dot{m}_\\text{cold}s_1 + -\\dot{m}_\\text{hot}s_3 + \\dot{m}_\\text{cold}s_2 + \\dot{m}_\\text{hot}s_4$ \n",
    "\n",
    "$\\implies  \\dot{S}_\\text{gen} = \\dot{m}_\\text{cold} \\left(s_2 - s_1 \\right)  + \\dot{m}_\\text{hot} \\left( s_4 -s_3 \\right)$"
   ]
  },
  {
   "cell_type": "code",
   "execution_count": 5,
   "id": "c7660734",
   "metadata": {},
   "outputs": [
    {
     "name": "stdout",
     "output_type": "stream",
     "text": [
      "Requirement already satisfied: pyCalor in /srv/conda/lib/python3.11/site-packages (1.0.21)\n",
      "Requirement already satisfied: CoolProp in /srv/conda/lib/python3.11/site-packages (from pyCalor) (7.1.0)\n",
      "Requirement already satisfied: igraph in /srv/conda/lib/python3.11/site-packages (from pyCalor) (0.11.9)\n",
      "Requirement already satisfied: texttable>=1.6.2 in /srv/conda/lib/python3.11/site-packages (from igraph->pyCalor) (1.7.0)\n"
     ]
    }
   ],
   "source": [
    "## 5. Properties (Code Cell)\n",
    "!pip install pyCalor\n",
    "from pyCalor import thermo as th\n",
    "cpCold_kJperKgperK = 4.18\n",
    "cpHot_kJperKgperK = 4.19\n",
    "\n",
    "T1_C = 10\n",
    "T2_C = 70\n",
    "mdot12_kgPerS = 0.95\n",
    "\n",
    "T3_C = 85\n",
    "mdot34_kgPerS = 1.6\n",
    "\n",
    "substance = 'water'"
   ]
  },
  {
   "cell_type": "code",
   "execution_count": 6,
   "id": "e37dab8c-aafe-49f8-b734-0bb0edb067a5",
   "metadata": {},
   "outputs": [
    {
     "name": "stdout",
     "output_type": "stream",
     "text": [
      "(a) The rate of heat transfer into the cold water (CVI) is QdotIn12_kW = 238.3 kW.\n",
      "(a) Alternate answer: QdotIn12_kW = 238.5 kW.\n",
      "207.0562758630595\n",
      "(b) Sgen_kWperK = 0.063 kW/K.\n"
     ]
    }
   ],
   "source": [
    "# 6 Calculations (Code Cell)\n",
    "QdotIn12_kW = mdot12_kgPerS * cpCold_kJperKgperK* (T2_C  - T1_C) \n",
    "print('(a) The rate of heat transfer into the cold water (CVI) is QdotIn12_kW = {0:1.1f} kW.'.format(QdotIn12_kW))\n",
    "\n",
    "# Let's compare this value with what we get when we use the property tables. \n",
    "\n",
    "p1_MPa = 0.1\n",
    "water_1 = th.state(substance,p=(p1_MPa,'Mpa'),T=(T1_C,'C'),name='1')\n",
    "water_2 = th.state(substance,p=(p1_MPa,'Mpa'),T=(T2_C,'C'),name='2')\n",
    "\n",
    "QdotIn12_kW_ = mdot12_kgPerS * (water_2.h  - water_1.h)\n",
    "print('(a) Alternate answer: QdotIn12_kW = {0:1.1f} kW.'.format(QdotIn12_kW_))\n",
    "\n",
    "# part (b)\n",
    "water_3 = th.state(substance,p=(p1_MPa,'Mpa'),T=(T3_C,'C'),name='3')\n",
    "\n",
    "h4_kJperKg = water_3.h  - QdotIn_kW_/mdot34_kgPerS; print(h4_kJperKg)\n",
    "\n",
    "water_4 = th.state(substance,p=(p1_MPa,'Mpa'),h=(h4_kJperKg,'kJ/kg'),name='4')\n",
    "\n",
    "Sgen_kWperK = mdot12_kgPerS*(water_2.s - water_1.s) + mdot34_kgPerS*(water_4.s - water_3.s)#; print(Sgen_kWperK)\n",
    "print('(b) Sgen_kWperK = {0:1.3f} kW/K.'.format(Sgen_kWperK))"
   ]
  },
  {
   "cell_type": "markdown",
   "id": "c74e6dab-f006-4e6f-818e-f5fa102b1915",
   "metadata": {},
   "source": [
    "## 7. 💡 Summary and Reasoning\n",
    "Approximating changes in enthalpy with $c_p \\Delta T$ was a good assumption for heating water. The rate of entropy generation was positive, even though the outside of the heat exchanger was well-insulated, since we were transferring heat from a hot fluid to a cold fluid.   "
   ]
  },
  {
   "cell_type": "code",
   "execution_count": null,
   "id": "bbad0b83-c0c1-476f-9087-eede2680d1cb",
   "metadata": {},
   "outputs": [],
   "source": []
  },
  {
   "cell_type": "code",
   "execution_count": null,
   "id": "86963fba-ca30-4fbd-b542-f32c4920a0a6",
   "metadata": {},
   "outputs": [],
   "source": []
  }
 ],
 "metadata": {
  "kernelspec": {
   "display_name": "Python 3 (ipykernel)",
   "language": "python",
   "name": "python3"
  },
  "language_info": {
   "codemirror_mode": {
    "name": "ipython",
    "version": 3
   },
   "file_extension": ".py",
   "mimetype": "text/x-python",
   "name": "python",
   "nbconvert_exporter": "python",
   "pygments_lexer": "ipython3",
   "version": "3.11.13"
  }
 },
 "nbformat": 4,
 "nbformat_minor": 5
}
