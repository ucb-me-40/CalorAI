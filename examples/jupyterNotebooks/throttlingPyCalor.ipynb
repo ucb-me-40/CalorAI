{
 "cells": [
  {
   "cell_type": "markdown",
   "id": "8c482fad-6438-40d9-932f-46c2bceefa7e",
   "metadata": {},
   "source": [
    "## Problem Metadata \n",
    "DO NOT DELETE (JSON Block; the metadata and course context MUST be in the first cell)\n",
    "\n",
    "```json\n",
    "{\n",
    "    \"problem_title\": \"throttlingPyCalor\",\n",
    "    \"author\": \"tschutzius\",\n",
    "    \"year\": \"Fa25\",\n",
    "    \"difficulty_tags\": [\"easy\"],\n",
    "    \"topic\": \"Control Volumes\",\n",
    "    \"lecture_reference\": {\n",
    "        \"lecture_id\": \"1_97hqf37r\",\n",
    "        \"subtopics\": [\n",
    "            {\n",
    "              \"key\": \"Fa25-L5c-1.0\",\n",
    "              \"title\": \"Throttling and Expansion Valves\",\n",
    "            }\n",
    "        ]\n",
    "    },\n",
    "    \"book_reference\": {\n",
    "              \"chapter_number\": 5,\n",
    "              \"title\": \"Mass and Energy Analysis of Control Volumes\",\n",
    "        \"sections\": [\n",
    "            \"Some Steady-Flow Engineering Devices\",\n",
    "        ]\n",
    "    },\n",
    "    \"notes\": \"\"\n",
    "}\n",
    "```\n",
    "\n",
    "## 1. Problem Statement\n",
    "Refrigerant-134a enters a throttling valve at $p_3=$0.8 MPa and $T_3=$50$^\\circ$C and exits at $p_4=$0.15 MPa. \n",
    "\n",
    "**Goal**: \n",
    "* Determine the exit temperature of the throttling device, $T_4$.\n",
    "\n",
    "## 2. Schematic\n",
    "Draw a schematic of a throttling device. Indicate that there is no heat transfer or work transfer in or out. \n",
    "\n",
    "## 3. Assumptions and Approximations\n",
    "* Adiabatic\n",
    "* No work transfer\n",
    "* Neglect kinetic and potential energy\n",
    "* Steady-flow system\n",
    "* Determine properties using `pyCalor`. \n",
    "    \n",
    "## 4. Physical Laws and Governing Equations\n",
    "Conservation of mass:\n",
    "$$\\frac{dm_\\text{CV}}{dt} = \\dot{m}_\\text{in} - \\dot{m}_\\text{out} $$\n",
    "\n",
    "Steady flow:\n",
    "$$0 = \\dot{m}_\\text{in} - \\dot{m}_\\text{out} $$\n",
    "$$\\dot{m}_\\text{in} = \\dot{m}_\\text{out} = \\dot{m}$$\n",
    "\n",
    "Conservation of energy:\n",
    "Conservation of mass:\n",
    "$$\\frac{dE_\\text{CV}}{dt} = \\dot{E}_\\text{in} - \\dot{E}_\\text{out} $$\n",
    "\n",
    "Steady flow:\n",
    "$$0 = \\dot{E}_\\text{in} - \\dot{E}_\\text{out} $$\n",
    "$$\\dot{E}_\\text{in} = \\dot{E}_\\text{out}$$\n",
    "\n",
    "$$\\dot{W}_\\text{in} + \\dot{Q}_\\text{in} + \\dot{m} \\left(h_3 + (w_3^2/2) + g z_3 \\right) = \\dot{W}_\\text{out} + \\dot{Q}_\\text{out} + \\dot{m} \\left(h_4 + (w_4^2/2) + g z_4 \\right)$$\n",
    "\n",
    "Neglecting changes in kinetic and potential energy; no work transfer; no heat transfer:\n",
    "$$h_3 = h_4 $$\n",
    "\n",
    "We see that this process is isenthalpic. By determining $h_4$, we can now determine state 4 since we know $p_4$."
   ]
  },
  {
   "cell_type": "code",
   "execution_count": 1,
   "id": "3a61955b",
   "metadata": {},
   "outputs": [
    {
     "name": "stdout",
     "output_type": "stream",
     "text": [
      "Requirement already satisfied: pyCalor in /srv/conda/lib/python3.11/site-packages (1.0.19)\n",
      "Requirement already satisfied: CoolProp in /srv/conda/lib/python3.11/site-packages (from pyCalor) (7.0.0)\n",
      "Requirement already satisfied: igraph in /srv/conda/lib/python3.11/site-packages (from pyCalor) (0.11.9)\n",
      "Requirement already satisfied: texttable>=1.6.2 in /srv/conda/lib/python3.11/site-packages (from igraph->pyCalor) (1.7.0)\n"
     ]
    }
   ],
   "source": [
    "!pip install pyCalor"
   ]
  },
  {
   "cell_type": "code",
   "execution_count": 3,
   "id": "bc064890",
   "metadata": {},
   "outputs": [],
   "source": [
    "## 5. Properties (Code Cell)\n",
    "from pyCalor import thermo as th\n",
    "\n",
    "mdot_kgPerS = 0.05\n",
    "fluid = 'R134a'\n",
    "\n",
    "# state 3\n",
    "p3_MPa = 0.8\n",
    "x3 = 0.0\n",
    "st3 = th.state(fluid,p=(p3_MPa,'Mpa'),x=x3,name='3')\n",
    "\n",
    "# state 4\n",
    "p4_MPa = 0.15\n",
    "# isenthalpic process, 3 to 4, h4 = st3.h\n",
    "st4 = th.state(fluid,h=st3.h,p=(p4_MPa,'Mpa'),name='4')"
   ]
  },
  {
   "cell_type": "code",
   "execution_count": 4,
   "id": "c6fd1a1e-7cf1-4108-8861-07c059bc96d6",
   "metadata": {},
   "outputs": [
    {
     "name": "stdout",
     "output_type": "stream",
     "text": [
      "256.0177408046552\n"
     ]
    }
   ],
   "source": [
    "## 6 Calculations (Code Cell)\n",
    "T4_K = st4.T; print(T4_K)"
   ]
  },
  {
   "cell_type": "markdown",
   "id": "801f9a3f-105d-41a4-9bfd-103a39f5fdfb",
   "metadata": {},
   "source": [
    "## 7. Summary and Reasoning\n",
    "Since it's an isenthalpic process, we are able to determine the downstream specific enthalpy. By knowing that and the pressure, which is given, we were able to determine the temperature. We also see that the temperature is lower after throttling, which is the purpose of the device. "
   ]
  },
  {
   "cell_type": "code",
   "execution_count": null,
   "id": "8e53d1a3-3015-4bde-a109-64fb949457e5",
   "metadata": {},
   "outputs": [],
   "source": []
  }
 ],
 "metadata": {
  "kernelspec": {
   "display_name": "Python 3 (ipykernel)",
   "language": "python",
   "name": "python3"
  },
  "language_info": {
   "codemirror_mode": {
    "name": "ipython",
    "version": 3
   },
   "file_extension": ".py",
   "mimetype": "text/x-python",
   "name": "python",
   "nbconvert_exporter": "python",
   "pygments_lexer": "ipython3",
   "version": "3.11.13"
  }
 },
 "nbformat": 4,
 "nbformat_minor": 5
}
