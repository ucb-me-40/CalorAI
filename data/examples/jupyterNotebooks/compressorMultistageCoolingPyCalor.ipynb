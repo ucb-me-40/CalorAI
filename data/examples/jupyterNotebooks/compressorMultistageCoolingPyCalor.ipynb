{
 "cells": [
  {
   "cell_type": "markdown",
   "id": "92d7e318-9342-48b4-b7e7-a2f74e62a71b",
   "metadata": {},
   "source": [
    "## Problem Metadata \n",
    "DO NOT DELETE (JSON Block; the metadata and course context MUST be in the first cell)\n",
    "\n",
    "```json\n",
    "{\n",
    "    \"problem_title\": \"compressorMultistageCoolingPyCalor\",\n",
    "    \"author\": \"tschutzius\",\n",
    "    \"year\": \"Fa25\",\n",
    "    \"difficulty_tags\": [\"medium\"],\n",
    "    \"topic\": \"Entropy\",\n",
    "    \"lecture_reference\": {\n",
    "        \"lecture_id\": \"\",\n",
    "        \"subtopics\": [\n",
    "            {\n",
    "              \"key\": \"Fa25-L7c-3.0\",\n",
    "              \"title\": \"Multisage Compressor With Cooling\",\n",
    "            }\n",
    "        ]\n",
    "    },\n",
    "    \"book_reference\": {\n",
    "        \"chapter_number\": 7,\n",
    "        \"title\": \"Entropy\",\n",
    "        \"sections\": [\n",
    "            \"Reversible Steady-Flow Work\",\n",
    "            \"Minimizing the Compressor Work\",\n",
    "        ]\n",
    "    },\n",
    "    \"notes\": \"\"\n",
    "}\n",
    "```"
   ]
  },
  {
   "cell_type": "markdown",
   "id": "25408cda-f5d2-424b-beef-349cb8446028",
   "metadata": {},
   "source": [
    "## 1. Problem Statement\n",
    "Problem 7-190 from Cengels Thermodynamics 9th Edition\n",
    "\n",
    "Air enters a two-stage compressor at 100 kPa and 27°C and is compressed to 625 kPa. The pressure ratio across each stage is the same, and the air is cooled to the initial temperature between the two stages. \n",
    "\n",
    "**Goal**:\n",
    "- Assuming the compression process to be isentropic, determine the power input to the compressor for a mass flow rate of 0.15 kg/s.\n",
    "- What would your answer be if only one stage of compression were used?"
   ]
  },
  {
   "cell_type": "markdown",
   "id": "7b2caf2e-702c-47cc-9056-8ea695e6dc42",
   "metadata": {},
   "source": [
    "## 2. Schematic\n",
    "Draw two compressors connected in series. State 1 and 2 are the inlet and outlet of the first air compressor, respectively. States 3 and 4 are at the inlet and exit of the second air compressor, respectively. Heat is transferred out in between states 2 and 3. Indicate that the compressors are connected together by a shaft and that work is being transferred in. "
   ]
  },
  {
   "cell_type": "markdown",
   "id": "08f368c7-2133-4d9c-b9f5-944dfd031165",
   "metadata": {},
   "source": [
    "## 3. Assumptions and Approximations\n",
    "* **Control Volume** (mass crosses the boundary).\n",
    "* **Properties** We will use pyCalor to determine properties.\n",
    "* Neglect changes in kinetic and potential energy ($\\Delta KE\\approx0$, $\\Delta PE\\approx0$). (Justification: The velocities are typically low, or the change in height is negligible compared to the enthalpy change.)\n",
    "* **Reversible and Adiabatic processes**: Compression from states 1 to 2 and 3 to 4 are considered reversible and adiabatic.\n",
    "* **Steady-flow process** ($\\Delta m_\\text{CV}= 0$, $\\Delta E_\\text{CV}= 0$, $\\Delta S_\\text{CV}= 0$).\n",
    "* We have a single inlet and outlet ($\\dot{m}_\\text{in}$ and $\\dot{m}_\\text{out}$).\n",
    "* **Isobaric**: Heat exchangers are isobaric devices. (Justification: Negligible changes in pressure between the inlet and exit.)"
   ]
  },
  {
   "cell_type": "markdown",
   "id": "f5d4acf1-7983-416d-a3ab-068ee0d24f0d",
   "metadata": {},
   "source": [
    "## 4. Physical Laws and Governing Equations\n",
    "1.  **First Law of Thermodynamics (Energy Balance for Control Volume):**\n",
    "    $$\\frac{dE_\\text{CV}}{dt}=\\dot{E}_\\text{in}-\\dot{E}_\\text{out}$$\n",
    "\n",
    "2.  **Conservation of Mass (Mass Balance for a Control Volume):**\n",
    "    $$\\frac{dm_\\text{CV}}{dt}=\\dot{m}_\\text{in}-\\dot{m}_\\text{out}$$\n",
    "\n",
    "Since this is a steady flow process, we can write:\n",
    "$$\\dot{E}_\\text{in}=\\dot{E}_\\text{out}$$\n",
    "\n",
    "$$\\dot{m}_\\text{in}=\\dot{m}_\\text{out}=\\dot{m}$$\n",
    "\n",
    "We can then write for a compressor:\n",
    "$$\\dot{W}_\\text{in}+\\dot{Q}_\\text{in}+\\dot{m}\\left(h_1+\\frac{w_1^2}{2}+g~z_1\\right)=\\dot{W}_\\text{out}+\\dot{Q}_\\text{out}+\\dot{m}\\left(h_2+\\frac{w_1^2}{2}+g~z_2\\right)$$\n",
    "\n",
    "Neglecting changes in kinetic and potential energy:\n",
    "$$\\dot{W}_\\text{in}+\\dot{Q}_\\text{in}+\\dot{m}h_1=\\dot{W}_\\text{out}+\\dot{Q}_\\text{out}+\\dot{m}h_2 $$\n",
    "\n",
    "Since the compressor operates isentropically, we can assume that it is adiabatic:\n",
    "$$\\dot{W}_\\text{in}+\\dot{m}h_1=\\dot{W}_\\text{out}+\\dot{m}h_2$$\n",
    "\n",
    "There is only work transferred into the compressor, not out. Therefore:\n",
    "$$\\dot{W}_\\text{in}=\\dot{m}\\left(h_2-h_1\\right)$$\n",
    "\n",
    "We can apply this formula for the first and second compressor as:\n",
    "$$\\dot{W}_\\text{12,in}=\\dot{m}(h_2-h_1)$$\n",
    "$$\\dot{W}_\\text{34,in}=\\dot{m}(h_4-h_3)$$\n",
    "\n",
    "The total work in is then:\n",
    "$$\\dot{W}_\\text{in}=\\dot{W}_\\text{12,in}+\\dot{W}_\\text{34,in}$$"
   ]
  },
  {
   "cell_type": "code",
   "execution_count": 3,
   "id": "c7660734",
   "metadata": {},
   "outputs": [
    {
     "name": "stdout",
     "output_type": "stream",
     "text": [
      "Requirement already satisfied: pyCalor in /Users/thomschu/anaconda3/lib/python3.11/site-packages (1.0.21)\n",
      "Requirement already satisfied: CoolProp in /Users/thomschu/anaconda3/lib/python3.11/site-packages (from pyCalor) (6.6.0)\n",
      "Requirement already satisfied: igraph in /Users/thomschu/anaconda3/lib/python3.11/site-packages (from pyCalor) (0.11.9)\n",
      "Requirement already satisfied: texttable>=1.6.2 in /Users/thomschu/anaconda3/lib/python3.11/site-packages (from igraph->pyCalor) (1.7.0)\n"
     ]
    }
   ],
   "source": [
    "## 5. Properties (Code Cell)\n",
    "!pip install pyCalor\n",
    "from pyCalor import thermo as th\n",
    "\n",
    "substance = 'air'\n",
    "mdot_kgPerS = 0.15\n",
    "\n",
    "# Properties\n",
    "p1_Pa = 100e3\n",
    "T1_C = 27\n",
    "T1_K = T1_C +273.15\n",
    "\n",
    "pressureRatio = 2.5\n",
    "\n",
    "p2_Pa = p1_Pa * pressureRatio\n",
    "\n",
    "p3_Pa = p2_Pa\n",
    "T3_C = 27\n",
    "T3_K = T3_C + 273.15\n",
    "\n",
    "p4_Pa = p3_Pa * pressureRatio\n",
    "\n",
    "# state 1\n",
    "st1 = th.state(substance,T=(T1_C,'C'),p=(p1_Pa,'Pa'),name='1')\n",
    "h1_JperKg = st1.h*1e3\n",
    "s1_JperKgperK = st1.s*1e3\n",
    "\n",
    "# state 2\n",
    "s2_JperKgperK = s1_JperKgperK\n",
    "st2 = th.state(substance,s=(s2_JperKgperK,'J/kg K'),p=(p2_Pa,'Pa'),name='2')\n",
    "h2_JperKg = st2.h*1e3\n",
    "T2_K = st2.T\n",
    "\n",
    "# state 3\n",
    "st3 = th.state(substance,T=(T3_C,'C'),p=(p3_Pa,'Pa'),name='3')\n",
    "h3_JperKg = st3.h*1e3\n",
    "s3_JperKgperK = st3.s*1e3\n",
    "\n",
    "# state 4\n",
    "s4_JperKgperK = s3_JperKgperK\n",
    "st4 = th.state(substance,s=(s4_JperKgperK,'J/kg K'),p=(p4_Pa,'Pa'),name='4')\n",
    "h4_JperKg = st4.h*1e3\n",
    "T4_K = st4.T\n",
    "\n",
    "# process\n",
    "pr = th.process([(st1,st2),(st2,st3),(st3,st4)])"
   ]
  },
  {
   "cell_type": "code",
   "execution_count": 5,
   "id": "977a1030-d4ce-4db7-b58b-05d3f824dec2",
   "metadata": {},
   "outputs": [
    {
     "name": "stdout",
     "output_type": "stream",
     "text": [
      "(a) Wdot_kW = 27.1 kW.\n",
      "(b) Wdot_kW = 31.1 kW.\n"
     ]
    },
    {
     "data": {
      "image/png": "[encoded data removed]",
      "text/plain": [
       "<Figure size 640x480 with 1 Axes>"
      ]
     },
     "metadata": {},
     "output_type": "display_data"
    }
   ],
   "source": [
    "# 6 Calculations (Code Cell)\n",
    "# Work in\n",
    "Wdot_W = mdot_kgPerS*((h2_JperKg - h1_JperKg)+(h4_JperKg - h3_JperKg))\n",
    "Wdot_kW = Wdot_W/1000# ; print(Wdot_kW)\n",
    "print('(a) Wdot_kW = {0:1.1f} kW.'.format(Wdot_kW))\n",
    "\n",
    "# Now we can see how much work we would have to do if we were to do the same process with a single compressor.\n",
    "s2_JperKgperK_ = s1_JperKgperK\n",
    "st2_ = th.state(substance,s=(s2_JperKgperK_,'J/kg K'),p=(p4_Pa,'Pa'),name='2_')\n",
    "\n",
    "h2_JperKg_ = st2_.h*1e3\n",
    "T2_K_ = st2_.T\n",
    "Wdot_W_ = mdot_kgPerS*((h2_JperKg_ - h1_JperKg))\n",
    "Wdot_kW_ = Wdot_W_/1000# ; print(Wdot_kW)\n",
    "print('(b) Wdot_kW = {0:1.1f} kW.'.format(Wdot_kW_))\n",
    "\n",
    "# Plotting\n",
    "fig1=pr.plot(\"Ts\");\n",
    "# fig1.savefig(\"figure_1_Ts.pdf\")"
   ]
  },
  {
   "cell_type": "markdown",
   "id": "c74e6dab-f006-4e6f-818e-f5fa102b1915",
   "metadata": {},
   "source": [
    "## 7. Summary and Reasoning\n",
    "We see that by cooling the air in between the first and second compressor, we do not need to do as much work.  "
   ]
  },
  {
   "cell_type": "markdown",
   "id": "3cb575ff-8abe-48be-b799-18917df67cd8",
   "metadata": {},
   "source": [
    "THIS SHOULD BE THE FINAL CELL, DO NOT ADD OTHERS AFTER THIS, EVEN IF THEY'RE EMPTY\n",
    "--- End of the Jupyter Notebook ---"
   ]
  }
 ],
 "metadata": {
  "kernelspec": {
   "display_name": "Python 3 (ipykernel)",
   "language": "python",
   "name": "python3"
  },
  "language_info": {
   "codemirror_mode": {
    "name": "ipython",
    "version": 3
   },
   "file_extension": ".py",
   "mimetype": "text/x-python",
   "name": "python",
   "nbconvert_exporter": "python",
   "pygments_lexer": "ipython3",
   "version": "3.11.5"
  }
 },
 "nbformat": 4,
 "nbformat_minor": 5
}
