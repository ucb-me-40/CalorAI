{
 "cells": [
  {
   "cell_type": "markdown",
   "id": "bc9a14ad-7006-4eba-990f-13e2d3304658",
   "metadata": {},
   "source": [
    "## Problem Metadata \n",
    "DO NOT DELETE (JSON Block; the metadata and course context MUST be in the first cell)\n",
    "\n",
    "```json\n",
    "{\n",
    "    \"problem_title\": \"adiabaticExpansion\",\n",
    "    \"author\": \"tschutzius\",\n",
    "    \"year\": \"Fa25\",\n",
    "    \"difficulty_tags\": [\"hard\"],\n",
    "    \"topic\": \"Properties\",\n",
    "    \"lecture_reference\": {\n",
    "        \"lecture_id\": \"1_fclugwz7\",\n",
    "        \"subtopics\": [\n",
    "            {\n",
    "              \"key\": \"Fa25-L4a-5.0\",\n",
    "              \"title\": \"Moving boundary work: Adiabatic process\",\n",
    "            }\n",
    "        ]\n",
    "    },\n",
    "    \"book_reference\": {\n",
    "          \"chapter_number\": 4,\n",
    "          \"title\": \"Energy Analysis of Closed Systems\",\n",
    "        \"sections\": [\n",
    "            \"Moving Boundary Work\",\n",
    "            \"Energy Balance for Closed Systems\",\n",
    "            \"Specific Heats\",\n",
    "            \"Internal Energy, Enthalpy, and Specific Heats of Ideal Gases\",\n",
    "        ]\n",
    "    },\n",
    "    \"notes\": \"\"\n",
    "}\n",
    "```"
   ]
  },
  {
   "cell_type": "markdown",
   "id": "bbab5fa6-bac6-489f-9005-627c0b47d630",
   "metadata": {},
   "source": [
    "## 1. Problem Statement\n",
    "**Goal**: Show that for an ideal gas in a closed system undergoing adiabatic expansion, that $ p V^\\kappa = \\text{const} $."
   ]
  },
  {
   "cell_type": "markdown",
   "id": "30230a67-b99e-4bcb-bbe1-5ab677981f42",
   "metadata": {},
   "source": [
    "## 2. Schematic\n",
    "Show a piston expanding some distance. The control volume should be drawn inside of the piston cylinder. No heat should be transferred in or out. Work should be shown to be transferred out. \n"
   ]
  },
  {
   "cell_type": "markdown",
   "id": "f2a6c9d0-5acd-4848-875d-09c39653b19b",
   "metadata": {},
   "source": [
    "## 3. Assumptions and Approximations\n",
    "* **Ideal Gas Model** (Justification: Air at these conditions behaves as an ideal gas, $p v = R T$)\n",
    "* No heat transfer ($Q_\\text{in}=Q_\\text{out}=0$). (Justification: Adiabatic means no heat transfer.)\n",
    "* Neglect changes in kinetic and potential energy ($\\Delta KE\\approx0$, $\\Delta PE\\approx0$). (Justification: The velocities are typically low, or the change in height is negligible compared to the enthalpy change.)\n",
    "* Work is transferred only through boundary work ($p dV$).\n",
    "* Constant values for specific heat ($c_p=\\text{const}$, $c_v=\\text{const}$). (Justification: While these values do change with temperature, they don't change appreciably over the temperature ranges we are interested in here.)"
   ]
  },
  {
   "cell_type": "markdown",
   "id": "954ef860-03c9-4a88-aae2-0f598706edb1",
   "metadata": {},
   "source": [
    "## 4. Physical Laws and Governing Equations\n",
    "* Conservation of energy\n",
    "* Definition of specific heat and its relation to changes in internal energy\n",
    "\n",
    "$$\\Delta E_\\text{CV} = E_\\text{in} - E_\\text{out} $$\n",
    "\n",
    "$$\\Delta U + \\Delta KE + \\Delta PE = (W_\\text{in} + Q_\\text{in}) - (W_\\text{out} + Q_\\text{out})  $$\n",
    "\n",
    "$$\\Delta U = - W_\\text{out}$$\n",
    "\n",
    "$$\\Delta U = - W_\\text{out}$$\n",
    "\n",
    "We can write this in differential form:\n",
    "\n",
    "$$dU = - \\delta W_\\text{out} $$\n",
    "\n",
    "$$dU = - p dV \\tag{1}$$\n",
    "\n",
    "Recall the definition of $c_V$:\n",
    "\n",
    "$$c_V = \\left( \\frac{\\partial u}{\\partial T} \\right)_V$$\n",
    "\n",
    "That is, if we transfer heat to a control volume, and if the volume is kept constant, then changes in internal energy can be related to changes in temperature through a constant. \n",
    "\n",
    "$$\\implies du = c_V dT \\tag{2}$$\n",
    "\n",
    "Combining equations (1) and (2), and including the mass of the gas in the piston, $m$, we have:\n",
    "\n",
    "$$m du = m c_V dT = - p dV \\tag{3}$$\n",
    "\n",
    "We would like to replace temperature with $p$ and $V$. For this we can use the ideal gas law:\n",
    "\n",
    "$$p V = m R T \\tag{4}$$\n",
    "\n",
    "Taking the differential:\n",
    "\n",
    "$$d \\left(p V\\right) = m R dT$$\n",
    "\n",
    "$$V dp + p dV = m R dT$$\n",
    "\n",
    "Rearranging:\n",
    "\n",
    "$$dT = \\frac{V dp + p dV}{m R} \\tag{5}$$\n",
    "\n",
    "Combining equations (5) and (3), we have:\n",
    "\n",
    "$$m c_V \\left( \\frac{V dp + p dV}{m R} \\right) = - p dV$$\n",
    "\n",
    "Simplifying:\n",
    "\n",
    "$$c_V \\left( V dp + p dV \\right) = - R p dV$$\n",
    "\n",
    "$$ c_V V dp + c_V p dV + R p dV = 0 $$\n",
    "\n",
    "$$ (c_V + R) p dV +  c_V V dp = 0 $$\n",
    "\n",
    "$$ \\frac{(c_V + R)}{c_V}\\frac{dV}{V} +  \\frac{dp}{p} = 0 $$\n",
    "\n",
    "$$ \\frac{(c_V + R)}{c_V}\\int \\frac{dV}{V} +  \\int \\frac{dp}{p} = 0 $$\n",
    "\n",
    "$$ \\frac{(c_V + R)}{c_V} \\ln V +  \\ln p = \\text{const} $$\n",
    "\n",
    "Assuming constant specific heats, we can define a constant:\n",
    "\n",
    "$$ \\kappa \\equiv \\frac{(c_V + R)}{c_V} \\tag{7}$$\n",
    "\n",
    "$$ \\kappa \\ln V +  \\ln p = \\text{const} $$\n",
    "\n",
    "$$ \\ln V^\\kappa +  \\ln p = \\text{const} $$\n",
    "\n",
    "$$ \\ln pV^\\kappa  = \\text{const} $$\n",
    "\n",
    "$$ pV^\\kappa  = \\text{const} \\tag{8}$$\n"
   ]
  },
  {
   "cell_type": "code",
   "execution_count": 7,
   "id": "cba7b5b0-fffa-4e9f-964e-b0f3f69925be",
   "metadata": {},
   "outputs": [
    {
     "name": "stdout",
     "output_type": "stream",
     "text": [
      "Requirement already satisfied: pyCalor in /srv/conda/lib/python3.11/site-packages (1.0.21)\n",
      "Requirement already satisfied: CoolProp in /srv/conda/lib/python3.11/site-packages (from pyCalor) (7.1.0)\n",
      "Requirement already satisfied: igraph in /srv/conda/lib/python3.11/site-packages (from pyCalor) (0.11.9)\n",
      "Requirement already satisfied: texttable>=1.6.2 in /srv/conda/lib/python3.11/site-packages (from igraph->pyCalor) (1.7.0)\n"
     ]
    }
   ],
   "source": [
    "## 5. Properties (Code Cell)\n",
    "# we can determine the specific heat of air at room temperature and pressure conditions\n",
    "!pip install pyCalor\n",
    "from pyCalor import thermo as th\n",
    "import matplotlib.pyplot as plt\n",
    "import numpy as np\n",
    "\n",
    "T_C = 20\n",
    "p_Pa = 101325\n",
    "substance = 'air'\n",
    "\n",
    "st = th.state(substance,T=(T_C,'C'),p=(p_Pa,'Pa'))\n",
    "cp_kJperKgPerK = st.cp\n",
    "cv_kJperKgPerK = st.cv\n",
    "R_kJperKgPerK = st.R\n",
    "\n",
    "k = cp_kJperKgPerK/cv_kJperKgPerK"
   ]
  },
  {
   "cell_type": "code",
   "execution_count": 15,
   "id": "c84dd3c6-2586-40b5-b4d0-ee6f2d878106",
   "metadata": {},
   "outputs": [
    {
     "data": {
      "text/plain": [
       "Text(0, 0.5, '$p$ (Pa)')"
      ]
     },
     "execution_count": 15,
     "metadata": {},
     "output_type": "execute_result"
    },
    {
     "data": {
      "image/png": "[encoded data removed]",
      "text/plain": [
       "<Figure size 1000x800 with 1 Axes>"
      ]
     },
     "metadata": {},
     "output_type": "display_data"
    }
   ],
   "source": [
    "# 6 Calculations (Code Cell)\n",
    "# 6A. We can see what the process looks like by making some assumptions about the initial and final conditions:\n",
    "# Define the initial and final volumes for the processes\n",
    "V_initial = 1.0  # Initial volume in m^3\n",
    "V_final = 5.0    # Final volume in m^3\n",
    "# Define initial temperature\n",
    "T_initial = 500 # K\n",
    "# Define the initial pressure using the ideal gas law\n",
    "P_initial = (R_kJperKgPerK*1e3 * T_initial) / V_initial # Pa\n",
    "# Define the range of volumes for the plot\n",
    "V = np.linspace(V_initial, V_final, 100)\n",
    "\n",
    "# 6B. Adiabatic Process (No Heat Transfer)\n",
    "constant_adiabatic = P_initial * (V_initial**k)\n",
    "p_adiabatic = constant_adiabatic / (V**k)\n",
    "P_final_adiabatic = constant_adiabatic / (V_final**k)\n",
    "\n",
    "# 6C. Plotting\n",
    "plt.figure(figsize=(10, 8))\n",
    "plt.plot(V, p_adiabatic, label='Adiabatic ($pV^{\\kappa}=$ constant)', color='green', linewidth=2)\n",
    "# Add a marker for the initial state \"A\"\n",
    "plt.plot(V_initial, P_initial, 'o', color='black', markersize=8)\n",
    "plt.annotate('A', xy=(V_initial, P_initial), xytext=(5, 5), textcoords='offset points', ha='center', fontsize=12)\n",
    "# Add markers and labels for the final states \"B\"\n",
    "plt.plot(V_final, P_final_adiabatic, 'o', color='black', markersize=8)\n",
    "plt.annotate('B', xy=(V_final, P_final_adiabatic), xytext=(5, 5), textcoords='offset points', ha='center', fontsize=12)\n",
    "# Add labels and title\n",
    "plt.xlabel('$V$ (m^3)', fontsize=14)\n",
    "plt.ylabel('$p$ (Pa)', fontsize=14)"
   ]
  },
  {
   "cell_type": "markdown",
   "id": "238dcf41-445e-4758-b755-6c48f79929e7",
   "metadata": {},
   "source": [
    "## 7. Summary and Reasoning\n",
    "We were able to prove that $p V^{\\kappa} = \\text{constant}$ for an adiabatic expansion process. We also see from this that we are able to relate pressure to volume for a process from A to B. That means we will be able to determine the boundary work done for such a process. This will be useful when we start to analyze cycles, such as the Carnot cycle, which has adiabatic expansion and compression processes. "
   ]
  },
  {
   "cell_type": "markdown",
   "id": "74e0865e-93c8-4468-ab22-d4224f872c45",
   "metadata": {},
   "source": [
    "THIS SHOULD BE THE FINAL CELL, DO NOT ADD OTHERS AFTER THIS, EVEN IF THEY'RE EMPTY\n",
    "--- End of the Jupyter Notebook ---"
   ]
  }
 ],
 "metadata": {
  "kernelspec": {
   "display_name": "Python 3 (ipykernel)",
   "language": "python",
   "name": "python3"
  },
  "language_info": {
   "codemirror_mode": {
    "name": "ipython",
    "version": 3
   },
   "file_extension": ".py",
   "mimetype": "text/x-python",
   "name": "python",
   "nbconvert_exporter": "python",
   "pygments_lexer": "ipython3",
   "version": "3.11.5"
  }
 },
 "nbformat": 4,
 "nbformat_minor": 5
}
