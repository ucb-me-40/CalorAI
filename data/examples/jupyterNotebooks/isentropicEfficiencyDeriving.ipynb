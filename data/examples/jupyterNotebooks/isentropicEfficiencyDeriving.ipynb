{
 "cells": [
  {
   "cell_type": "markdown",
   "id": "e6f8c5b5-232a-4307-a763-088d04f33c5e",
   "metadata": {},
   "source": [
    "## Problem Metadata \n",
    "DO NOT DELETE (JSON Block; the metadata and course context MUST be in the first cell)\n",
    "\n",
    "```json\n",
    "{\n",
    "    \"problem_title\": \"isentropicEfficiencyDeriving\",\n",
    "    \"author\": \"tschutzius\",\n",
    "    \"year\": \"Fa25\",\n",
    "    \"difficulty_tags\": [\"easy\"],\n",
    "    \"topic\": \"Entropy\",\n",
    "    \"lecture_reference\": {\n",
    "        \"lecture_id\": \"1_tn902g9q\",\n",
    "        \"subtopics\": [\n",
    "            {\n",
    "              \"key\": \"Fa25-L7e-5.0\",\n",
    "              \"title\": \"Deriving Isentropic Efficiency of a Turbine\",\n",
    "            }\n",
    "        ]\n",
    "    },\n",
    "    \"book_reference\": {\n",
    "        \"chapter_number\": 7,\n",
    "        \"title\": \"Entropy\",\n",
    "        \"sections\": [\n",
    "            \"Isentropic Processes\",\n",
    "            \"Reversible Steady-Flow Work\",\n",
    "            \"Isentropic Efficiencies of Steady-Flow Devices\"\n",
    "        ]\n",
    "    },\n",
    "    \"notes\": \"\"\n",
    "}\n",
    "```"
   ]
  },
  {
   "cell_type": "markdown",
   "id": "96185394-20e8-4cab-954e-a9fbd72f26ae",
   "metadata": {},
   "source": [
    "## 1. Problem Statement\n",
    "Idealized devices operate isentropically while real devices do not. Real devices are characterized by an isentropic efficiency. You are given the inlet pressure and temperature and the outlet pressure. \n",
    "\n",
    "**Goal** \n",
    "* Derive the isentropic efficiency for a compressor\n",
    "* Given an adiabatic air compressor with an inlet pressure and temperature of 100 kPa and 20$^\\circ$C, respectively; a compression ratio of 5; and an isentropic efficiency of 0.9, determine the actual temperature at the exit of the compressor.\n",
    "* Show the isentropic and actual compression processes on a temperature-specific entropy diagram."
   ]
  },
  {
   "cell_type": "markdown",
   "id": "a1b3bac2-dda4-4d37-ba02-b57cb697406d",
   "metadata": {},
   "source": [
    "## 2. Schematic\n",
    "Draw a control volume around the compressor. Work is transferred in and should be indicated. No heat is transferred in or out and should be indicated. There is a single inlet and outlet of the fluid stream."
   ]
  },
  {
   "cell_type": "markdown",
   "id": "852059b3-3d8a-4b35-8ff2-e2c90ad57b41",
   "metadata": {},
   "source": [
    "## 3. Assumptions and Approximations\n",
    "* **Control Volume** (mass crosses the boundary).\n",
    "* **Properties** We will use pyCalor to determine properties.\n",
    "* **Neglect changes in kinetic and potential energy** ($\\Delta KE\\approx0$, $\\Delta PE\\approx0$). (Justification: The velocities are typically low, or the change in height is negligible compared to the enthalpy change.)\n",
    "* **Adiabatic process**.\n",
    "* **Steady-flow process** ($\\Delta m_\\text{CV}= 0$, $\\Delta E_\\text{CV}= 0$, $\\Delta S_\\text{CV}= 0$).\n",
    "* We have a single inlet and outlet ($\\dot{m}_\\text{in}$ and $\\dot{m}_\\text{out}$)."
   ]
  },
  {
   "cell_type": "markdown",
   "id": "b5e7ec66-78b2-4f54-803c-167d9b3a9dad",
   "metadata": {},
   "source": [
    "## 4. Physical Laws\n",
    "1.  **First Law of Thermodynamics (Energy Balance for Control Volume):**\n",
    "    $$\\frac{dE_\\text{CV}}{dt} = \\dot{E}_\\text{in} - \\dot{E}_\\text{out}$$\n",
    "\n",
    "2.  **Conservation of Mass (Mass Balance for a Control Volume):**\n",
    "    $$\\frac{dm_\\text{CV}}{dt} = \\dot{m}_\\text{in} - \\dot{m}_\\text{out}$$\n",
    "\n",
    "Since this is a steady flow process, we can write:\n",
    "$$\\dot{E}_\\text{in} = \\dot{E}_\\text{out}$$\n",
    "\n",
    "$$\\dot{m}_\\text{in} = \\dot{m}_\\text{out} = \\dot{m}$$\n",
    "\n",
    "We can write our conservation of energy equation as:\n",
    "$$\\dot{W}_\\text{in} + \\dot{Q}_\\text{in} + \\dot{m} \\left(h_1 + \\frac{w_1^2}{2} + g z_1 \\right) = \\dot{W}_\\text{out} + \\dot{Q}_\\text{out} + \\dot{m} \\left(h_2 + \\frac{w_1^2}{2} + g z_2 \\right)$$\n",
    "\n",
    "Neglecting kinetic and potential energy effects we can write:\n",
    "$$\\dot{W}_\\text{in} + \\dot{Q}_\\text{in} + \\dot{m} \\left(h_1 \\right) = \\dot{W}_\\text{out} + \\dot{Q}_\\text{out} + \\dot{m} \\left(h_2 \\right)$$\n",
    "\n",
    "Applying the adiabatic assumption:\n",
    "$$\\dot{W}_\\text{in} + \\dot{m} \\left(h_1 \\right) = \\dot{W}_\\text{out} + \\dot{m} \\left(h_2 \\right)$$\n",
    "\n",
    "There is only work transferred in, and not out:\n",
    "$$\\dot{W}_\\text{in} = \\dot{m} \\left(h_2 - h_1 \\right)$$\n",
    "\n",
    "Using our steady flow equation for power input to the compressor, we can define the minimum work into the compressor by analyzing the isentropic case:\n",
    "\n",
    "$$\\left( \\dot{W}_\\text{in} \\right)_\\text{s} = \\dot{m} \\left(h_\\text{2s} - h_1 \\right)$$\n",
    "\n",
    "We can also define the actual work into the compressor as:\n",
    "\n",
    "$$\\left( \\dot{W}_\\text{in} \\right)_\\text{a} = \\dot{m} \\left(h_\\text{2a} - h_1 \\right)$$\n",
    "\n",
    "Therefore, we can define the isentropic efficiency of a compressor by taking the ratio of these two power input equations (neglecting changes in kinetic and potential energy):\n",
    "\n",
    "$$\\eta_\\text{C} = \\frac{\\left( \\dot{W}_\\text{in} \\right)_\\text{s}}{\\left( \\dot{W}_\\text{in} \\right)_\\text{a}} = \\frac{h_\\text{2s} - h_1}{h_\\text{2a} - h_1} $$\n",
    "\n",
    "By knowing the inlet pressure, $p_1$, and temperature, $T_1$, of a gas, we can determine the specific enthalpy, $h_1$, and entropy, $s_1$. For the isentropic case, we have $s_2 = s_1$, and we can determine the specific enthalpy at state 2, $h_2$, since we know $p_2$. We term this as $h_\\text{2s}$. "
   ]
  },
  {
   "cell_type": "code",
   "execution_count": 1,
   "id": "b7a6b834-fc78-49c3-8325-a7c274e8a75b",
   "metadata": {},
   "outputs": [
    {
     "name": "stdout",
     "output_type": "stream",
     "text": [
      "Requirement already satisfied: pyCalor in /Users/schutzius/opt/anaconda3/envs/calorai_env/lib/python3.10/site-packages (1.0.21)\n",
      "Requirement already satisfied: numpy in /Users/schutzius/opt/anaconda3/envs/calorai_env/lib/python3.10/site-packages (2.2.6)\n",
      "Requirement already satisfied: matplotlib in /Users/schutzius/opt/anaconda3/envs/calorai_env/lib/python3.10/site-packages (3.10.7)\n",
      "Requirement already satisfied: CoolProp in /Users/schutzius/opt/anaconda3/envs/calorai_env/lib/python3.10/site-packages (from pyCalor) (7.1.0)\n",
      "Requirement already satisfied: igraph in /Users/schutzius/opt/anaconda3/envs/calorai_env/lib/python3.10/site-packages (from pyCalor) (0.11.9)\n",
      "Requirement already satisfied: contourpy>=1.0.1 in /Users/schutzius/opt/anaconda3/envs/calorai_env/lib/python3.10/site-packages (from matplotlib) (1.3.2)\n",
      "Requirement already satisfied: cycler>=0.10 in /Users/schutzius/opt/anaconda3/envs/calorai_env/lib/python3.10/site-packages (from matplotlib) (0.12.1)\n",
      "Requirement already satisfied: fonttools>=4.22.0 in /Users/schutzius/opt/anaconda3/envs/calorai_env/lib/python3.10/site-packages (from matplotlib) (4.60.1)\n",
      "Requirement already satisfied: kiwisolver>=1.3.1 in /Users/schutzius/opt/anaconda3/envs/calorai_env/lib/python3.10/site-packages (from matplotlib) (1.4.9)\n",
      "Requirement already satisfied: packaging>=20.0 in /Users/schutzius/opt/anaconda3/envs/calorai_env/lib/python3.10/site-packages (from matplotlib) (25.0)\n",
      "Requirement already satisfied: pillow>=8 in /Users/schutzius/opt/anaconda3/envs/calorai_env/lib/python3.10/site-packages (from matplotlib) (11.3.0)\n",
      "Requirement already satisfied: pyparsing>=3 in /Users/schutzius/opt/anaconda3/envs/calorai_env/lib/python3.10/site-packages (from matplotlib) (3.2.5)\n",
      "Requirement already satisfied: python-dateutil>=2.7 in /Users/schutzius/opt/anaconda3/envs/calorai_env/lib/python3.10/site-packages (from matplotlib) (2.9.0.post0)\n",
      "Requirement already satisfied: six>=1.5 in /Users/schutzius/opt/anaconda3/envs/calorai_env/lib/python3.10/site-packages (from python-dateutil>=2.7->matplotlib) (1.17.0)\n",
      "Requirement already satisfied: texttable>=1.6.2 in /Users/schutzius/opt/anaconda3/envs/calorai_env/lib/python3.10/site-packages (from igraph->pyCalor) (1.7.0)\n"
     ]
    }
   ],
   "source": [
    "## 5. Properties (Code Cell)\n",
    "!pip install pyCalor numpy matplotlib\n",
    "from pyCalor import thermo as th\n",
    "\n",
    "substance = 'air'\n",
    "isentropicEfficiency = 0.9\n",
    "\n",
    "# state 1\n",
    "p1_kPa = 100 # kPa\n",
    "T1_C = 20 # C\n",
    "st1 = th.state(substance,p=(p1_kPa,'kPa'),T=(T1_C,'C'),name='1')\n",
    "\n",
    "rp = 5\n",
    "\n",
    "# state 2s\n",
    "p2_kPa = rp*p1_kPa\n",
    "st2s = th.state(substance,p=(p2_kPa,'kPa'),s=(st1.s,'kJ/kg K'),name='2s')\n",
    "\n",
    "h2a_kJperKg = ((st2s.h - st1.h)/isentropicEfficiency) + st1.h\n",
    "\n",
    "# state 2a\n",
    "st2a = th.state(substance,p=(p2_kPa,'kPa'),h=(h2a_kJperKg,'kJ/kg'),name='2a')"
   ]
  },
  {
   "cell_type": "code",
   "execution_count": 2,
   "id": "c7b6766b-2ac8-4118-b7bf-da29384ef7de",
   "metadata": {},
   "outputs": [
    {
     "name": "stdout",
     "output_type": "stream",
     "text": [
      "481.78324283946654\n",
      "463.1852293355926\n"
     ]
    },
    {
     "data": {
      "image/png": "[encoded data removed]",
      "text/plain": [
       "<Figure size 640x480 with 1 Axes>"
      ]
     },
     "metadata": {},
     "output_type": "display_data"
    }
   ],
   "source": [
    "## 6. Calculations (Code Cell)\n",
    "# Final answer:\n",
    "T2a_K = st2a.T; print(T2a_K)\n",
    "\n",
    "# Compare with the isentropic case, T2s_K\n",
    "T2s_K = st2s.T; print(T2s_K)\n",
    "\n",
    "# Defining processes for the isentropic and actual compression processes\n",
    "pr = th.process([(st1,st2a),(st1,st2s)])\n",
    "\n",
    "# Plotting the isentropic and actual compression processes on a temperature-specific entropy diagram\n",
    "fig1 = pr.plot(\"Ts\");\n",
    "\n",
    "# save figure\n",
    "# fig1.savefig(\"figure_1.pdf\")"
   ]
  },
  {
   "cell_type": "markdown",
   "id": "0bb1805b-b8dd-4ac5-af8d-98a63163df9e",
   "metadata": {},
   "source": [
    "## 7. Summary and Reasoning\n",
    "We know from the definition of isentropic efficiency that the power input to the isentropic compressor is less than the actual compressor. What we would expect then from a **First Law of Thermodynamics** analysis is that the temperature at the exit of the actual compressor should be greater than the isentropic compressor, which we've shown is the case. "
   ]
  },
  {
   "cell_type": "markdown",
   "id": "782bd688-c99e-4ba5-902b-d4e624d62d7d",
   "metadata": {},
   "source": [
    "THIS SHOULD BE THE FINAL CELL, DO NOT ADD OTHERS AFTER THIS, EVEN IF THEY'RE EMPTY\n",
    "--- End of the Jupyter Notebook ---"
   ]
  }
 ],
 "metadata": {
  "kernelspec": {
   "display_name": "Python 3 (ipykernel)",
   "language": "python",
   "name": "python3"
  },
  "language_info": {
   "codemirror_mode": {
    "name": "ipython",
    "version": 3
   },
   "file_extension": ".py",
   "mimetype": "text/x-python",
   "name": "python",
   "nbconvert_exporter": "python",
   "pygments_lexer": "ipython3",
   "version": "3.10.18"
  }
 },
 "nbformat": 4,
 "nbformat_minor": 5
}
