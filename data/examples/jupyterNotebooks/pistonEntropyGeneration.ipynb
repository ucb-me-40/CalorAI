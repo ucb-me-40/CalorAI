{
 "cells": [
  {
   "cell_type": "markdown",
   "id": "f93dddba-282d-40fa-8b86-e604802ae0f2",
   "metadata": {},
   "source": [
    "## Problem Metadata \n",
    "DO NOT DELETE. This is a JSON Block. The metadata and course context MUST be in the first cell. \n",
    "\n",
    "```json\n",
    "{\n",
    "    \"problem_title\": \"pistonEntropyGeneration\",\n",
    "    \"author\": \"tschutzius\",\n",
    "    \"year\": \"Fa25\",\n",
    "    \"difficulty_tags\": [\"medium\"],\n",
    "    \"topic\": \"Exergy\",\n",
    "    \"lecture_reference\": {\n",
    "        \"lecture_id\": \"TBD\",\n",
    "        \"subtopics\": [\n",
    "            {\n",
    "                \"key\": \"TBD\",\n",
    "                \"topic\": \"TBD\"\n",
    "            }\n",
    "        ]\n",
    "    },\n",
    "    \"book_reference\": {\n",
    "        \"chapter_number\": 8,\n",
    "        \"title\": \"Exergy (Availability)\",\n",
    "        \"sections\": [\n",
    "            \"The Exergy Balance - Control Volumes\"\n",
    "        ]\n",
    "    },\n",
    "    \"notes\": \"Example 7-21, Thermodynamics, Cengels, 9th edition. I also made it an exergy problem.\"\n",
    "}"
   ]
  },
  {
   "cell_type": "markdown",
   "id": "5104a8e9-20ae-49de-878c-6cbb15b8cdc3",
   "metadata": {},
   "source": [
    "## 1. Problem Statement\n",
    "A frictionless piston-cylinder device contains a saturated liquid-vapor mixture of water at 100$^\\circ$C. During a constant pressure process, 600 kJ of heat is transferred to the surrounding air at 25$\\circ$C. As a result, part of the water vapor contained in the cylinder condenses. \n",
    "\n",
    "**Goal:** Determine \n",
    "* (a) the entropy change of the water\n",
    "* (b) the total entropy generated during this heat transfer process\n",
    "* (c) the exergy destruction during this heat transfer process\n",
    "\n",
    "**Answers:**\n",
    "- (a) -1.61 kJ/K\n",
    "- (b) 0.40 kJ/K"
   ]
  },
  {
   "cell_type": "markdown",
   "id": "41803c6b-53ec-432b-947e-b08a73eeb726",
   "metadata": {},
   "source": [
    "## 2. Schematic \n",
    "Draw a schematic that a piston-cylinder device containing a water liquid-vapor mixture. Draw a boundary inside the piston-cylinder device. Indicate that heat is being transferred out and that work may be transferred in. Indicate the surrounding temperature. "
   ]
  },
  {
   "cell_type": "markdown",
   "id": "38820652-067c-4b2c-a677-c388229341b0",
   "metadata": {},
   "source": [
    "## 3. Assumptions and Approximations\n",
    "* **Closed system** (no mass in or out).\n",
    "* **Properties** We can use `pyCalor` to determine properties. \n",
    "* **Quasi-equilibrium process** This is a necessary assumption if we are going to relate changes in properties to path functions like work, $W$.\n",
    "* **Neglect changes in kinetic and potential energy**: $\\Delta KE\\approx0$, $\\Delta PE\\approx0$. (Justification: The velocities are typically low, or the change in height is negligible compared to the enthalpy change.)\n",
    "* **Work** The only kind of work a simple compressible system may undergo in an internally reversible process is boundary work.\n",
    "* **Heat transfer** Heat is transferred out\n",
    "* **Internally reversible process** $\\left( \\frac{\\delta Q}{T} \\right)_\\text{int,rev}=dS$. An internally reversible process is one where all irreversibilities, e.g., friction, temperature differences, etc., occur outside the system's boundaries. Inside the system, the process occurs without any dissipation, maintaining equilibrium and a uniform temperature.\n",
    "* **Isobaric**: Heat exchangers are isobaric devices. (Justification: Negligible changes in pressure between the inlet and exit.)"
   ]
  },
  {
   "cell_type": "markdown",
   "id": "4e7be30a-7069-4389-a6a0-004be1fab96f",
   "metadata": {},
   "source": [
    "## 4. Physical Laws\n",
    "1.  **Entropy Balance for a Closed System:**\n",
    "    $$S_\\text{in} - S_\\text{out} + S_\\text{gen} = \\Delta S_\\text{system}$$\n",
    "\n",
    "2.  **Conservation of Mass (Mass Balance for a Closed System):**\n",
    "    $$\\Delta m_\\text{CV} = 0$$\n",
    "\n",
    "#### Entropy generation and exergy destruction\n",
    "For a closed system, no mass can flow across its boundaries, and its entropy change is simply the difference between the initial and final entropies of the system. Entropy changes in a closed system is due to entropy transfer from heat transfer and entropy generation within the system boundaries.\n",
    "\n",
    "In these problems, what is key is to draw a boundary around the combined piston-cylinder device and the surrounding environment, up until the point where the temperature of the environment doesn't change due to heat transfer. This combined system can then be treated as adiabatic, which is convenient. So we will compute the change in entropy of the piston cylinder device first and then the change in entropy of the surroundings. The entropy generated then is the sum of the change in entropy of both systems. Since the combined system is adiabatic, we can say that there is no entropy transferred in or out:\n",
    "\n",
    "$$S_\\text{gen} = \\Delta S_\\text{system}$$\n",
    "\n",
    "The change in entropy of the total system is the sum of the change in entropy of the water in the piston-cylinder device and its surroundings:\n",
    "\n",
    "$$\\Delta S_\\text{system} = \\Delta S_\\text{water} + \\Delta S_\\text{surr}$$\n",
    "\n",
    "Since we are dealing with a condensation process, where only part of the water vapor condenses, we know that the temperature of the water remains constant. We also know that the device is frictionless, i.e., internally reversible. This allows us to relate changes in entropy only to heat transfer, therefore:\n",
    "\n",
    "$$dS = \\left( \\frac{\\delta Q}{T} \\right)_\\text{int,rev}$$\n",
    "\n",
    "$$\\int dS = \\int \\left( \\frac{\\delta Q}{T} \\right)_\\text{int,rev}$$\n",
    "\n",
    "Integrating, and recalling that it is an isothermal process:\n",
    "\n",
    "$$\\Delta S_\\text{water} = \\int \\left( \\frac{\\delta Q}{T} \\right) = \\frac{1}{T}\\int \\delta Q = -\\frac{\\left(Q_\\text{out} \\right)_\\text{water}}{T_\\text{water}}$$\n",
    "\n",
    "We can then determine the change in entropy of the surroundings. We will assume that the surrounding air acts as a thermal reservoir, therefore we can apply similar logic:\n",
    "\n",
    "$$\\Delta S_\\text{surr} = \\int \\left( \\frac{\\delta Q}{T} \\right) = \\frac{1}{T}\\int \\delta Q = \\frac{\\left( Q_\\text{in} \\right)_\\text{surr}}{T_\\text{surr}}$$\n",
    "\n",
    "Since the combined system is adiabatic with no work transfer, we know that the heat transferred out from the water must equal to the heat entering the surroundings:\n",
    "\n",
    "$$\\left( Q_\\text{out} \\right)_\\text{water} = \\left( Q_\\text{in} \\right)_\\text{surr} $$\n",
    "\n",
    "We can determine the change in the entropy of the system by determining the change in entropy of the water:\n",
    "\n",
    "$$ \\Delta S_\\text{system} = m \\left(s_2 - s_1 \\right)$$\n",
    "\n",
    "The total change of entropy in the combined systems is then:\n",
    "\n",
    "$$\\Delta S_\\text{system} = \\frac{\\left( Q_\\text{in} \\right)_\\text{surr}}{T_\\text{surr}} -\\frac{\\left( Q_\\text{out} \\right)_\\text{water}}{T_\\text{water}} $$\n",
    "\n",
    "We know that exergy destruction can be written as:\n",
    "\n",
    "$$X_\\text{destroyed} = T_0 S_\\text{gen}$$\n",
    "\n",
    "We will take the dead state temperature as the temperature of the surroundings: $T_0 = T_\\text{surr}$ "
   ]
  },
  {
   "cell_type": "code",
   "execution_count": 4,
   "id": "77a8d56b-9de7-4ef8-b865-3f6887e97cac",
   "metadata": {},
   "outputs": [],
   "source": [
    "# 5. Properties (Code Cell)\n",
    "\n",
    "#substance\n",
    "substance = 'water'\n",
    "\n",
    "#state 1\n",
    "T1_K = 100+273.15\n",
    "\n",
    "#state 2\n",
    "T2_K = T1_K\n",
    "\n",
    "#surrounding temperature\n",
    "Tsurr_K = 25+273.15\n",
    "\n",
    "#dead state\n",
    "T0_K = Tsurr_K\n",
    "\n",
    "#heat loss\n",
    "QOut_kJ = 600\n",
    "QIn_kJ = QOut_kJ"
   ]
  },
  {
   "cell_type": "code",
   "execution_count": 7,
   "id": "0d8c47b5-85fe-4561-bdb7-439cd1e2cd48",
   "metadata": {},
   "outputs": [
    {
     "name": "stdout",
     "output_type": "stream",
     "text": [
      "(a) dS_water_kJperK = -1.61 kJ/K.\n",
      "(b) dS_system_kJperK = 0.40 kJ/K.\n",
      "(c) XDestroyed_kJ = 120.59 kJ.\n"
     ]
    }
   ],
   "source": [
    "# 6 Calculations (Code Cell)\n",
    "dS_water_kJperK = -QOut_kJ/T1_K\n",
    "print('(a) dS_water_kJperK = {0:1.2f} kJ/K.'.format(dS_water_kJperK))\n",
    "\n",
    "dS_surr_kJperK = QIn_kJ/Tsurr_K\n",
    "\n",
    "dS_system_kJperK = dS_water_kJperK + dS_surr_kJperK\n",
    "print('(b) dS_system_kJperK = {0:1.2f} kJ/K.'.format(dS_system_kJperK))\n",
    "\n",
    "Sgen_kJperK = dS_system_kJperK\n",
    "\n",
    "XDestroyed_kJ = Sgen_kJperK*T0_K\n",
    "print('(c) XDestroyed_kJ = {0:1.2f} kJ.'.format(XDestroyed_kJ))"
   ]
  },
  {
   "cell_type": "markdown",
   "id": "701144b6-afc4-460b-98c9-d6136312a55e",
   "metadata": {},
   "source": [
    "## 7. Summary and Reasoning\n",
    "To analyze this problem, we created two control volumes. One around the water and the other of its surroundings. The water reduced its entropy, which makes sense since heat was transferred out. We were able to determine this change in entropy because the work process was isothermal and internally reversible. We were able to determine the change in entropy of the surroundings by treating it as a thermal reservoir. The entropy of the surroundings increased, which makes sense since heat was transferred into it. We also determined the entropy generated in this process, which increased, as well as the exergy destruction, which was greater than zero as expected."
   ]
  },
  {
   "cell_type": "markdown",
   "id": "d9cccd30-140e-4b47-8283-6a8da6a18f20",
   "metadata": {},
   "source": [
    "THIS SHOULD BE THE FINAL CELL, DO NOT ADD OTHERS AFTER THIS, EVEN IF THEY'RE EMPTY\n",
    "--- End of the Jupyter Notebook ---"
   ]
  }
 ],
 "metadata": {
  "kernelspec": {
   "display_name": "Python 3 (ipykernel)",
   "language": "python",
   "name": "python3"
  },
  "language_info": {
   "codemirror_mode": {
    "name": "ipython",
    "version": 3
   },
   "file_extension": ".py",
   "mimetype": "text/x-python",
   "name": "python",
   "nbconvert_exporter": "python",
   "pygments_lexer": "ipython3",
   "version": "3.11.5"
  }
 },
 "nbformat": 4,
 "nbformat_minor": 5
}
