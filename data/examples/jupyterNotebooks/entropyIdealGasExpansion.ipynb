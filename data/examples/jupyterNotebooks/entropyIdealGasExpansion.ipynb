{
 "cells": [
  {
   "cell_type": "markdown",
   "id": "998e4fdf-0cb4-41ef-902c-2d3fc02e8ffa",
   "metadata": {},
   "source": [
    "## Problem Metadata (JSON Block; the metadata and course context MUST be in the first cell)\n",
    "\n",
    "```json\n",
    "{\n",
    "    \"problem_title\": \"entropyIdealGasExpansion\",\n",
    "    \"author\": \"tschutzius\",\n",
    "    \"year\": \"Fa25\",\n",
    "    \"difficulty_tags\": [\"medium\"],\n",
    "    \"topic\": \"Properties\",\n",
    "    \"lecture_reference\": {\n",
    "        \"lecture_id\": \"\",\n",
    "        \"subtopics\": [\n",
    "            {\n",
    "                \"key\": \"\",\n",
    "                \"title\": \"\",\n",
    "            }\n",
    "        ]\n",
    "    },\n",
    "    \"book_reference\": {\n",
    "        \"chapter_number\": 7,\n",
    "        \"title\": \"Entropy\",\n",
    "        \"sections\": [\n",
    "            \"The T ds Relations\",\n",
    "            \"Entropy Change of Ideal Gases\"\n",
    "        ]\n",
    "    },\n",
    "    \"notes\": \"\"\n",
    "}\n",
    "```"
   ]
  },
  {
   "cell_type": "markdown",
   "id": "616c2087-74a4-43f9-a6e7-ccc405e59287",
   "metadata": {},
   "source": [
    "## 1. Problem Statement\n",
    "A rigid container contains 1 kg of air initially at 1 bar, which is connected to another evacuated rigid container ov volume 1 m$^3$ with a valve. The entire system is kept in contact with a thermal reservoir at 300 K. Now the valve is opened.\n",
    "\n",
    "**Goal:** Determine the change in entropy of the air. "
   ]
  },
  {
   "cell_type": "markdown",
   "id": "91a697d0-cff2-4ff1-85d7-745201904e7c",
   "metadata": {},
   "source": [
    "## 2. Schematic \n",
    "Draw a schematic that shows one container connected to another. Indicate that the temperature is kept constant. Draw a boundary around the left container and indicate state 1. Draw an expanded boundary that includes both containers and call that state 2. No mass in or out. "
   ]
  },
  {
   "cell_type": "markdown",
   "id": "fd9a6ec4-e5f0-482f-859b-bac97fba118f",
   "metadata": {},
   "source": [
    "## 3. Assumptions and Approximations\n",
    "* **Closed system** (no mass in or out).\n",
    "* **Ideal Gas Model** (Justification: Air at these conditions behaves as an ideal gas, $p v = R T$)\n",
    "* **Tds Relations** Because the substance is an ideal gas, we can use $Tds$ relations to compute changes in entropy if we assume constant specific heats.\n",
    "* **Neglect changes in kinetic and potential energy**: $\\Delta KE\\approx0$, $\\Delta PE\\approx0$. (Justification: The velocities are typically low, or the change in height is negligible compared to the enthalpy change.)\n",
    "* **Pure Substance** We can use pyCalor to determine properties such as specific entropy"
   ]
  },
  {
   "cell_type": "markdown",
   "id": "72890b80-b280-4e4d-82ac-1b71e8421a7b",
   "metadata": {},
   "source": [
    "## 4. Physical Laws\n",
    "Since we are determining the change in entropy of the gas from state 1 to state 2, we can simply determine the specific entropy at state 2 and state 2. The change in entropy is then:\n",
    "\n",
    "$$ \\Delta S = S_2 - S_1 = m (s_2 - s_1)$$\n",
    "\n",
    "We know state 1, but we need to determine state 2. We know that $p_1 =$101,325 Pa. For state 2, we need the pressure, $p_2$, which we can determine it from the ideal gas equation:\n",
    "\n",
    "$$p_2 = m R T_2 / V_2 $$\n",
    "\n",
    "We know that $V_2$ is equal to the volume of both containers, $V_2 = V_I + V_{II}$. We can determine the volume of container 1 as:\n",
    "\n",
    "$$V_1 = m R T_1/p_1 $$\n",
    "\n",
    "where $V_I = V_1$\n",
    "\n",
    "The volume at state 2 is then:\n",
    "$$V_2 = (m R T_1/p_1) + V_{II} $$\n",
    "\n",
    "The pressure is then:\n",
    "\n",
    "$$p_2 = m R T_2 / V_2 $$\n",
    "\n",
    "With the pressure and the temperature at state 2, we have complete information since it's a pure substance, so we can use `pyCalor` to determine its specific entropy.\n",
    "\n",
    "** Alternative solution **\n",
    "Alternatively, we can relate changes in properties to changes in entropy through the $Tds$ relation:\n",
    "\n",
    "$$T ds = du + p dv $$\n",
    "\n",
    "Assuming an ideal gas:\n",
    "\n",
    "$$T ds = c_v dT + p dv $$\n",
    "\n",
    "Assuming constant specific heats, we can write:\n",
    "\n",
    "$$s_2 - s_1 = c_p \\ln \\frac{T_2}{T_2} - R \\ln \\frac{p_2}{p_1}$$\n",
    "\n",
    "Since it's an isothermal process:\n",
    "\n",
    "$$s_2 - s_1 = - R \\ln \\frac{p_2}{p_1}$$"
   ]
  },
  {
   "cell_type": "code",
   "execution_count": 1,
   "id": "e7a1d9a9-e61f-4d02-89d3-03f4ae28448a",
   "metadata": {},
   "outputs": [
    {
     "name": "stdout",
     "output_type": "stream",
     "text": [
      "V1 = 0.861 m3\n",
      "V2 = 1.861 m3\n",
      "p2 = 46265.44868350349 Pa\n"
     ]
    }
   ],
   "source": [
    "## 5. Properties (Code Cell)\n",
    "# constants\n",
    "R_JperKgPerK = 0.2870e3\n",
    "\n",
    "# state 1\n",
    "p1_Pa = 1e5\n",
    "m_kg = 1\n",
    "T1_K = 300\n",
    "\n",
    "V1 = R_JperKgPerK*m_kg*T1_K/p1_Pa; print(\"V1 =\",V1,\"m3\")\n",
    "\n",
    "V_II = 1\n",
    "V2 = V1+V_II; print(\"V2 =\",V2,\"m3\")\n",
    "\n",
    "# state 2\n",
    "T2_K = T1_K\n",
    "p2_Pa = R_JperKgPerK*m_kg*T2_K/V2; print(\"p2 =\",p2_Pa,\"Pa\")"
   ]
  },
  {
   "cell_type": "code",
   "execution_count": 2,
   "id": "52296496-e339-482e-8f13-f6e33becfd5b",
   "metadata": {},
   "outputs": [
    {
     "name": "stdout",
     "output_type": "stream",
     "text": [
      "Requirement already satisfied: pyCalor in /Users/thomschu/anaconda3/lib/python3.11/site-packages (1.0.21)\n",
      "Requirement already satisfied: CoolProp in /Users/thomschu/anaconda3/lib/python3.11/site-packages (from pyCalor) (6.6.0)\n",
      "Requirement already satisfied: igraph in /Users/thomschu/anaconda3/lib/python3.11/site-packages (from pyCalor) (0.11.9)\n",
      "Requirement already satisfied: texttable>=1.6.2 in /Users/thomschu/anaconda3/lib/python3.11/site-packages (from igraph->pyCalor) (1.7.0)\n",
      "s1 = 3.890501402191561 kJ/kg/K\n",
      "s2 = 4.112109915464272 kJ/kg/K\n",
      "DeltaS_kJperK 0.2216085132727108 kJ/K\n",
      "DeltaS_kJperK_alt 0.22121235388556723 kJ/K\n"
     ]
    }
   ],
   "source": [
    "# 6 Calculations (Code Cell)\n",
    "!pip install pyCalor\n",
    "from pyCalor import thermo as th\n",
    "# state 1\n",
    "st1 = th.state('air',T=T1_K,p=p1_Pa/1000)\n",
    "s1 = st1.s #kJ/kg/K\n",
    "print(\"s1 =\",s1,\"kJ/kg/K\")\n",
    "\n",
    "st2 = th.state('air',T=T2_K,p=p2_Pa/1000)\n",
    "s2 = st2.s # kJ/kg/K\n",
    "print(\"s2 =\",s2,\"kJ/kg/K\")\n",
    "\n",
    "DeltaS_kJperK = (s2 - s1)*m_kg; print(\"DeltaS_kJperK\",DeltaS_kJperK,\"kJ/K\")\n",
    "\n",
    "# **Alternative Solution**\n",
    "import numpy as np\n",
    "DeltaS_kJperK_alt = - R_JperKgPerK*np.log(p2_Pa/p1_Pa)/1000\n",
    "print(\"DeltaS_kJperK_alt\",DeltaS_kJperK_alt,\"kJ/K\")"
   ]
  },
  {
   "cell_type": "markdown",
   "id": "5f8500d8-b757-41ea-8008-ab3f9766c0c6",
   "metadata": {},
   "source": [
    "## 7. Summary and Reasoning\n",
    "Because the gas expansion is a spontaneous process, we could infer that the entropy should increase. Since it is an isothermal process, and since the specific volume is increasing, we would expect from the ideal gas law that the pressure should decrease. \n",
    "\n",
    "* **Key Insight:** From the $Tds$ relations, we know that for an isothermal process, decreasing pressure will cause an increase in entropy. Alternatively stated, for an isothermal process, increasing specific volume will increase entropy."
   ]
  },
  {
   "cell_type": "markdown",
   "id": "74571ea1-329e-4567-b85a-d13f02df58db",
   "metadata": {},
   "source": [
    "THIS SHOULD BE THE FINAL CELL, DO NOT ADD OTHERS AFTER THIS, EVEN IF THEY'RE EMPTY\n",
    "--- End of the Jupyter Notebook ---"
   ]
  }
 ],
 "metadata": {
  "kernelspec": {
   "display_name": "Python 3 (ipykernel)",
   "language": "python",
   "name": "python3"
  },
  "language_info": {
   "codemirror_mode": {
    "name": "ipython",
    "version": 3
   },
   "file_extension": ".py",
   "mimetype": "text/x-python",
   "name": "python",
   "nbconvert_exporter": "python",
   "pygments_lexer": "ipython3",
   "version": "3.11.5"
  }
 },
 "nbformat": 4,
 "nbformat_minor": 5
}
