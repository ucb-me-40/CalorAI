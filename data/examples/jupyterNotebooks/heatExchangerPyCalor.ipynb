{
 "cells": [
  {
   "cell_type": "markdown",
   "id": "ac6659dd-7005-49e1-9730-1391d974bfaf",
   "metadata": {},
   "source": [
    "## Problem Metadata \n",
    "DO NOT DELETE (JSON Block; the metadata and course context MUST be in the first cell)\n",
    "\n",
    "```json\n",
    "{\n",
    "    \"problem_title\": \"heatExchangerPyCalor\",\n",
    "    \"author\": \"tschutzius\",\n",
    "    \"year\": \"Fa25\",\n",
    "    \"difficulty_tags\": [\"easy\"],\n",
    "    \"topic\": \"Control Volumes\",\n",
    "    \"lecture_reference\": {\n",
    "        \"lecture_id\": \"1_97hqf37r\",\n",
    "        \"subtopics\": [\n",
    "            {\n",
    "              \"key\": \"Fa25-L5c-2.0\",\n",
    "              \"title\": \"Heat Exchanger\",\n",
    "            }\n",
    "        ]\n",
    "    },\n",
    "    \"book_reference\": {\n",
    "              \"chapter_number\": 5,\n",
    "              \"title\": \"Mass and Energy Analysis of Control Volumes\",\n",
    "        \"sections\": [\n",
    "            \"Some Steady-Flow Engineering Devices\",\n",
    "        ]\n",
    "    },\n",
    "    \"notes\": \"\"\n",
    "}\n",
    "```"
   ]
  },
  {
   "cell_type": "markdown",
   "id": "6e531b2b-d169-4099-8900-1c6103ebb309",
   "metadata": {},
   "source": [
    "## 1. Problem Statement\n",
    "R-134a enters a heat exchanger as a vapor with a mass flow rate of 6 kg/min and leaves as a subcooled liquid. It is cooled by water that enters the heat exchanger at 15$^\\circ$C and 300 kPa and exits at 25$^\\circ$C. R-134a enters the heat exchanger at 70$^\\circ$C and 1 MPa and leaves at 35$^\\circ$C. \n",
    "\n",
    "**Goal**: \n",
    "* Determine the mass flow rate of the cooling water.\n",
    "* Determine the heat transfer rate from the refrigerant to the water."
   ]
  },
  {
   "cell_type": "markdown",
   "id": "894c8ff7-1d11-4fa7-aa68-daa3adf15210",
   "metadata": {},
   "source": [
    "## 2. Schematic\n",
    "Draw a heat exchanger with two control volumes: One for water and the other for the refrigerant (R-134a). We will also combine those two control volumes and analyze them as a single control volume. There is no heat transferred in or out of the combined control volume. "
   ]
  },
  {
   "cell_type": "markdown",
   "id": "153e4f39-c8a6-4f0b-9f05-33dc0505e2f1",
   "metadata": {},
   "source": [
    "## 3. Assumptions and Approximations\n",
    "* **Neglect changes in kinetic and potential energy** ($\\Delta KE\\approx0$, $\\Delta PE\\approx0$). (Justification: The velocities are typically low, or the change in height is negligible compared to the enthalpy change.)\n",
    "* **Steady-flow process** ($\\Delta m_\\text{CV}= 0$, $\\Delta E_\\text{CV}= 0$, $\\Delta S_\\text{CV}= 0$).\n",
    "* **Properties** We will use pyCalor to determine properties.\n",
    "* **Adiabatic Combined System** The combined control volume is assumed to be perfectly insulated. (Justification: No heat is transferred to or from the external surroundings, making $\\dot{Q}_\\text{net,surroundings}=0$.)\n",
    "* **Isobaric**: Heat exchangers are isobaric devices. (Justification: Negligible changes in pressure between the inlet and exit.)\n",
    "    "
   ]
  },
  {
   "cell_type": "markdown",
   "id": "25869c58-37c3-4650-b321-770bed1d335c",
   "metadata": {},
   "source": [
    "## 4. Physical Laws and Governing Equations\n",
    "### Water control volume, state 1 to 2\n",
    "Conservation of mass:\n",
    "$$\\frac{dm_\\text{CV}}{dt} = \\dot{m}_\\text{in} - \\dot{m}_\\text{out} $$\n",
    "\n",
    "Steady flow:\n",
    "$$0 = \\dot{m}_\\text{in} - \\dot{m}_\\text{out} $$\n",
    "$$\\dot{m}_\\text{in} = \\dot{m}_\\text{out} = \\dot{m}_\\text{water}$$\n",
    "\n",
    "Conservation of energy:\n",
    "Conservation of mass:\n",
    "$$\\frac{dE_\\text{CV}}{dt} = \\dot{E}_\\text{in} - \\dot{E}_\\text{out} $$\n",
    "\n",
    "Steady flow:\n",
    "$$0 = \\dot{E}_\\text{in} - \\dot{E}_\\text{out} $$\n",
    "$$\\dot{E}_\\text{in} = \\dot{E}_\\text{out}$$\n",
    "\n",
    "$$\\dot{W}_\\text{in} + \\dot{Q}_\\text{in} + \\dot{m}_\\text{water} \\left(h_1 + (w_1^2/2) + g z_1 \\right) = \\dot{W}_\\text{out} + \\dot{Q}_\\text{out} + \\dot{m}_\\text{water} \\left(h_2 + (w_2^2/2) + g z_2 \\right)$$\n",
    "\n",
    "Neglecting changes in kinetic and potential energy; no work transfer; heat is transferred into the water:\n",
    "$$\\left( \\dot{Q}_\\text{in} \\right)_\\text{water} = \\dot{m}_\\text{water} \\left( h_2 - h_1 \\right)$$\n",
    "\n",
    "### R-134a control volume, state 3 to 4\n",
    "Conservation of mass:\n",
    "$$\\frac{dm_\\text{CV}}{dt} = \\dot{m}_\\text{in} - \\dot{m}_\\text{out} $$\n",
    "\n",
    "Steady flow:\n",
    "$$0 = \\dot{m}_\\text{in} - \\dot{m}_\\text{out} $$\n",
    "$$\\dot{m}_\\text{in} = \\dot{m}_\\text{out} = \\dot{m}_\\text{R-134a}$$\n",
    "\n",
    "Steady flow:\n",
    "$$0 = \\dot{E}_\\text{in} - \\dot{E}_\\text{out} $$\n",
    "$$\\dot{E}_\\text{in} = \\dot{E}_\\text{out}$$\n",
    "\n",
    "$$\\dot{W}_\\text{in} + \\dot{Q}_\\text{in} + \\dot{m}_\\text{R-134a} \\left(h_3 + (w_3^2/2) + g z_3 \\right) = \\dot{W}_\\text{out} + \\dot{Q}_\\text{out} + \\dot{m}_\\text{R-134a} \\left(h_4 + (w_4^2/2) + g z_4 \\right)$$\n",
    "\n",
    "Neglecting changes in kinetic and potential energy; no work transfer; heat is transferred out of the refrigerant:\n",
    "$$\\left( \\dot{Q}_\\text{out} \\right)_\\text{R-134a} = \\dot{m}_\\text{R-134a} \\left( h_3 - h_4 \\right)$$\n",
    "\n",
    "### Combining water and R-134a control volumes\n",
    "There is no heat or work transferred in or out of the heat exchanger; therefore:\n",
    "\n",
    "$$\\left( \\dot{Q}_\\text{out} \\right)_\\text{R-134a} = \\left( \\dot{Q}_\\text{in} \\right)_\\text{water}$$\n",
    "\n",
    "Therefore, we can combine the above equations and solve for the water mass flow rate:\n",
    "\n",
    "$\\dot{m}_\\text{water} = \\dot{m}_\\text{R-134a} \\frac{\\left( h_3 - h_4 \\right)}{\\left( h_2 - h_1 \\right)}$\n",
    "\n",
    "We see from this that we need to know the enthalpies at the inlets and outlets of the heat exchanger. From that we can calculate the water mass flow rate. "
   ]
  },
  {
   "cell_type": "code",
   "execution_count": 4,
   "id": "8bd60577-a6e3-49e7-85d3-cb892bc8b052",
   "metadata": {},
   "outputs": [
    {
     "name": "stdout",
     "output_type": "stream",
     "text": [
      "Requirement already satisfied: pyCalor in /Users/schutzius/opt/anaconda3/envs/calorai_env/lib/python3.10/site-packages (1.0.21)\n",
      "Requirement already satisfied: CoolProp in /Users/schutzius/opt/anaconda3/envs/calorai_env/lib/python3.10/site-packages (from pyCalor) (7.1.0)\n",
      "Requirement already satisfied: igraph in /Users/schutzius/opt/anaconda3/envs/calorai_env/lib/python3.10/site-packages (from pyCalor) (0.11.9)\n",
      "Requirement already satisfied: texttable>=1.6.2 in /Users/schutzius/opt/anaconda3/envs/calorai_env/lib/python3.10/site-packages (from igraph->pyCalor) (1.7.0)\n",
      "Requirement already satisfied: numpy in /Users/schutzius/opt/anaconda3/envs/calorai_env/lib/python3.10/site-packages (2.2.6)\n",
      "Requirement already satisfied: matplotlib in /Users/schutzius/opt/anaconda3/envs/calorai_env/lib/python3.10/site-packages (3.10.7)\n",
      "Requirement already satisfied: contourpy>=1.0.1 in /Users/schutzius/opt/anaconda3/envs/calorai_env/lib/python3.10/site-packages (from matplotlib) (1.3.2)\n",
      "Requirement already satisfied: cycler>=0.10 in /Users/schutzius/opt/anaconda3/envs/calorai_env/lib/python3.10/site-packages (from matplotlib) (0.12.1)\n",
      "Requirement already satisfied: fonttools>=4.22.0 in /Users/schutzius/opt/anaconda3/envs/calorai_env/lib/python3.10/site-packages (from matplotlib) (4.60.1)\n",
      "Requirement already satisfied: kiwisolver>=1.3.1 in /Users/schutzius/opt/anaconda3/envs/calorai_env/lib/python3.10/site-packages (from matplotlib) (1.4.9)\n",
      "Requirement already satisfied: numpy>=1.23 in /Users/schutzius/opt/anaconda3/envs/calorai_env/lib/python3.10/site-packages (from matplotlib) (2.2.6)\n",
      "Requirement already satisfied: packaging>=20.0 in /Users/schutzius/opt/anaconda3/envs/calorai_env/lib/python3.10/site-packages (from matplotlib) (25.0)\n",
      "Requirement already satisfied: pillow>=8 in /Users/schutzius/opt/anaconda3/envs/calorai_env/lib/python3.10/site-packages (from matplotlib) (11.3.0)\n",
      "Requirement already satisfied: pyparsing>=3 in /Users/schutzius/opt/anaconda3/envs/calorai_env/lib/python3.10/site-packages (from matplotlib) (3.2.5)\n",
      "Requirement already satisfied: python-dateutil>=2.7 in /Users/schutzius/opt/anaconda3/envs/calorai_env/lib/python3.10/site-packages (from matplotlib) (2.9.0.post0)\n",
      "Requirement already satisfied: six>=1.5 in /Users/schutzius/opt/anaconda3/envs/calorai_env/lib/python3.10/site-packages (from python-dateutil>=2.7->matplotlib) (1.17.0)\n",
      "63267.0213464866\n",
      "105104.08264305249\n"
     ]
    }
   ],
   "source": [
    "## 5. Properties (Code Cell)\n",
    "# Water is used to cool a refrigerant (R-134a). \n",
    "!pip install pyCalor\n",
    "!pip install numpy\n",
    "!pip install matplotlib\n",
    "from pyCalor import thermo as th\n",
    "\n",
    "# Here are the inlet (state 1) and outlet (state 2) conditions of the water:\n",
    "# state 1\n",
    "T1_K = 15+273.15\n",
    "p1_MPa = 300/1000\n",
    "water_1 = th.state('water',p=(p1_MPa,'Mpa'),T=(T1_K,'K'),name='1')\n",
    "h1_kJperKg = water_1.h # kJ/kg\n",
    "\n",
    "# state 2\n",
    "T2_K = 25+273.15\n",
    "p2_MPa = p1_MPa\n",
    "water_2 = th.state('water',p=(p2_MPa,'Mpa'),T=(T2_K,'K'),name='2')\n",
    "h2_kJperKg = water_2.h # kJ/kg\n",
    "\n",
    "# convert to SI units\n",
    "h1_JperKg = h1_kJperKg*1000; print(h1_JperKg) # J/kg\n",
    "h2_JperKg = h2_kJperKg*1000; print(h2_JperKg) # J/kg\n",
    "\n",
    "# Here are the inlet (state 3) and outlet (state 4) properties of the refrigerant as well as its mass flow rate, which is given:\n",
    "fluid = 'R134a'\n",
    "\n",
    "# state 3\n",
    "T3_K = 70+273.15\n",
    "p3_Pa = 1e6\n",
    "st3 = th.state(fluid,p=(p3_Pa,'Pa'),T=(T3_K,'K'),name='3')\n",
    "h3_JperKg = st3.h*1e3\n",
    "\n",
    "# state 4\n",
    "T4_K = 35+273.15\n",
    "p4_Pa = p3_Pa\n",
    "st4 = th.state(fluid,p=(p4_Pa,'Pa'),T=(T4_K,'K'),name='4')\n",
    "h4_JperKg = st4.h*1e3\n",
    "\n",
    "# mass flow rate of the refrigerant\n",
    "mdot_r134a_kgPerMin = 6\n",
    "mdot_r134a_kgPerS = mdot_r134a_kgPerMin/60"
   ]
  },
  {
   "cell_type": "code",
   "execution_count": 6,
   "id": "c5130bc7-1ef3-4697-86de-49706515b6f4",
   "metadata": {},
   "outputs": [
    {
     "name": "stdout",
     "output_type": "stream",
     "text": [
      "(a): water mass flow rate: 0.4852 kg/s\n",
      "(b): Q_out_r134a: 20300.6 J/s\n"
     ]
    }
   ],
   "source": [
    "## 6 Calculations (Code Cell)\n",
    "mdot_water_kgPerS = mdot_r134a_kgPerS*(h3_JperKg-h4_JperKg)/(h2_JperKg-h1_JperKg)\n",
    "print('(a): water mass flow rate: {0:1.4f} kg/s'.format(mdot_water_kgPerS))\n",
    "\n",
    "Qout_r134a_JperS = mdot_r134a_kgPerS*(h3_JperKg - h4_JperKg)\n",
    "print('(b): Q_out_r134a: {0:1.1f} J/s'.format(Qout_r134a_JperS))"
   ]
  },
  {
   "cell_type": "markdown",
   "id": "7909eadd-02d4-4871-ae17-cc54600b60a7",
   "metadata": {},
   "source": [
    "## 7. Summary and Reasoning\n",
    "Heat is transferred out of the refrigerant and into the water. "
   ]
  },
  {
   "cell_type": "markdown",
   "id": "70592d45-db39-4f42-a2b1-084bc8c9bc86",
   "metadata": {},
   "source": [
    "THIS SHOULD BE THE FINAL CELL, DO NOT ADD OTHERS AFTER THIS, EVEN IF THEY'RE EMPTY\n",
    "--- End of the Jupyter Notebook ---"
   ]
  }
 ],
 "metadata": {
  "kernelspec": {
   "display_name": "Python 3 (ipykernel)",
   "language": "python",
   "name": "python3"
  },
  "language_info": {
   "codemirror_mode": {
    "name": "ipython",
    "version": 3
   },
   "file_extension": ".py",
   "mimetype": "text/x-python",
   "name": "python",
   "nbconvert_exporter": "python",
   "pygments_lexer": "ipython3",
   "version": "3.10.18"
  }
 },
 "nbformat": 4,
 "nbformat_minor": 5
}
