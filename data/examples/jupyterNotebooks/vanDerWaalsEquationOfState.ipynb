{
 "cells": [
  {
   "cell_type": "markdown",
   "id": "f1107122-a3f0-47c3-b3d9-8cae4dfcb8a0",
   "metadata": {},
   "source": [
    "## Problem Metadata \n",
    "DO NOT DELETE (JSON Block; the metadata and course context MUST be in the first cell)\n",
    "\n",
    "```json\n",
    "{\n",
    "    \"problem_title\": \"vanDerWaalsEquationOfState\",\n",
    "    \"author\": \"tschutzius\",\n",
    "    \"year\": \"Fa25\",\n",
    "    \"difficulty_tags\": [\"hard\"],\n",
    "    \"topic\": \"Properties\",\n",
    "    \"lecture_reference\": {\n",
    "        \"lecture_id\": \"1_blyiho9t\",\n",
    "        \"subtopics\": [\n",
    "            {\n",
    "              \"key\": \"Fa25-L3b-5.0\",\n",
    "              \"title\": \"van der Waals equation of state\",\n",
    "            }\n",
    "        ]\n",
    "    },\n",
    "    \"book_reference\": {\n",
    "        \"chapter_number\": 3,\n",
    "        \"title\": \"Properties of Pure Substances\",\n",
    "        \"sections\": [\n",
    "            \"Other Equations of State\",\n",
    "        ]\n",
    "    },\n",
    "    \"notes\": \"\"\n",
    "}\n",
    "```"
   ]
  },
  {
   "cell_type": "markdown",
   "id": "93edc614-e4de-4a5b-b98c-76c7b62864d7",
   "metadata": {},
   "source": [
    "## 1. Problem Statement\n",
    "The van der Waals equation is defined as:\n",
    "$$\\left(p + \\frac{a}{v^2} \\right) \\left(v - b \\right) = RT $$\n",
    "\n",
    "where $p$ is pressure, $v$ is specific volume, $R$ is the specific gas constant, $T$ is temperature, and $a$ and $b$ are constants. \n",
    "\n",
    "**Goal**: \n",
    "- Plot the critical point on a pressure-specific volume diagram.\n",
    "- Determine $a$ and $b$ for water given its critical temperature, $T_\\text{cr}$ and critical pressure, $p_\\text{cr}$."
   ]
  },
  {
   "cell_type": "markdown",
   "id": "7c2d88f0-83b0-4900-aa87-cf879bcaf027",
   "metadata": {},
   "source": [
    "## 2. Schematic\n",
    "No schematic"
   ]
  },
  {
   "cell_type": "markdown",
   "id": "f474c6ed-955a-4e03-b568-93b7146af2fd",
   "metadata": {},
   "source": [
    "## 3. Assumptions and Approximations\n",
    "* **State Postulate** The state postulate allows a finite number of properties to be specified in order to fully describe a state of thermodynamic equilibrium.\n",
    "* **Pure Substance** We only need two independent variables to determine the state."
   ]
  },
  {
   "cell_type": "markdown",
   "id": "4b9c550b-bfa4-48f2-99a7-1567ef011bdd",
   "metadata": {},
   "source": [
    "## 4. Physical Laws and Governing Equations\n",
    "\n",
    "van der Waals equation of state:\n",
    "$$\\left(p + \\frac{a}{v^2} \\right) \\left(v - b \\right) = RT $$\n",
    "\n",
    "$$p v + \\frac{a}{v} - pb - \\frac{ab}{v^2} - RT = 0 $$\n",
    "\n",
    "Multiplying both sides by $\\frac{v^2}{p}$\n",
    "\n",
    "$$\\frac{v^2}{p}\\left( p v + \\frac{a}{v} - pb - \\frac{ab}{v^2} - RT \\right) = 0 $$\n",
    "\n",
    "$$\\left( v^3 + \\frac{a v}{p} - v^2b - \\frac{ab}{p} - \\frac{RTv^2}{p} \\right) = 0 $$\n",
    "\n",
    "We can re-arrange as powers of $v$.\n",
    "\n",
    "$$v^3 - \\left[b + \\frac{RT}{p} \\right]v^2 + \\left[ \\frac{a}{p} \\right]v  - \\left[ \\frac{ab}{p} \\right] = 0 $$\n",
    "\n",
    "This is a cubic equation with three solutions. At the critical point all of these solutions of $v$ are equal to $v_\\text{cr}$. Also note that is $T$ becomes large, we recover the ideal gas equation.\n",
    "\n",
    "Setting specific volume equal to the critical specific volume:\n",
    "\n",
    "$$v = v_\\text{cr} $$\n",
    "\n",
    "$$v - v_\\text{cr} = 0 $$\n",
    "\n",
    "$$\\left( v - v_\\text{cr} \\right)^3 = 0 $$\n",
    "\n",
    "Expanding this formula we have:\n",
    "\n",
    "$$v^3 - \\left[ 3v_\\text{cr} \\right] v^2 + \\left[ 3v_\\text{cr}^2 \\right] v - \\left[ v_\\text{cr}^3 \\right] = 0 $$\n",
    "\n",
    "This equation is the same form as the van der Waals equation. Therefore we can set the coefficients equal to each other:\n",
    "\n",
    "$$3 v_\\text{cr} = b + \\frac{RT_\\text{cr}}{p_\\text{cr}} \\tag{1}$$ \n",
    "\n",
    "$$3 v^2_\\text{cr} = \\frac{a}{p_\\text{cr}} \\tag{2}$$\n",
    "\n",
    "$$v^3_\\text{cr} = \\frac{ab}{p_\\text{cr}} \\tag{3}$$\n",
    "\n",
    "We can divide equation (3) by equation (2), resulting in:\n",
    "\n",
    "$$(1/3)v_\\text{cr} = b \\implies v_\\text{cr} = 3b \\tag{4}$$\n",
    "\n",
    "Substituting equation (4) into equation (2), yields:\n",
    "\n",
    "$$3 (3b)^2 = \\frac{a}{p_\\text{cr}} \\implies p_\\text{cr} = \\frac{a}{27 b^2} \\tag{5}$$\n",
    "\n",
    "Substituting equation (5) into equation (1) yields:\n",
    "\n",
    "$$9b = b + \\frac{RT_\\text{cr}}{\\frac{a}{27 b^2}}$$ \n",
    "\n",
    "$$8b = \\frac{27 b^2RT_\\text{cr}}{a}$$ \n",
    "\n",
    "$$T_\\text{cr} = \\frac{8a}{27 b R} \\tag{6}$$ \n",
    "\n",
    "From equation (4) we have:\n",
    "\n",
    "$$b = \\frac{v_\\text{cr}}{3} \\tag{7}$$\n",
    "\n",
    "From equations (5) and (7) we have:\n",
    "\n",
    "$$p_\\text{cr} = \\frac{a}{27 \\left(\\frac{v_\\text{cr}}{3} \\right)^2}$$\n",
    "\n",
    "$$\\implies a = 3 p_\\text{cr} v_\\text{cr}^2 \\tag{8}$$\n",
    "\n",
    "Alternatively we can write:\n",
    "\n",
    "$$ T_\\text{cr} = \\frac{8ab}{27b^2R} $$\n",
    "\n",
    "$$ T_\\text{cr} = \\frac{a}{27b^2}\\frac{8b}{R} $$\n",
    "\n",
    "$$ T_\\text{cr} = p_\\text{cr}\\frac{8b}{R} $$\n",
    "\n",
    "$$\\implies b = \\frac{R T_\\text{cr}}{8 p_\\text{cr}} $$\n",
    "\n",
    "We can also write:\n",
    "$$b = \\frac{v_\\text{cr}}{3} = \\frac{R T_\\text{cr}}{8 p_\\text{cr}}$$\n",
    "\n",
    "$$\\implies v_\\text{cr} = \\frac{3 R T_\\text{cr}}{8 p_\\text{cr}}$$ \n",
    "\n",
    "From equation (8) we can write:\n",
    "\n",
    "$$a = \\frac{27 R^2 T_\\text{cr}^2}{64 p_\\text{cr}} $$\n",
    "\n",
    "We have now defined the coefficients $a$ and $b$ as a function of the critical temperature and pressure:\n",
    "\n",
    "$$a = \\frac{27 R^2 T_\\text{cr}^2}{64 p_\\text{cr}} $$\n",
    "\n",
    "$$b = \\frac{v_\\text{cr}}{3} = \\frac{R T_\\text{cr}}{8 p_\\text{cr}}$$"
   ]
  },
  {
   "cell_type": "code",
   "execution_count": 1,
   "id": "587a6f07-c703-412a-a954-d2de0b9baeae",
   "metadata": {},
   "outputs": [],
   "source": [
    "# 5. Properties (Code Cell)\n",
    "# critical temperature and pressure can be found as\n",
    "Tcr_K = 647.3\n",
    "pcr_kPa = 22.09e3"
   ]
  },
  {
   "cell_type": "code",
   "execution_count": 2,
   "id": "3d91dde9-bd59-477e-af2b-9a326aa8301c",
   "metadata": {},
   "outputs": [
    {
     "name": "stdout",
     "output_type": "stream",
     "text": [
      "Requirement already satisfied: pyCalor in /Users/schutzius/opt/anaconda3/envs/calorai_env/lib/python3.10/site-packages (1.0.21)\n",
      "Requirement already satisfied: numpy in /Users/schutzius/opt/anaconda3/envs/calorai_env/lib/python3.10/site-packages (2.2.6)\n",
      "Requirement already satisfied: matplotlib in /Users/schutzius/opt/anaconda3/envs/calorai_env/lib/python3.10/site-packages (3.10.7)\n",
      "Requirement already satisfied: CoolProp in /Users/schutzius/opt/anaconda3/envs/calorai_env/lib/python3.10/site-packages (from pyCalor) (7.1.0)\n",
      "Requirement already satisfied: igraph in /Users/schutzius/opt/anaconda3/envs/calorai_env/lib/python3.10/site-packages (from pyCalor) (0.11.9)\n",
      "Requirement already satisfied: contourpy>=1.0.1 in /Users/schutzius/opt/anaconda3/envs/calorai_env/lib/python3.10/site-packages (from matplotlib) (1.3.2)\n",
      "Requirement already satisfied: cycler>=0.10 in /Users/schutzius/opt/anaconda3/envs/calorai_env/lib/python3.10/site-packages (from matplotlib) (0.12.1)\n",
      "Requirement already satisfied: fonttools>=4.22.0 in /Users/schutzius/opt/anaconda3/envs/calorai_env/lib/python3.10/site-packages (from matplotlib) (4.60.1)\n",
      "Requirement already satisfied: kiwisolver>=1.3.1 in /Users/schutzius/opt/anaconda3/envs/calorai_env/lib/python3.10/site-packages (from matplotlib) (1.4.9)\n",
      "Requirement already satisfied: packaging>=20.0 in /Users/schutzius/opt/anaconda3/envs/calorai_env/lib/python3.10/site-packages (from matplotlib) (25.0)\n",
      "Requirement already satisfied: pillow>=8 in /Users/schutzius/opt/anaconda3/envs/calorai_env/lib/python3.10/site-packages (from matplotlib) (11.3.0)\n",
      "Requirement already satisfied: pyparsing>=3 in /Users/schutzius/opt/anaconda3/envs/calorai_env/lib/python3.10/site-packages (from matplotlib) (3.2.5)\n",
      "Requirement already satisfied: python-dateutil>=2.7 in /Users/schutzius/opt/anaconda3/envs/calorai_env/lib/python3.10/site-packages (from matplotlib) (2.9.0.post0)\n",
      "Requirement already satisfied: six>=1.5 in /Users/schutzius/opt/anaconda3/envs/calorai_env/lib/python3.10/site-packages (from python-dateutil>=2.7->matplotlib) (1.17.0)\n",
      "Requirement already satisfied: texttable>=1.6.2 in /Users/schutzius/opt/anaconda3/envs/calorai_env/lib/python3.10/site-packages (from igraph->pyCalor) (1.7.0)\n"
     ]
    },
    {
     "data": {
      "image/png": "[encoded data removed]",
      "text/plain": [
       "<Figure size 640x480 with 1 Axes>"
      ]
     },
     "metadata": {},
     "output_type": "display_data"
    },
    {
     "data": {
      "text/plain": [
       "<CoolProp.Plots.Plots.PropertyPlot at 0x10ef9b7f0>"
      ]
     },
     "execution_count": 2,
     "metadata": {},
     "output_type": "execute_result"
    }
   ],
   "source": [
    "# 6 Calculations (Code Cell)\n",
    "!pip install pyCalor numpy matplotlib\n",
    "\n",
    "from pyCalor import thermo as th\n",
    "# determine the critical state using pyCalor\n",
    "st1 = th.state('water', T=Tcr_K, p=pcr_kPa, name=\"1\")\n",
    "\n",
    "# plot the critical point on a pressure-specific volume diagram\n",
    "st1.plot(\"pv\")"
   ]
  },
  {
   "cell_type": "markdown",
   "id": "f14ba09c-0c05-4847-8417-bd3065dab329",
   "metadata": {},
   "source": [
    "## 7. Summary and Reasoning\n",
    "We were able to plot the critical point of water on the pressure-specific volume diagram. It should be at the point where the lines of saturated liquid and vapor meet, which it is. By knowing $a$ and $b$ we can also plot the isotherm from the van der Waals equation of state and compare it with the isotherm produced by `pyCalor`. "
   ]
  },
  {
   "cell_type": "markdown",
   "id": "bba14a41-3220-4422-8b7c-ef5cbd3abaef",
   "metadata": {},
   "source": [
    "THIS SHOULD BE THE FINAL CELL, DO NOT ADD OTHERS AFTER THIS, EVEN IF THEY'RE EMPTY\n",
    "--- End of the Jupyter Notebook ---"
   ]
  }
 ],
 "metadata": {
  "kernelspec": {
   "display_name": "Python 3 (ipykernel)",
   "language": "python",
   "name": "python3"
  },
  "language_info": {
   "codemirror_mode": {
    "name": "ipython",
    "version": 3
   },
   "file_extension": ".py",
   "mimetype": "text/x-python",
   "name": "python",
   "nbconvert_exporter": "python",
   "pygments_lexer": "ipython3",
   "version": "3.10.18"
  }
 },
 "nbformat": 4,
 "nbformat_minor": 5
}
