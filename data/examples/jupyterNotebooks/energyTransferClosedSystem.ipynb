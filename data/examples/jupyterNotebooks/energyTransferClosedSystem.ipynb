{
 "cells": [
  {
   "cell_type": "markdown",
   "id": "93c5d16e-3c47-4593-b4bd-9065bbfbd2e6",
   "metadata": {},
   "source": [
    "## Problem Metadata \n",
    "DO NOT DELETE (JSON Block; the metadata and course context MUST be in the first cell)\n",
    "\n",
    "```json\n",
    "{\n",
    "    \"problem_title\": \"energyTransferClosedSystem\",\n",
    "    \"author\": \"tschutzius\",\n",
    "    \"year\": \"Fa25\",\n",
    "    \"difficulty_tags\": [\"easy\"],\n",
    "    \"topic\": \"Properties\",\n",
    "    \"lecture_reference\": {\n",
    "        \"lecture_id\": \"1_0uijb1pt\",\n",
    "        \"subtopics\": [\n",
    "            {\n",
    "              \"key\": \"Fa25-L2a-11.0\",\n",
    "              \"title\": \"Energy balance of a system\",\n",
    "            }\n",
    "        ]\n",
    "    },\n",
    "    \"book_reference\": {\n",
    "        \"chapter_number\": 2,\n",
    "        \"title\": \"Energy, Energy Transfer, and General Energy Analysis\",\n",
    "        \"sections\": [\n",
    "            \"Energy Transfer by Work\",\n",
    "        ]\n",
    "    },\n",
    "    \"notes\": \"\"\n",
    "}\n",
    "```"
   ]
  },
  {
   "cell_type": "markdown",
   "id": "2f320ee7-9010-4161-b454-c80fac72369a",
   "metadata": {},
   "source": [
    "## 1. Problem Statement\n",
    "Consider a closed system containing a fluid. The initial internal energy, $U_1$ is given. Shaft work is transferred in and heat is transferred out. \n",
    "\n",
    "**Goal** \n",
    "- Determine the final internal energy, $U_2$."
   ]
  },
  {
   "cell_type": "markdown",
   "id": "98cbd003-416f-4fbc-ba29-a8ab1b271c7b",
   "metadata": {},
   "source": [
    "## 2. Schematic\n",
    "Draw a rigid container that contains a paddle that can rotate. Draw a boundary around the inside of the container. The container should indicate that it is not insulated. Indicate that work is transferred in and heat is transferred out."
   ]
  },
  {
   "cell_type": "markdown",
   "id": "43b3cca6-912e-4e66-94cc-ee7eaeba98e6",
   "metadata": {},
   "source": [
    "## 3. Assumptions and Approximations\n",
    "* **Closed system** (no mass in or out).\n",
    "* **Neglect changes in kinetic and potential energy**: $\\Delta KE\\approx0$, $\\Delta PE\\approx0$. (Justification: The velocities are typically low, or the change in height is negligible compared to the enthalpy change.)\n",
    "* **Work** is transferred in through shaft work.\n",
    "* **Heat** is transferred out."
   ]
  },
  {
   "cell_type": "markdown",
   "id": "588ce65c-fbf3-402e-a767-7900fd192249",
   "metadata": {},
   "source": [
    "## 4. Physical Laws and Governing Equations\n",
    "Conservation of energy:\n",
    "\n",
    "$$E_\\text{in}-E_\\text{out}=(Q_\\text{in}-Q_\\text{out})+(W_\\text{in}-W_\\text{out})$$\n",
    "\n",
    "Neglecting changes in kinetic and potential energy, we can write:\n",
    "\n",
    "$$E_\\text{in}-E_\\text{out}=\\Delta E_\\text{system}=U_2-U_1 $$\n",
    "\n",
    "Only work in and heat out:\n",
    "\n",
    "$$U_2=U_1-Q_\\text{out}+W_\\text{in}$$"
   ]
  },
  {
   "cell_type": "code",
   "execution_count": 3,
   "id": "338cb8f0-1093-4866-8ce0-d07f3fc7bb2e",
   "metadata": {},
   "outputs": [
    {
     "name": "stdout",
     "output_type": "stream",
     "text": [
      "The history saving thread hit an unexpected error (OperationalError('attempt to write a readonly database')).History will not be written to the database.\n"
     ]
    }
   ],
   "source": [
    "## 5. Properties (Code Cell)\n",
    "Qout_kJ = 500\n",
    "Win_kJ = 100\n",
    "\n",
    "U1_kJ = 800"
   ]
  },
  {
   "cell_type": "code",
   "execution_count": 4,
   "id": "4db42672-d668-4d4f-b490-6cdbc1642594",
   "metadata": {},
   "outputs": [
    {
     "name": "stdout",
     "output_type": "stream",
     "text": [
      "400\n"
     ]
    }
   ],
   "source": [
    "# 6 Calculations (Code Cell)\n",
    "U2_kJ = U1_kJ + (-Qout_kJ) - (-Win_kJ); print(U2_kJ)"
   ]
  },
  {
   "cell_type": "markdown",
   "id": "95abd29c-08d5-4b25-8fc3-e6fbaa3b9468",
   "metadata": {},
   "source": [
    "## 7. Summary and Reasoning\n",
    "From the first law of thermodynamics, since we are transferring more energy out than in, we would expect that the internal energy at state 2 is less than state 1. "
   ]
  },
  {
   "cell_type": "markdown",
   "id": "c4d2a040-15eb-45ec-b05c-0b8197f9b46b",
   "metadata": {},
   "source": [
    "THIS SHOULD BE THE FINAL CELL, DO NOT ADD OTHERS AFTER THIS, EVEN IF THEY'RE EMPTY\n",
    "--- End of the Jupyter Notebook ---"
   ]
  }
 ],
 "metadata": {
  "kernelspec": {
   "display_name": "Python 3 (ipykernel)",
   "language": "python",
   "name": "python3"
  },
  "language_info": {
   "codemirror_mode": {
    "name": "ipython",
    "version": 3
   },
   "file_extension": ".py",
   "mimetype": "text/x-python",
   "name": "python",
   "nbconvert_exporter": "python",
   "pygments_lexer": "ipython3",
   "version": "3.11.5"
  }
 },
 "nbformat": 4,
 "nbformat_minor": 5
}
