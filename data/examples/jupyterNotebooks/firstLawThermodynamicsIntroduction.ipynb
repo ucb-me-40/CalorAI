{
 "cells": [
  {
   "cell_type": "markdown",
   "id": "6e1cd706-9c2e-44cf-941d-576209f22d4c",
   "metadata": {},
   "source": [
    "# Problem Solution Template for LLM Training\n",
    "## Problem Metadata (JSON Block; the metadata and course context MUST be in the first cell)\n",
    "\n",
    "```json\n",
    "{\n",
    "    \"problem_title\": \"Introduction to the First Law of Thermodynamics\",\n",
    "    \"author\": \"tschutzius\",\n",
    "    \"year\": \"Fa25\",\n",
    "    \"difficulty_tags\": [\"medium\"],\n",
    "    \"topic\": \"Introduction\",\n",
    "    \"lecture_reference\": {\n",
    "        \"lecture_id\": \"1_mtmivyvl\",\n",
    "        \"subtopics\": [\n",
    "            {\n",
    "                \"key\": \"Fa25-L1a-7.0\",\n",
    "                \"title\": \"Introduction to the first law of thermodynamics\",\n",
    "            }\n",
    "        ]\n",
    "    },\n",
    "    \"book_reference\": {\n",
    "        \"chapter_number\": 2,\n",
    "        \"title\": \"Energy, Energy Transfer, and General Energy Analysis\",\n",
    "        \"sections\": [\n",
    "            \"The First Law of Thermodynamics\"\n",
    "        ]\n",
    "    },\n",
    "    \"notes\": \"\"\n",
    "}\n",
    "```"
   ]
  },
  {
   "cell_type": "markdown",
   "id": "abf321fb-da02-46cf-9fda-3f377ee8de7e",
   "metadata": {},
   "source": [
    "## 1. Problem Statement\n",
    "## Work \n",
    "\n",
    "We can define work as:\n",
    "$$dW_F = F ds $$\n",
    "\n",
    "where $s$ is position, $F$ is force.\n",
    "\n",
    "A state of a system is its condition or position and is identified through the properties of a system. \n",
    "\n",
    "A property of a system is any observable characteristic of the system. \n",
    "\n",
    "Two states of a system are called identifical states if every property of the system is the same in both instances. \n",
    "\n",
    "When the state of a system alters, the change of state is described in terms of the end states. \n",
    "\n",
    "The path of a change of state is the series of states through which the system passes. \n",
    "\n",
    "The process involved in a change of state is described in terms of the path and the method by which the path is described. \n"
   ]
  },
  {
   "cell_type": "markdown",
   "id": "5789bffe-a64e-4a46-ac2c-a3a560d54317",
   "metadata": {},
   "source": [
    "## 2. Schematic \n",
    "Consider a system consisting of a fixed surface $S$ and a weight $\\omega$ tied to a drum mounted above the surface in frictionless bearings. \n",
    "\n",
    "Let's call the state of this system in which the weight rests upon the surface state 1. \n",
    "\n",
    "A process occurs in which some outside agent turns the crank on the drum and causes the weight to move slowly upward until it is elevated a distance $h$ above the surface. This new state of the system is state 2. \n",
    "\n",
    "The process just described was accompanied by the flow of work from a system comprising the agent to the system comprising the weight and drum. \n",
    "\n",
    "_Work flows from a system (and to another) during a given operation if the sole effect external to the system could be the rise of a weight._\n",
    "\n",
    "Now the weight-drum system is allowed to return to state 1 by a slow downward movement of the weight. In order to insure slow motion it is necessary to apply a restraining force to the drum. \n",
    "\n",
    "It is clear that the restraining force might be the force applied by an opposing weight, of the same magnitude as weight $\\omega$ but outside the system, which will rise the distance $h$ as the system returns to state 1. \n",
    "\n",
    "Following the convention that work done by the system is positive and work done on the system is negative, we may write for the cycle of operations 1-2-1:\n",
    "\n",
    "$$ \\oint dW = 0$$\n",
    "\n",
    "where the circle on the sign of integration indicates that the summation is made around a close cycle. \n",
    "\n",
    "It appears that something which supplied to the system as work in process 1-2 was not destroyed. We cannot say that work was stored in the system at state 2, but we recall that in the science of mechanics that stored something is referred to as potential energy due to gravity. \n",
    "\n",
    "Now let us repeat process 1-2 exactly, but, instead of opposing process 2-1 with an external weight, let us restrain the downward motion by means of a brake on the drum. When the weight is once more resting on the surface we inspect the system to see if state 1 has been restored. We find that it has been restored in every respect except one; namely, the temperatures of the drum and brake shoe are higher than in state 1. \n",
    "\n",
    "Our experience with heat indicates that even in this respect we may return to state 1 by cooling the brake and rum. Now for this second cycle of operation we may write:\n",
    "\n",
    "$$ \\oint dW \\ne 0$$\n",
    "\n",
    "and our concept of a something which is conserved to appear as work or to be stored as potential energy fails. \n",
    "\n",
    "Experiments have shown that the work done in raising the weight is proportional to the heat delivered by the system to the calorimeter. Therefore we may write:\n",
    "\n",
    "$$ \\oint dQ - \\oint dW = 0 \\tag{1a}$$"
   ]
  },
  {
   "cell_type": "markdown",
   "id": "8700838b-5d22-4b57-88bf-0abc73f4de94",
   "metadata": {},
   "source": [
    "## 3. Assumptions and Approximations\n",
    "\n",
    "## The First Law of Thermodynamics\n",
    "\n",
    "The first law of thermodynamics is simply a generalization of equation (1) to include all cyclic proceesses in nature. \n",
    "\n",
    "If any system is carried through a cycle (the end state being precisely the same as the initial state) then the sumation of the work delivered to the surroundings is proportional to the summation of the heat taken from the surroundings. The summations are in both instances algebraic and include positive and negative heat and work. \n",
    "\n",
    "These experiments cited above are no proof of the First Law. If it is true it is probable that its truth will never be demonstrated except by failure of all attempts to disprove it. "
   ]
  },
  {
   "cell_type": "markdown",
   "id": "7287f73f-467f-4c16-aa98-acdd359296e1",
   "metadata": {},
   "source": [
    "## 4. Physical Laws\n",
    "### Definition of Internal Energy, a Property\n",
    "\n",
    "Consider a system which can change by some process A from state 1 to state 0 and by some process B from state 0 to state 1. Then:\n",
    "\n",
    "$$\\int^0_{1A} (dQ - dW) + \\int_{0B}^1(dQ - dW) = 0 $$\n",
    "\n",
    "Let process $C$ be any other process by which the system may change in state from 0 to 1. Then for the cycle $1A0C1$ we may write:\n",
    "\n",
    "$$\\int^0_{1A} (dQ - dW) + \\int_{0C}^1(dQ - dW) = 0 $$\n",
    "\n",
    "Combining these two equations and simplifying:\n",
    "\n",
    "$$ \\int^1_{0B} (dQ - dW) = \\int_{0C}^1 (dQ - dW)$$\n",
    "\n",
    "Therefore, when a system changes from one prescribed state to another, the value of the integral of $(dQ - dW)$ is fixed by the end states and is independent of the process. It follows that this integral is a property because it satisfies the criterion of a property. We shall call it the internal energy of the system and give it the symbol $E$. Therefore:\n",
    "\n",
    "$$ E_1 - E_0 = \\int_0^1 (dQ - dW) = Q - W \\tag{2a}$$\n",
    "\n",
    "where $Q$ and $W$ denote respectively the net heat received by the system and the net work done by the system during the change of state from 0 to 1. Differentiation gives:\n",
    "\n",
    "$$dE = dQ - dW $$\n",
    "\n",
    "Thermodynamics tells us nothing about the values of $E_1$ or $E_0$ in the previous equation though it does tell us the means of computing the difference between them. Since there is no absolute value of the internal energy, it is permissible to assume that its value to be zero at any specified state. \n",
    "\n",
    "\n",
    "It is profitable to reflect on the difference between the property $E$ and the non-properties $Q$ and $W$. A cyclic integral of $dQ$ or $dW$ may be other than zero, which is proof that the integrals of these quantities are not properties. On the other hand, the cyclic integral of $dE$ cannot be other than zero.\n",
    "\n",
    "The differential $dE$ is an exact differential in terms of the variables that determine the state. The value of its integral is fixed when the values of the independent variables are fixed. Nos imilar statement can be made for $dQ$ and $dW$, because the values of their integrals depend on the processes by which the state is approached and not upon the magnitudes of the properties corresponding to the state. \n",
    "\n",
    "So we can write $E_1$ to denote the internal energy corresponding to a state 1 but not $W_1$ or $Q_1$, because there is no quantity of work or heat which corresponds to state 1. "
   ]
  },
  {
   "cell_type": "code",
   "execution_count": 1,
   "id": "cebc6da3-8fa3-4b78-83f8-1e5d318b1e5b",
   "metadata": {},
   "outputs": [],
   "source": [
    "## 5. Properties (Code Cell)\n",
    "# The internal energy of a system remains unchanged if the system is isolated from its environment as regards work and heat, regardless of the nature of the changes within the system. \n",
    "\n",
    "# Internal energy remains unchanged for any cyclic change in the state of the system. This is equivalent to the First Law. "
   ]
  },
  {
   "cell_type": "code",
   "execution_count": 2,
   "id": "7218b3b3-fb96-43b6-bea1-306a2d1a655e",
   "metadata": {},
   "outputs": [],
   "source": [
    "## 6 Calculations (Code Cell)\n",
    "### The definition of energy\n",
    "# The term energy may be employed as a general term which embraces heat, work, and internal energy. \n",
    "# In Mechanics changes in internal energy of a system is called kinetic energy. \n",
    "# A system comprising a weight in a gravitational field, work may be introduced to raise the weight. The corresponding icnrease in the internal energy of the system is called in mechanics the increase in potential energy due to gravity. \n",
    "# Internal energy may include potential energy in an electrostatic field or in a magnetic field. These are all forms of stored energy which may be increased or decreased through the transfer of work alone. Internal energy includes besides these all kinds of stored energy which are affected by transfer of heat. "
   ]
  },
  {
   "cell_type": "markdown",
   "id": "a6b92738-f228-4211-b9b6-6754ce6a1bfb",
   "metadata": {},
   "source": [
    "## 7. Summary and Reasoning\n",
    "\n",
    "The first law states that work and heat are equal in a cyclic process. Work and heat are evaluated at the boundaries of a system. No application of the first law can be made until the system and its boundaries are defined. The boundaries need not be stationary, and in general they will not be. \n",
    "\n",
    "*The first step in the solution of a problem in thermodynamics is the description of a system and its boundaries.*"
   ]
  },
  {
   "cell_type": "markdown",
   "id": "d42162be-0d8d-497b-a24c-327c512458ff",
   "metadata": {},
   "source": [
    "THIS SHOULD BE THE FINAL CELL, DO NOT ADD OTHERS AFTER THIS, EVEN IF THEY'RE EMPTY\n",
    "--- End of the Jupyter Notebook ---"
   ]
  }
 ],
 "metadata": {
  "kernelspec": {
   "display_name": "Python 3 (ipykernel)",
   "language": "python",
   "name": "python3"
  },
  "language_info": {
   "codemirror_mode": {
    "name": "ipython",
    "version": 3
   },
   "file_extension": ".py",
   "mimetype": "text/x-python",
   "name": "python",
   "nbconvert_exporter": "python",
   "pygments_lexer": "ipython3",
   "version": "3.11.5"
  }
 },
 "nbformat": 4,
 "nbformat_minor": 5
}
