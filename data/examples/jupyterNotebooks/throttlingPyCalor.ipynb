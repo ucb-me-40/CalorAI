{
 "cells": [
  {
   "cell_type": "markdown",
   "id": "f499a1d8-a95c-4843-9886-f067f62c4e28",
   "metadata": {},
   "source": [
    "## Problem Metadata \n",
    "DO NOT DELETE (JSON Block; the metadata and course context MUST be in the first cell)\n",
    "\n",
    "```json\n",
    "{\n",
    "    \"problem_title\": \"throttlingPyCalor\",\n",
    "    \"author\": \"tschutzius\",\n",
    "    \"year\": \"Fa25\",\n",
    "    \"difficulty_tags\": [\"easy\"],\n",
    "    \"topic\": \"Control Volumes\",\n",
    "    \"lecture_reference\": {\n",
    "        \"lecture_id\": \"1_97hqf37r\",\n",
    "        \"subtopics\": [\n",
    "            {\n",
    "              \"key\": \"Fa25-L5c-1.0\",\n",
    "              \"title\": \"Throttling and Expansion Valves\",\n",
    "            }\n",
    "        ]\n",
    "    },\n",
    "    \"book_reference\": {\n",
    "              \"chapter_number\": 5,\n",
    "              \"title\": \"Mass and Energy Analysis of Control Volumes\",\n",
    "        \"sections\": [\n",
    "            \"Some Steady-Flow Engineering Devices\",\n",
    "        ]\n",
    "    },\n",
    "    \"notes\": \"\"\n",
    "}\n",
    "```"
   ]
  },
  {
   "cell_type": "markdown",
   "id": "5eae5980-fc8b-4893-a876-ab4b179d653a",
   "metadata": {},
   "source": [
    "## 1. Problem Statement\n",
    "Refrigerant-134a enters a throttling valve at $p_3=$0.8 MPa and $T_3=$50$^\\circ$C and exits at $p_4=$0.15 MPa. \n",
    "\n",
    "**Goal**: \n",
    "* Determine the exit temperature of the throttling device, $T_4$."
   ]
  },
  {
   "cell_type": "markdown",
   "id": "b252f4ba-6680-4d7f-9b32-9cae5a070760",
   "metadata": {},
   "source": [
    "## 2. Schematic\n",
    "Draw a schematic of a throttling device. Draw a control volume. Indicate that there is no heat transfer or shaft work in or out. "
   ]
  },
  {
   "cell_type": "markdown",
   "id": "c5861b02-6cc8-4cb7-92dc-ddf8510de834",
   "metadata": {},
   "source": [
    "## 3. Assumptions and Approximations\n",
    "* **Adiabatic process**.\n",
    "* **Neglect changes in kinetic and potential energy** ($\\Delta KE\\approx0$, $\\Delta PE\\approx0$). (Justification: The velocities are typically low, or the change in height is negligible compared to the enthalpy change.)\n",
    "* **Steady-flow process** ($\\Delta m_\\text{CV}= 0$, $\\Delta E_\\text{CV}= 0$, $\\Delta S_\\text{CV}= 0$).\n",
    "* We have a single inlet and outlet ($\\dot{m}_\\text{in}$ and $\\dot{m}_\\text{out}$).\n",
    "* **Properties** We will use pyCalor to determine properties."
   ]
  },
  {
   "cell_type": "markdown",
   "id": "6ee60419-0d7c-404b-b54b-9f45a2ae3388",
   "metadata": {},
   "source": [
    "## 4. Physical Laws and Governing Equations\n",
    "Conservation of mass:\n",
    "$$\\frac{dm_\\text{CV}}{dt} = \\dot{m}_\\text{in} - \\dot{m}_\\text{out} $$\n",
    "\n",
    "Steady flow:\n",
    "$$0 = \\dot{m}_\\text{in} - \\dot{m}_\\text{out} $$\n",
    "$$\\dot{m}_\\text{in} = \\dot{m}_\\text{out} = \\dot{m}$$\n",
    "\n",
    "Conservation of energy:\n",
    "$$\\frac{dE_\\text{CV}}{dt} = \\dot{E}_\\text{in} - \\dot{E}_\\text{out} $$\n",
    "\n",
    "Steady flow:\n",
    "$$0 = \\dot{E}_\\text{in} - \\dot{E}_\\text{out} $$\n",
    "$$\\dot{E}_\\text{in} = \\dot{E}_\\text{out}$$\n",
    "\n",
    "$$\\dot{W}_\\text{in} + \\dot{Q}_\\text{in} + \\dot{m} \\left(h_3 + (w_3^2/2) + g z_3 \\right) = \\dot{W}_\\text{out} + \\dot{Q}_\\text{out} + \\dot{m} \\left(h_4 + (w_4^2/2) + g z_4 \\right)$$\n",
    "\n",
    "Neglecting changes in kinetic and potential energy; no work transfer; no heat transfer:\n",
    "$$h_3 = h_4 $$\n",
    "\n",
    "We see that this process is isenthalpic. By determining $h_4$, we can now determine state 4 since we know $p_4$."
   ]
  },
  {
   "cell_type": "code",
   "execution_count": 1,
   "id": "bc064890",
   "metadata": {},
   "outputs": [
    {
     "name": "stdout",
     "output_type": "stream",
     "text": [
      "Requirement already satisfied: pyCalor in /Users/schutzius/opt/anaconda3/envs/calorai_env/lib/python3.10/site-packages (1.0.21)\n",
      "Requirement already satisfied: numpy in /Users/schutzius/opt/anaconda3/envs/calorai_env/lib/python3.10/site-packages (2.2.6)\n",
      "Requirement already satisfied: matplotlib in /Users/schutzius/opt/anaconda3/envs/calorai_env/lib/python3.10/site-packages (3.10.7)\n",
      "Requirement already satisfied: CoolProp in /Users/schutzius/opt/anaconda3/envs/calorai_env/lib/python3.10/site-packages (from pyCalor) (7.1.0)\n",
      "Requirement already satisfied: igraph in /Users/schutzius/opt/anaconda3/envs/calorai_env/lib/python3.10/site-packages (from pyCalor) (0.11.9)\n",
      "Requirement already satisfied: contourpy>=1.0.1 in /Users/schutzius/opt/anaconda3/envs/calorai_env/lib/python3.10/site-packages (from matplotlib) (1.3.2)\n",
      "Requirement already satisfied: cycler>=0.10 in /Users/schutzius/opt/anaconda3/envs/calorai_env/lib/python3.10/site-packages (from matplotlib) (0.12.1)\n",
      "Requirement already satisfied: fonttools>=4.22.0 in /Users/schutzius/opt/anaconda3/envs/calorai_env/lib/python3.10/site-packages (from matplotlib) (4.60.1)\n",
      "Requirement already satisfied: kiwisolver>=1.3.1 in /Users/schutzius/opt/anaconda3/envs/calorai_env/lib/python3.10/site-packages (from matplotlib) (1.4.9)\n",
      "Requirement already satisfied: packaging>=20.0 in /Users/schutzius/opt/anaconda3/envs/calorai_env/lib/python3.10/site-packages (from matplotlib) (25.0)\n",
      "Requirement already satisfied: pillow>=8 in /Users/schutzius/opt/anaconda3/envs/calorai_env/lib/python3.10/site-packages (from matplotlib) (11.3.0)\n",
      "Requirement already satisfied: pyparsing>=3 in /Users/schutzius/opt/anaconda3/envs/calorai_env/lib/python3.10/site-packages (from matplotlib) (3.2.5)\n",
      "Requirement already satisfied: python-dateutil>=2.7 in /Users/schutzius/opt/anaconda3/envs/calorai_env/lib/python3.10/site-packages (from matplotlib) (2.9.0.post0)\n",
      "Requirement already satisfied: six>=1.5 in /Users/schutzius/opt/anaconda3/envs/calorai_env/lib/python3.10/site-packages (from python-dateutil>=2.7->matplotlib) (1.17.0)\n",
      "Requirement already satisfied: texttable>=1.6.2 in /Users/schutzius/opt/anaconda3/envs/calorai_env/lib/python3.10/site-packages (from igraph->pyCalor) (1.7.0)\n"
     ]
    }
   ],
   "source": [
    "## 5. Properties (Code Cell)\n",
    "!pip install pyCalor numpy matplotlib\n",
    "from pyCalor import thermo as th\n",
    "\n",
    "mdot_kgPerS = 0.05\n",
    "fluid = 'R134a'\n",
    "\n",
    "# state 3\n",
    "p3_MPa = 0.8\n",
    "x3 = 0.0\n",
    "st3 = th.state(fluid,p=(p3_MPa,'Mpa'),x=x3,name='3')\n",
    "\n",
    "# state 4\n",
    "p4_MPa = 0.15\n",
    "# isenthalpic process, 3 to 4, h4 = st3.h\n",
    "st4 = th.state(fluid,h=st3.h,p=(p4_MPa,'Mpa'),name='4')"
   ]
  },
  {
   "cell_type": "code",
   "execution_count": 3,
   "id": "c6fd1a1e-7cf1-4108-8861-07c059bc96d6",
   "metadata": {},
   "outputs": [
    {
     "name": "stdout",
     "output_type": "stream",
     "text": [
      "T4_K = 256.018 K.\n"
     ]
    }
   ],
   "source": [
    "## 6 Calculations (Code Cell)\n",
    "T4_K = st4.T\n",
    "print('T4_K = {0:1.3f} K.'.format(T4_K))"
   ]
  },
  {
   "cell_type": "markdown",
   "id": "801f9a3f-105d-41a4-9bfd-103a39f5fdfb",
   "metadata": {},
   "source": [
    "## 7. Summary and Reasoning\n",
    "Since it's an isenthalpic process, we are able to determine the downstream specific enthalpy. By knowing that and the pressure, which is given, we were able to determine the temperature. We also see that the temperature is lower after throttling, which is the purpose of the device. "
   ]
  },
  {
   "cell_type": "markdown",
   "id": "cc3ceeed-32ae-49c7-a159-1bd0ba90bffd",
   "metadata": {},
   "source": [
    "THIS SHOULD BE THE FINAL CELL, DO NOT ADD OTHERS AFTER THIS, EVEN IF THEY'RE EMPTY\n",
    "--- End of the Jupyter Notebook ---"
   ]
  }
 ],
 "metadata": {
  "kernelspec": {
   "display_name": "Python 3 (ipykernel)",
   "language": "python",
   "name": "python3"
  },
  "language_info": {
   "codemirror_mode": {
    "name": "ipython",
    "version": 3
   },
   "file_extension": ".py",
   "mimetype": "text/x-python",
   "name": "python",
   "nbconvert_exporter": "python",
   "pygments_lexer": "ipython3",
   "version": "3.10.18"
  }
 },
 "nbformat": 4,
 "nbformat_minor": 5
}
