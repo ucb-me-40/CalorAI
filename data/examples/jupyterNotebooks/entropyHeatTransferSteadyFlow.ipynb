{
 "cells": [
  {
   "cell_type": "markdown",
   "id": "7e865eab-1a45-4fda-af06-93aa71d9331e",
   "metadata": {},
   "source": [
    "## Problem Metadata \n",
    "DO NOT DELETE (JSON Block; the metadata and course context MUST be in the first cell)\n",
    "\n",
    "```json\n",
    "{\n",
    "    \"problem_title\": \"entropyHeatTransferSteadyFlow\",\n",
    "    \"author\": \"tschutzius\",\n",
    "    \"year\": \"Fa25\",\n",
    "    \"difficulty_tags\": [\"medium\"],\n",
    "    \"topic\": \"Properties\",\n",
    "    \"lecture_reference\": {\n",
    "        \"lecture_id\": \"\",\n",
    "        \"subtopics\": [\n",
    "            {\n",
    "                \"key\": \"Fa25-L7d-X.X\",\n",
    "                \"title\": \".\",\n",
    "            }\n",
    "        ]\n",
    "    },\n",
    "    \"book_reference\": {\n",
    "        \"chapter_number\": 7,\n",
    "        \"title\": \"Entropy\",\n",
    "        \"sections\": [\n",
    "            \"The Increase of Entropy Principle\"\n",
    "        ]\n",
    "    },\n",
    "    \"notes\": \"\"\n",
    "}\n",
    "```\n",
    "\n",
    "## 1. Problem Statement\n",
    "Calculate the heat transfer, in kJ/kg, for the reversible steady-flow process from states 1 to 2 to 3 given the following information: \n",
    "\n",
    "State 1 is $T_1 = 120^\\circ$C and $s_1$=0.01 kJ/(kg K). The temperature decreases linearly as a function of specific entropy to state 2. State 2 is at $T_2 = 30^\\circ$C and $s_1$=1.0 kJ/(kg K). The process from state 2 to 3 is isentropic with $T_3= 100^\\circ$C. \n",
    "\n",
    "## 2. Schematic\n",
    "No schematic needed. Analyze the temperature-specific entropy diagram.\n",
    "\n",
    "## 3. Assumptions and Approximations\n",
    "* Reversible\n",
    "* **Steady-flow process** ($\\Delta m_\\text{CV}= 0$, $\\Delta E_\\text{CV}= 0$, $\\Delta S_\\text{CV}= 0$).\n",
    "    \n",
    "## 4. Physical Laws and Governing Equations\n",
    "$$dS = \\left( \\frac{\\delta Q}{T} \\right)_\\text{int rev}$$\n",
    "\n",
    "The integral of $\\frac{\\delta Q}{T}$ gives us the value of entropy change if the integration is carried out along an internally reversible path between the two states. The integral of$\\frac{\\delta Q}{T}$ along an irreversible path is not a property, and different values will be obtained if one integrates along different irreversible paths. "
   ]
  },
  {
   "cell_type": "code",
   "execution_count": 4,
   "id": "c7660734",
   "metadata": {},
   "outputs": [
    {
     "name": "stdout",
     "output_type": "stream",
     "text": [
      "341.187\n"
     ]
    }
   ],
   "source": [
    "## 5. Properties (Code Cell)\n",
    "T1_C = 120 # C\n",
    "T2_C = 30 # C\n",
    "T3_C = 100 # C\n",
    "\n",
    "s1_kJperKgPerK = 0.02 # kJ/(kg K)\n",
    "s2_kJperKgPerK = 1.0 # kJ/(kg K)\n",
    "s3_kJperKgPerK = s2_kJperKgPerK # kJ/(kg K)\n",
    "\n",
    "T1_K = T1_C + 273.15\n",
    "T2_K = T2_C + 273.15\n",
    "T3_K = T3_C + 273.15\n",
    "\n",
    "# 6 Calculations (Code Cell)\n",
    "# q = T ds # kJ/kg\n",
    "# Integrating the areas under the T-s curve\n",
    "q12_kJperKg = T2_K*(s2_kJperKgPerK-s1_kJperKgPerK) + (T1_K - T2_K)*(s2_kJperKgPerK-s1_kJperKgPerK)/2\n",
    "# process 2 to 3 is isentropic\n",
    "q23_kJperKg = 0\n",
    "# sum of the heat transferred from states 1 to 2 and 2 to 3\n",
    "q13_kJperKg = q12_kJperKg + q23_kJperKg\n",
    "print(q13_kJperKg)"
   ]
  },
  {
   "cell_type": "markdown",
   "id": "c74e6dab-f006-4e6f-818e-f5fa102b1915",
   "metadata": {},
   "source": [
    "## 7. 💡 Summary and Reasoning\n",
    "We expected the sign of $q$ to be positive since entropy was increasing from states 1 to 2. We did not expect any heat addition from states 2 to 3 because there was no change in entropy.  "
   ]
  },
  {
   "cell_type": "code",
   "execution_count": null,
   "id": "bbad0b83-c0c1-476f-9087-eede2680d1cb",
   "metadata": {},
   "outputs": [],
   "source": []
  }
 ],
 "metadata": {
  "kernelspec": {
   "display_name": "Python 3 (ipykernel)",
   "language": "python",
   "name": "python3"
  },
  "language_info": {
   "codemirror_mode": {
    "name": "ipython",
    "version": 3
   },
   "file_extension": ".py",
   "mimetype": "text/x-python",
   "name": "python",
   "nbconvert_exporter": "python",
   "pygments_lexer": "ipython3",
   "version": "3.11.13"
  }
 },
 "nbformat": 4,
 "nbformat_minor": 5
}
