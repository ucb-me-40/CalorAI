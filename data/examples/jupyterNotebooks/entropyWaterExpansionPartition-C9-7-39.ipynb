{
 "cells": [
  {
   "cell_type": "markdown",
   "id": "a3030cbc-7f87-47cb-98c7-0ac19e7f8438",
   "metadata": {},
   "source": [
    "## Problem Metadata \n",
    "DO NOT DELETE. This is a JSON Block. The metadata and course context MUST be in the first cell. \n",
    "\n",
    "```json\n",
    "{\n",
    "    \"problem_title\": \"entropyWaterExpansionPartition-C9-7-39\",\n",
    "    \"author\": \"tschutzius\",\n",
    "    \"year\": \"Fa25\",\n",
    "    \"difficulty_tags\": [\"easy\"],\n",
    "    \"topic\": \"Entropy\",\n",
    "    \"lecture_reference\": {\n",
    "        \"lecture_id\": \"\",\n",
    "        \"subtopics\": [\n",
    "            {\n",
    "                \"key\": \"\",\n",
    "                \"topic\": \"\"\n",
    "            }\n",
    "        ]\n",
    "    },\n",
    "    \"book_reference\": {\n",
    "        \"chapter_number\": 7,\n",
    "        \"title\": \"Entropy\",\n",
    "        \"sections\": [\n",
    "            \"Entropy Balance\"\n",
    "        ]\n",
    "    },\n",
    "    \"notes\": \"\"\n",
    "}"
   ]
  },
  {
   "cell_type": "markdown",
   "id": "b828d5aa-4c6c-4bb5-bf46-872c85747ed9",
   "metadata": {},
   "source": [
    "## 1. Problem Statement\n",
    "\n",
    "A rigid tank is divided into two equal volumes by a partition. One half of the tank contains 2.5 kg of compressed liquid water at 400 kPa and 60°C while the other half is evacuated. The partition is then removed, and the water expands to fill the entire tank. The final pressure in the tank is 40 kPa. \n",
    "\n",
    "**Goal:** Determine the change in entropy of water during this process."
   ]
  },
  {
   "cell_type": "markdown",
   "id": "ed74e1fb-7b75-4a2e-84bf-a5e8a4229fb8",
   "metadata": {},
   "source": [
    "## 2. Schematic \n",
    "\n",
    "Draw a schematic that shows a rigid container divided in two with a partition. The one part contains compressed liquid water. The other part is evacuated. Indicate that there is no work transfer but that there may be heat transfer. "
   ]
  },
  {
   "cell_type": "markdown",
   "id": "3811a415-70da-4cca-99bd-35cb74ef14d0",
   "metadata": {},
   "source": [
    "## 3. Assumptions and Approximations\n",
    "* **Closed system** (no mass in or out).\n",
    "* **Properties** We can use `pyCalor` to determine properties. \n",
    "* **Neglect changes in kinetic and potential energy**: $\\Delta KE\\approx0$, $\\Delta PE\\approx0$. (Justification: The velocities are typically low, or the change in height is negligible compared to the enthalpy change.)"
   ]
  },
  {
   "cell_type": "markdown",
   "id": "6796e802-cf43-43a5-aefb-6110b2eac4ba",
   "metadata": {},
   "source": [
    "## 4. Physical Laws\n",
    "1.  **First Law of Thermodynamics (Energy Balance for a Closed System):**\n",
    "$$\\Delta E_\\text{system} = E_\\text{in} - E_\\text{out} = (W_\\text{in} + Q_\\text{in}) - (W_\\text{out} + Q_\\text{out})$$\n",
    "\n",
    "2.  **Conservation of Mass (Mass Balance for a Closed System):**\n",
    "    $$\\Delta m_\\text{CV} = 0$$\n",
    "\n",
    "By definition we can write that the changes in the energy of the system only depend on changes in internal energy, kinetic energy, and potential energy. \n",
    "\n",
    "$$\\Delta E_\\text{system} = \\Delta U + \\Delta KE + \\Delta PE $$\n",
    "\n",
    "Neglect kinetic and potential energy changes:\n",
    "\n",
    "$$\\Delta E_\\text{system} = \\Delta U $$\n",
    "\n",
    "$$\\Delta U = U_2 - U_1 = (Q_\\text{in} - Q_\\text{out}) + (W_\\text{in} - W_\\text{out}) $$\n",
    "\n",
    "There is no work transfer. Therefore:\n",
    "\n",
    "$$\\Delta U = U_2 - U_1 = Q_\\text{net,in}$$\n",
    "\n",
    "3. **Entropy Balance for a Closed System** \n",
    "For a closed system, no mass can flow across its boundaries, and its entropy change is simply the difference between the initial and final entropies of the system:\n",
    "\n",
    "$$\\Delta S_\\text{system} = S_\\text{final} - S_\\text{initial}$$\n",
    "\n",
    "Since there is no change in mass in the system and since entropy is a property, we can write:\n",
    "\n",
    "$$\\Delta S_\\text{system} = m \\left( s_\\text{final} - s_\\text{initial} \\right)$$\n",
    "\n",
    "So we just need to determine the initial and final states and we can determine the change in entropy of the water. Once we know that, we could then determine the contributions to this change in entropy. Entropy changes in a closed system is due to entropy transfer from heat transfer and entropy generation within the system boundaries:\n",
    "\n",
    "$$S_\\text{in} - S_\\text{out} + S_\\text{gen} = \\Delta S_\\text{system}$$\n",
    "\n",
    "Since we have water expanding and possibly heat being added, we could expect entropy to be transferred in and entropy to be generated. "
   ]
  },
  {
   "cell_type": "code",
   "execution_count": 1,
   "id": "7b06df3f-4e8b-431c-a8f0-d9b5489e62c1",
   "metadata": {},
   "outputs": [
    {
     "name": "stdout",
     "output_type": "stream",
     "text": [
      "Requirement already satisfied: pyCalor in /Users/schutzius/opt/anaconda3/envs/calorai_env/lib/python3.10/site-packages (1.0.21)\n",
      "Requirement already satisfied: numpy in /Users/schutzius/opt/anaconda3/envs/calorai_env/lib/python3.10/site-packages (2.2.6)\n",
      "Requirement already satisfied: matplotlib in /Users/schutzius/opt/anaconda3/envs/calorai_env/lib/python3.10/site-packages (3.10.7)\n",
      "Requirement already satisfied: CoolProp in /Users/schutzius/opt/anaconda3/envs/calorai_env/lib/python3.10/site-packages (from pyCalor) (7.1.0)\n",
      "Requirement already satisfied: igraph in /Users/schutzius/opt/anaconda3/envs/calorai_env/lib/python3.10/site-packages (from pyCalor) (0.11.9)\n",
      "Requirement already satisfied: contourpy>=1.0.1 in /Users/schutzius/opt/anaconda3/envs/calorai_env/lib/python3.10/site-packages (from matplotlib) (1.3.2)\n",
      "Requirement already satisfied: cycler>=0.10 in /Users/schutzius/opt/anaconda3/envs/calorai_env/lib/python3.10/site-packages (from matplotlib) (0.12.1)\n",
      "Requirement already satisfied: fonttools>=4.22.0 in /Users/schutzius/opt/anaconda3/envs/calorai_env/lib/python3.10/site-packages (from matplotlib) (4.60.1)\n",
      "Requirement already satisfied: kiwisolver>=1.3.1 in /Users/schutzius/opt/anaconda3/envs/calorai_env/lib/python3.10/site-packages (from matplotlib) (1.4.9)\n",
      "Requirement already satisfied: packaging>=20.0 in /Users/schutzius/opt/anaconda3/envs/calorai_env/lib/python3.10/site-packages (from matplotlib) (25.0)\n",
      "Requirement already satisfied: pillow>=8 in /Users/schutzius/opt/anaconda3/envs/calorai_env/lib/python3.10/site-packages (from matplotlib) (11.3.0)\n",
      "Requirement already satisfied: pyparsing>=3 in /Users/schutzius/opt/anaconda3/envs/calorai_env/lib/python3.10/site-packages (from matplotlib) (3.2.5)\n",
      "Requirement already satisfied: python-dateutil>=2.7 in /Users/schutzius/opt/anaconda3/envs/calorai_env/lib/python3.10/site-packages (from matplotlib) (2.9.0.post0)\n",
      "Requirement already satisfied: six>=1.5 in /Users/schutzius/opt/anaconda3/envs/calorai_env/lib/python3.10/site-packages (from python-dateutil>=2.7->matplotlib) (1.17.0)\n",
      "Requirement already satisfied: texttable>=1.6.2 in /Users/schutzius/opt/anaconda3/envs/calorai_env/lib/python3.10/site-packages (from igraph->pyCalor) (1.7.0)\n"
     ]
    }
   ],
   "source": [
    "# 5. Properties (Code Cell)\n",
    "!pip install pyCalor numpy matplotlib\n",
    "from pyCalor import thermo as th\n",
    "\n",
    "# substance\n",
    "substance = 'water'\n",
    "mA_kg = 2.5\n",
    "\n",
    "# state 1\n",
    "pA1_kPa = 400\n",
    "TA1_C = 60\n",
    "\n",
    "# state 2\n",
    "p2_kPa = 40\n",
    "\n",
    "# Determine state 1\n",
    "st1 = th.state(substance,T=(TA1_C,'C'),p=(pA1_kPa,'kPa'),name='1')\n",
    "V1_m3 = mA_kg*st1.v\n",
    "\n",
    "# Determine state 2\n",
    "V2_m3 = V1_m3*2\n",
    "v2_m3PerKg = V2_m3/mA_kg\n",
    "st2 = th.state(substance,v=(v2_m3PerKg,'m3/kg'),p=(p2_kPa,'kPa'),name='2')"
   ]
  },
  {
   "cell_type": "code",
   "execution_count": 7,
   "id": "0d767614-f83a-4177-845b-0d3149d9f2f5",
   "metadata": {},
   "outputs": [
    {
     "name": "stdout",
     "output_type": "stream",
     "text": [
      "Entropy change of the water during this process: 0.491 kJ/K\n"
     ]
    }
   ],
   "source": [
    "# 6 Calculations (Code Cell)\n",
    "dS_kJperK = mA_kg*(st2.s - st1.s)\n",
    "QnetIn_kJ = mA_kg*(st2.u - st1.u)\n",
    "\n",
    "print(f\"Entropy change of the water during this process: {dS_kJperK:.3f} kJ/K\")"
   ]
  },
  {
   "cell_type": "markdown",
   "id": "25ba294b-18da-4e27-bb24-c3b1089595ba",
   "metadata": {},
   "source": [
    "## 7. Summary and Reasoning\n",
    "We were able to determine the change in entropy of this process by recognizing that there was no change in mass in the system and that entropy is a property. Therefore, by defining the initial and final states, we were able to determine the change in entropy of the water during this expansion process. We note that there were contributions to change in entropy from expansion and heat transfer. In order to determine $S_\\text{in}$  and $S_\\text{gen}$ we would have to break the process down into two steps. The first would be adiabatic expansion of the compressed liquid into the vacuum. Since there is no heat or work transfer, the internal energy wouldn't change, so we would know the specific internal energy. We also know the final volume and therefore specific volume. With that we can determine the state after expansion and therefore $S_\\text{gen}$. After that we could allow heat to be transferred in. Since we know $\\Delta S_\\text{system}$ and $S_\\text{gen}$, we could determine $S_\\text{in} - S_\\text{out}$. Since in this problem heat is being transferred in, $S_\\text{out} = 0$, and we would then know $S_\\text{in}$."
   ]
  },
  {
   "cell_type": "markdown",
   "id": "066edba2-6f23-44b5-8c6f-7edf8312dfd1",
   "metadata": {},
   "source": [
    "THIS SHOULD BE THE FINAL CELL, DO NOT ADD OTHERS AFTER THIS, EVEN IF THEY'RE EMPTY\n",
    "--- End of the Jupyter Notebook ---"
   ]
  }
 ],
 "metadata": {
  "kernelspec": {
   "display_name": "Python 3 (ipykernel)",
   "language": "python",
   "name": "python3"
  },
  "language_info": {
   "codemirror_mode": {
    "name": "ipython",
    "version": 3
   },
   "file_extension": ".py",
   "mimetype": "text/x-python",
   "name": "python",
   "nbconvert_exporter": "python",
   "pygments_lexer": "ipython3",
   "version": "3.11.5"
  }
 },
 "nbformat": 4,
 "nbformat_minor": 5
}
