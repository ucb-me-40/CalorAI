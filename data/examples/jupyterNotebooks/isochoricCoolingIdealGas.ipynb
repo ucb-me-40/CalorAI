{
 "cells": [
  {
   "cell_type": "markdown",
   "id": "6dfec545-cebe-43cd-8808-19178ea9b103",
   "metadata": {},
   "source": [
    "## Problem Metadata \n",
    "DO NOT DELETE (JSON Block; the metadata and course context MUST be in the first cell)\n",
    "\n",
    "```json\n",
    "{\n",
    "    \"problem_title\": \"isochoricCoolingIdealGas\",\n",
    "    \"author\": \"tschutzius\",\n",
    "    \"year\": \"Fa25\",\n",
    "    \"difficulty_tags\": [\"easy\"],\n",
    "    \"topic\": \"Properties\",\n",
    "    \"lecture_reference\": {\n",
    "        \"lecture_id\": \"1_h0h8llrr\",\n",
    "        \"subtopics\": [\n",
    "            {\n",
    "              \"key\": \"Fa25-L2b-7.0\",\n",
    "              \"title\": \"Isochoric cooling example\",\n",
    "            }\n",
    "        ]\n",
    "    },\n",
    "    \"book_reference\": {\n",
    "        \"chapter_number\": 2,\n",
    "        \"title\": \"Energy, Energy Transfer, and General Energy Analysis\",\n",
    "        \"sections\": [\n",
    "            \"Energy Transfer by Heat\",\n",
    "        ]\n",
    "    },\n",
    "    \"notes\": \"\"\n",
    "}\n",
    "```\n",
    "\n",
    "## 1. Problem Statement\n",
    "1 kg of air, treated as an ideal gas, is kept inside a rigid container. The initial pressure and temperature are 100 kPa and 100 deg. C. It is then cooled until it reaches 80 kPa. \n",
    "\n",
    "**Goal**\n",
    "- What is the final temperature?\n",
    "- How much heat is transferred out?\n",
    "\n",
    "## 2. Schematic\n",
    "Draw a rigid container that contains an ideal gas. Draw a control volume along the boundary of the container. Show that heat is being transferred out.\n",
    "\n",
    "## 3. Assumptions and Approximations\n",
    "* **Closed System** (no mass crosses the boundary).\n",
    "* Neglect kinetic and potential energy ($\\Delta KE \\approx 0$, $\\Delta PE \\approx 0$).\n",
    "* ideal gas. Because it's an ideal gas, changes in internal energy only depends upon changes in temperature. \n",
    "* **Isochoric** $v_2 = v_1$ (rigid container, no mass in or out)\n",
    "\n",
    "## 4. Physical Laws and Governing Equations\n",
    "Conservation of energy:\n",
    "$$\\Delta E_\\text{system} = E_\\text{in} - E_\\text{out} = (W_\\text{in} + Q_\\text{in}) - (W_\\text{out} + Q_\\text{out})$$\n",
    "\n",
    "By definition we can write that the changes in the energyof the system only depend on changes in internal energy, kinetic energy, and potential energy. \n",
    "\n",
    "$$\\Delta E_\\text{system} = \\Delta U + \\Delta KE + \\Delta PE $$\n",
    "\n",
    "Neglect kinetic and potential energy changes:\n",
    "\n",
    "$$\\Delta E_\\text{system} = \\Delta U $$\n",
    "\n",
    "$$\\Delta U = U_2 - U_1 = (Q_\\text{in} - Q_\\text{out}) + (W_\\text{in} - W_\\text{out}) $$\n",
    "\n",
    "The vessel is cooled at constant volume. Therefore, no work transfer:\n",
    "\n",
    "$$\\Delta U = (Q_\\text{in} - Q_\\text{out})$$\n",
    "\n",
    "Heat is only transferred out:\n",
    "\n",
    "$$\\Delta U = U_2 - U_1 =  - Q_\\text{out}$$\n",
    "\n",
    "We will show this later, but for an ideal gas, the change in internal energy only depends upon temperature, and the specific heat at constant volume, $c_V$ therefore:\n",
    "\n",
    "$$dU = m c_V dT $$\n",
    "\n",
    "Therefore,\n",
    "\n",
    "$$U_2 - U_1 = m c_V (T_2 - T_1) $$ \n",
    "\n",
    "Substituting into above yields:\n",
    "\n",
    "$$U_2 - U_1 =  - Q_\\text{out} = m c_V (T_2 - T_1)$$\n",
    "\n",
    "Rearranging:\n",
    "\n",
    "$$ Q_\\text{out} = m c_V (T_1 - T_2)$$"
   ]
  },
  {
   "cell_type": "code",
   "execution_count": 4,
   "id": "f076a045-ac8c-41c3-8f6b-2836f68b2c32",
   "metadata": {},
   "outputs": [
    {
     "name": "stdout",
     "output_type": "stream",
     "text": [
      "Requirement already satisfied: pyCalor in /srv/conda/lib/python3.11/site-packages (1.0.21)\n",
      "Requirement already satisfied: CoolProp in /srv/conda/lib/python3.11/site-packages (from pyCalor) (7.1.0)\n",
      "Requirement already satisfied: igraph in /srv/conda/lib/python3.11/site-packages (from pyCalor) (0.11.9)\n",
      "Requirement already satisfied: texttable>=1.6.2 in /srv/conda/lib/python3.11/site-packages (from igraph->pyCalor) (1.7.0)\n",
      "25.370000000000005\n"
     ]
    }
   ],
   "source": [
    "## 5. Properties (Code Cell)\n",
    "!pip install pyCalor\n",
    "from pyCalor import thermo as th\n",
    "import matplotlib.pyplot as plt\n",
    "\n",
    "m_kg = 1\n",
    "R_JperKgPerK = 287\n",
    "\n",
    "p1_Pa = 100e3\n",
    "T1_C = 100\n",
    "\n",
    "p2_Pa = 80e3\n",
    "# T2_C = 25\n",
    "\n",
    "# ideal gas law\n",
    "v1_m3PerKg = (R_JperKgPerK*(T1_C+273.15))/p1_Pa\n",
    "\n",
    "# isochoric\n",
    "v2_m3PerKg = v1_m3PerKg\n",
    "\n",
    "# ideal gas to determine T2\n",
    "T2_K = (p2_Pa*v2_m3PerKg)/R_JperKgPerK\n",
    "T2_C = T2_K - 273.15\n",
    "print(T2_C)"
   ]
  },
  {
   "cell_type": "code",
   "execution_count": 5,
   "id": "1fcd769b-ffb0-4ba4-b021-5c8ca87855fd",
   "metadata": {},
   "outputs": [
    {
     "name": "stdout",
     "output_type": "stream",
     "text": [
      "53.58434\n"
     ]
    },
    {
     "data": {
      "text/plain": [
       "(0.0, 120.0)"
      ]
     },
     "execution_count": 5,
     "metadata": {},
     "output_type": "execute_result"
    },
    {
     "data": {
      "image/png": "[encoded data removed]",
      "text/plain": [
       "<Figure size 640x480 with 1 Axes>"
      ]
     },
     "metadata": {},
     "output_type": "display_data"
    }
   ],
   "source": [
    "# 6 Calculations (Code Cell)\n",
    "cv_kJperKgPerK = 0.718\n",
    "Qout_kJ = m_kg*cv_kJperKgPerK*(T1_C - T2_C)\n",
    "print(Qout_kJ)\n",
    "\n",
    "st1 = th.state('air', p=p1_Pa/1000, T=T1_C+273.15, name=\"1\")\n",
    "st2 = th.state('air', p=p2_Pa/1000, T=T2_C+273.15, name=\"2\")\n",
    "pr = th.process([(st1,st2)])\n",
    "\n",
    "# pr.plot('pv')\n",
    "plt.plot([st1.v, st2.v], [st1.p, st2.p], color='blue', linewidth=2)\n",
    "\n",
    "plt.plot(st1.v, st1.p, 'o', color='red', markersize=8)\n",
    "plt.annotate('State (1)', xy=(st1.v, st1.p),\n",
    "             textcoords=\"offset points\", xytext=(-30, 10), ha='center', fontsize=12)\n",
    "\n",
    "plt.plot(st2.v, st2.p, 'o', color='red', markersize=8)\n",
    "plt.annotate('State (2)', xy=(st2.v, st2.p),\n",
    "             textcoords=\"offset points\", xytext=(-30, 10), ha='center', fontsize=12)\n",
    "\n",
    "plt.xlabel('$v$ (m^3/kg)', fontsize=14)\n",
    "plt.ylabel('$p$ (Pa)', fontsize=14)\n",
    "\n",
    "plt.grid(True)\n",
    "\n",
    "plt.xlim(0, st1.v * 1.5)\n",
    "plt.ylim(0, st1.p * 1.2)\n",
    "\n",
    "# plt.savefig('p-V-isochoric-cooling-air.png')"
   ]
  },
  {
   "cell_type": "markdown",
   "id": "4fa595f6-c23a-4dc1-8efb-00d6fd347b5a",
   "metadata": {},
   "source": [
    "## 7. Summary and Reasoning\n",
    "\n",
    "The pressure-volume diagram makes sense. Pressure decreases while volume is kept the same. We expected the pressure to decrease since we are transferring energy out. As volume is kept constant, there is no work transfer."
   ]
  },
  {
   "cell_type": "code",
   "execution_count": null,
   "id": "e5d47e62-87dd-4617-8ce9-a27a7b12fdbd",
   "metadata": {},
   "outputs": [],
   "source": []
  }
 ],
 "metadata": {
  "kernelspec": {
   "display_name": "Python 3 (ipykernel)",
   "language": "python",
   "name": "python3"
  },
  "language_info": {
   "codemirror_mode": {
    "name": "ipython",
    "version": 3
   },
   "file_extension": ".py",
   "mimetype": "text/x-python",
   "name": "python",
   "nbconvert_exporter": "python",
   "pygments_lexer": "ipython3",
   "version": "3.11.13"
  }
 },
 "nbformat": 4,
 "nbformat_minor": 5
}
