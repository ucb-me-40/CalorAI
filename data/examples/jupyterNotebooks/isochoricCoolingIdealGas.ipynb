{
 "cells": [
  {
   "cell_type": "markdown",
   "id": "f9bfb7b7-f4c2-475e-bb18-a518d9f107a3",
   "metadata": {},
   "source": [
    "## Problem Metadata \n",
    "DO NOT DELETE (JSON Block; the metadata and course context MUST be in the first cell)\n",
    "\n",
    "```json\n",
    "{\n",
    "    \"problem_title\": \"isochoricCoolingIdealGas\",\n",
    "    \"author\": \"tschutzius\",\n",
    "    \"year\": \"Fa25\",\n",
    "    \"difficulty_tags\": [\"easy\"],\n",
    "    \"topic\": \"Properties\",\n",
    "    \"lecture_reference\": {\n",
    "        \"lecture_id\": \"1_h0h8llrr\",\n",
    "        \"subtopics\": [\n",
    "            {\n",
    "              \"key\": \"Fa25-L2b-7.0\",\n",
    "              \"title\": \"Isochoric cooling example\",\n",
    "            }\n",
    "        ]\n",
    "    },\n",
    "    \"book_reference\": {\n",
    "        \"chapter_number\": 2,\n",
    "        \"title\": \"Energy, Energy Transfer, and General Energy Analysis\",\n",
    "        \"sections\": [\n",
    "            \"Energy Transfer by Heat\",\n",
    "        ]\n",
    "    },\n",
    "    \"notes\": \"\"\n",
    "}\n",
    "```"
   ]
  },
  {
   "cell_type": "markdown",
   "id": "b9a267b3-7dd2-4642-b4a4-210cb9c8d758",
   "metadata": {},
   "source": [
    "## 1. Problem Statement\n",
    "1 kg of air, treated as an ideal gas, is kept inside a rigid container. The initial pressure and temperature are 100 kPa and 100 deg. C. It is then cooled until it reaches 80 kPa. \n",
    "\n",
    "**Goal**\n",
    "- What is the final temperature?\n",
    "- How much heat is transferred out?"
   ]
  },
  {
   "cell_type": "markdown",
   "id": "ea00c3c0-e32f-41ed-920b-4d9bcea62098",
   "metadata": {},
   "source": [
    "## 2. Schematic\n",
    "Draw a rigid container that contains an ideal gas. Draw a control volume along the boundary of the container. Show that heat is being transferred out."
   ]
  },
  {
   "cell_type": "markdown",
   "id": "12174c13-b282-4ccc-b7aa-d5fd0b943ddb",
   "metadata": {},
   "source": [
    "## 3. Assumptions and Approximations\n",
    "* **Closed system** (no mass in or out).\n",
    "* **Neglect changes in kinetic and potential energy**: $\\Delta KE\\approx0$, $\\Delta PE\\approx0$. (Justification: The velocities are typically low, or the change in height is negligible compared to the enthalpy change.)\n",
    "* **Heat** is transferred out.\n",
    "* **Ideal Gas Model** (Justification: Air at these conditions behaves as an ideal gas, $p v = R T$)\n",
    "* **Internal Energy Ideal Gas** Internal energy for an ideal gas only depend upon temperature, $U = U(T)$. \n",
    "* **Isochoric** $v_2 = v_1$ (Justification: rigid container, closed system)"
   ]
  },
  {
   "cell_type": "markdown",
   "id": "7f28a77c-7c9a-4b52-b2e0-23f00b01dc74",
   "metadata": {},
   "source": [
    "## 4. Physical Laws and Governing Equations\n",
    "Conservation of energy:\n",
    "$$\\Delta E_\\text{system} = E_\\text{in} - E_\\text{out} = (W_\\text{in} + Q_\\text{in}) - (W_\\text{out} + Q_\\text{out})$$\n",
    "\n",
    "By definition we can write that the changes in the energyof the system only depend on changes in internal energy, kinetic energy, and potential energy. \n",
    "\n",
    "$$\\Delta E_\\text{system} = \\Delta U + \\Delta KE + \\Delta PE $$\n",
    "\n",
    "Neglect kinetic and potential energy changes:\n",
    "\n",
    "$$\\Delta E_\\text{system} = \\Delta U $$\n",
    "\n",
    "$$\\Delta U = U_2 - U_1 = (Q_\\text{in} - Q_\\text{out}) + (W_\\text{in} - W_\\text{out}) $$\n",
    "\n",
    "The vessel is cooled at constant volume. Therefore, no work transfer:\n",
    "\n",
    "$$\\Delta U = (Q_\\text{in} - Q_\\text{out})$$\n",
    "\n",
    "Heat is only transferred out:\n",
    "\n",
    "$$\\Delta U = U_2 - U_1 =  - Q_\\text{out}$$\n",
    "\n",
    "We will show this later, but for an ideal gas, the change in internal energy only depends upon temperature, and the specific heat at constant volume, $c_V$ therefore:\n",
    "\n",
    "$$dU = m c_V dT $$\n",
    "\n",
    "Therefore,\n",
    "\n",
    "$$U_2 - U_1 = m c_V (T_2 - T_1) $$ \n",
    "\n",
    "Substituting into above yields:\n",
    "\n",
    "$$U_2 - U_1 =  - Q_\\text{out} = m c_V (T_2 - T_1)$$\n",
    "\n",
    "Rearranging:\n",
    "\n",
    "$$ Q_\\text{out} = m c_V (T_1 - T_2)$$"
   ]
  },
  {
   "cell_type": "code",
   "execution_count": 7,
   "id": "f076a045-ac8c-41c3-8f6b-2836f68b2c32",
   "metadata": {},
   "outputs": [
    {
     "name": "stdout",
     "output_type": "stream",
     "text": [
      "Requirement already satisfied: pyCalor in /Users/schutzius/opt/anaconda3/envs/calorai_env/lib/python3.10/site-packages (1.0.21)\n",
      "Requirement already satisfied: numpy in /Users/schutzius/opt/anaconda3/envs/calorai_env/lib/python3.10/site-packages (2.2.6)\n",
      "Requirement already satisfied: CoolProp in /Users/schutzius/opt/anaconda3/envs/calorai_env/lib/python3.10/site-packages (from pyCalor) (7.1.0)\n",
      "Requirement already satisfied: igraph in /Users/schutzius/opt/anaconda3/envs/calorai_env/lib/python3.10/site-packages (from pyCalor) (0.11.9)\n",
      "Requirement already satisfied: texttable>=1.6.2 in /Users/schutzius/opt/anaconda3/envs/calorai_env/lib/python3.10/site-packages (from igraph->pyCalor) (1.7.0)\n"
     ]
    }
   ],
   "source": [
    "## 5. Properties (Code Cell)\n",
    "!pip install pyCalor numpy\n",
    "from pyCalor import thermo as th\n",
    "import matplotlib.pyplot as plt\n",
    "\n",
    "m_kg = 1\n",
    "R_JperKgPerK = 287\n",
    "\n",
    "p1_Pa = 100e3\n",
    "T1_C = 100\n",
    "\n",
    "p2_Pa = 80e3\n",
    "# T2_C = 25\n",
    "\n",
    "# ideal gas law\n",
    "v1_m3PerKg = (R_JperKgPerK*(T1_C+273.15))/p1_Pa\n",
    "\n",
    "# isochoric\n",
    "v2_m3PerKg = v1_m3PerKg\n",
    "\n",
    "# ideal gas to determine T2\n",
    "T2_K = (p2_Pa*v2_m3PerKg)/R_JperKgPerK\n",
    "T2_C = T2_K - 273.15"
   ]
  },
  {
   "cell_type": "code",
   "execution_count": 6,
   "id": "1fcd769b-ffb0-4ba4-b021-5c8ca87855fd",
   "metadata": {},
   "outputs": [
    {
     "name": "stdout",
     "output_type": "stream",
     "text": [
      "(a) T2_C = 25.370 C.\n",
      "(b) Qout_kJ = 53.584 kJ.\n"
     ]
    },
    {
     "data": {
      "image/png": "[encoded data removed]",
      "text/plain": [
       "<Figure size 640x480 with 1 Axes>"
      ]
     },
     "metadata": {},
     "output_type": "display_data"
    }
   ],
   "source": [
    "# 6 Calculations (Code Cell)\n",
    "print('(a) T2_C = {0:1.3f} C.'.format(T2_C))\n",
    "\n",
    "cv_kJperKgPerK = 0.718\n",
    "Qout_kJ = m_kg*cv_kJperKgPerK*(T1_C - T2_C)\n",
    "print('(b) Qout_kJ = {0:1.3f} kJ.'.format(Qout_kJ))\n",
    "\n",
    "st1 = th.state('air', p=p1_Pa/1000, T=T1_C+273.15, name=\"1\")\n",
    "st2 = th.state('air', p=p2_Pa/1000, T=T2_C+273.15, name=\"2\")\n",
    "pr = th.process([(st1,st2)])\n",
    "\n",
    "#plot the process on a p-v diagram\n",
    "fig1 = pr.plot(\"pv\")"
   ]
  },
  {
   "cell_type": "markdown",
   "id": "4fa595f6-c23a-4dc1-8efb-00d6fd347b5a",
   "metadata": {},
   "source": [
    "## 7. Summary and Reasoning\n",
    "\n",
    "The pressure-volume diagram makes sense. Pressure decreases while volume is kept the same. We expected the pressure to decrease since we are transferring energy out. As volume is kept constant, there is no work transfer."
   ]
  },
  {
   "cell_type": "markdown",
   "id": "09076514-bb96-4e4f-aae0-8788b7b5da72",
   "metadata": {},
   "source": [
    "THIS SHOULD BE THE FINAL CELL, DO NOT ADD OTHERS AFTER THIS, EVEN IF THEY'RE EMPTY\n",
    "--- End of the Jupyter Notebook ---"
   ]
  }
 ],
 "metadata": {
  "kernelspec": {
   "display_name": "Python 3 (ipykernel)",
   "language": "python",
   "name": "python3"
  },
  "language_info": {
   "codemirror_mode": {
    "name": "ipython",
    "version": 3
   },
   "file_extension": ".py",
   "mimetype": "text/x-python",
   "name": "python",
   "nbconvert_exporter": "python",
   "pygments_lexer": "ipython3",
   "version": "3.10.18"
  }
 },
 "nbformat": 4,
 "nbformat_minor": 5
}
