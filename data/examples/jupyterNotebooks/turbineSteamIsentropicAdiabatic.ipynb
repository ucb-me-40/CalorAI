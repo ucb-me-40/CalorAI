{
 "cells": [
  {
   "cell_type": "markdown",
   "id": "b9519ce9-755b-4459-90c8-adb25c9ba0ea",
   "metadata": {},
   "source": [
    "## Problem Metadata \n",
    "DO NOT DELETE. This is a JSON Block. The metadata and course context MUST be in the first cell. \n",
    "\n",
    "```json\n",
    "{\n",
    "    \"problem_title\": \"Isentropic and adiabatic steam turbine\",\n",
    "    \"author\": \"tschutzius\",\n",
    "    \"year\": \"Fa25\",\n",
    "    \"difficulty_tags\": [\"easy\"],\n",
    "    \"topic\": \"Entropy\",\n",
    "    \"module\": \"module-two\",\n",
    "    \"lecture_reference\": {\n",
    "        \"lecture_id\": \"1_4ak8fp37\",\n",
    "        \"subtopics\": [\n",
    "            {\n",
    "                  \"key\": \"Fa25-L7c-3.0\",\n",
    "                  \"title\": \"Isentropic process: Adiabatic turbine\"\n",
    "            }\n",
    "        ]\n",
    "    },\n",
    "    \"book_reference\": {\n",
    "        \"chapter_number\": 7,\n",
    "        \"title\": \"Entropy\",\n",
    "        \"sections\": [\n",
    "            \"Isentropic Processes\"\n",
    "        ]\n",
    "    },\n",
    "    \"notes\": \"\"\n",
    "}\n",
    "```"
   ]
  },
  {
   "cell_type": "markdown",
   "id": "4389ffab-108b-4a46-ae9e-127d91039bd7",
   "metadata": {},
   "source": [
    "## 1. Problem Statement\n",
    "\n",
    "Steam enters an adiabatic turbine at $p_1 =$ 5 MPa and $T_1 =$ 450 $^\\circ$ C and exits at $p_2 =$ 1.4 MPa. The process is reversible. \n",
    "\n",
    "**Goal:** Determine the work output per unit mass, $\\frac{\\dot{W}_\\text{out}}{\\dot{m}}$.\n",
    "\n",
    "## 2. Schematic \n",
    "\n",
    "Draw a schematic that shows a turbine. Draw the control volume around the turbine. There is a single inlet and oulet for mass to flow in and out. Indicate that it is adiabatic and that work is being transferred out. \n",
    "\n",
    "## 3. Assumptions and Approximations\n",
    "* **Control Volume** (mass crosses the boundary).\n",
    "* Cannot be treated as an ideal gas. We will use pyCalor to determine properties.\n",
    "* Neglect kinetic and potential energy ($\\Delta KE \\approx 0$, $\\Delta PE \\approx 0$).\n",
    "* **Reversible process**.\n",
    "* **Adiabatic process**.\n",
    "* **Steady-flow process** ($\\Delta m_\\text{CV}= 0$, $\\Delta E_\\text{CV}= 0$, $\\Delta S_\\text{CV}= 0$).\n",
    "* We have a single inlet and outlet ($\\dot{m}_\\text{in}$ and $\\dot{m}_\\text{out}$).\n",
    "\n",
    "## 4. Physical Laws\n",
    "1.  **First Law of Thermodynamics (Energy Balance for Control Volume):**\n",
    "    $$\\frac{dE_\\text{CV}}{dt} = \\dot{E}_\\text{in} - \\dot{E}_\\text{out}$$\n",
    "\n",
    "2.  **Conservation of Mass (Mass Balance for a Control Volume):**\n",
    "    $$\\frac{dm_\\text{CV}}{dt} = \\dot{m}_\\text{in} - \\dot{m}_\\text{out}$$\n",
    "\n",
    "Since this is a steady flow process, we can write:\n",
    "$$\\dot{E}_\\text{in} = \\dot{E}_\\text{out}$$\n",
    "\n",
    "$$\\dot{m}_\\text{in} = \\dot{m}_\\text{out} = \\dot{m}$$\n",
    "\n",
    "We can write our conservation of energy equation as:\n",
    "$$\\dot{W}_\\text{in} + \\dot{Q}_\\text{in} + \\dot{m} \\left(h_1 + \\frac{w_1^2}{2} + g z_1 \\right) = \\dot{W}_\\text{out} + \\dot{Q}_\\text{out} + \\dot{m} \\left(h_2 + \\frac{w_1^2}{2} + g z_2 \\right)$$\n",
    "\n",
    "Neglecting kinetic and potential energy effects we can write:\n",
    "$$\\dot{W}_\\text{in} + \\dot{Q}_\\text{in} + \\dot{m} \\left(h_1 \\right) = \\dot{W}_\\text{out} + \\dot{Q}_\\text{out} + \\dot{m} \\left(h_2 \\right)$$\n",
    "\n",
    "Applying the adiabatic assumption:\n",
    "$$\\dot{W}_\\text{in} + \\dot{m} \\left(h_1 \\right) = \\dot{W}_\\text{out} + \\dot{m} \\left(h_2 \\right)$$\n",
    "\n",
    "Rearranging:\n",
    "$$ \\frac{\\dot{W}_\\text{out} - \\dot{W}_\\text{in}}{\\dot{m}} = h_1 - h_2$$\n",
    "\n",
    "We expect that work is only transferred out, so $\\dot{W}_\\text{in} = 0$. We can then write:\n",
    "\n",
    "$$\\frac{\\dot{W}_\\text{out}}{\\dot{m}} = h_1 - h_2$$\n",
    "\n",
    "We know $h_1$ because we have the properties at state 1. We need additional information in order to determine state 2. Since the turbine is reversible and adiabatic (no heat transfer in), then the process is isentropic. Therefore:\n",
    "\n",
    "$$s_1 = s_2$$\n",
    "\n",
    "We can use this information to determine the enthalpy at state 2. "
   ]
  },
  {
   "cell_type": "code",
   "execution_count": 7,
   "id": "cf9b7a5d-8bc3-4752-bf0a-401fc115d999",
   "metadata": {},
   "outputs": [
    {
     "name": "stdout",
     "output_type": "stream",
     "text": [
      "Package 'pyCalor' is already installed.\n"
     ]
    }
   ],
   "source": [
    "## 5. Properties (Code Cell)\n",
    "try:\n",
    "    __import__('pyCalor')\n",
    "    print(f\"Package '{'pyCalor'}' is already installed.\")\n",
    "except ImportError:\n",
    "    print(f\"Package '{'pyCalor'}' not found. Installing...\")\n",
    "    try:\n",
    "        subprocess.check_call([sys.executable, \"-m\", \"!pip\", \"install\", pyCalor])\n",
    "        print(f\"Package '{'pyCalor'}' installed successfully.\")\n",
    "    except subprocess.CalledProcessError as e:\n",
    "        print(f\"Error installing '{'pyCalor'}': {e}\")\n",
    "        sys.exit(1) # Exit if installation fails\n",
    "\n",
    "from pyCalor import thermo as th\n",
    "\n",
    "# Constants and Initial State\n",
    "p1_MPa = 5 # MPa\n",
    "T1_C = 450 # C\n",
    "\n",
    "p2_MPa = 1.4 # MPa\n",
    "\n",
    "substance = 'water'\n",
    "\n",
    "# Determine state 1\n",
    "st1 = th.state(substance,T=(T1_C,'C'),p=(p1_MPa,'Mpa'),name='1')\n",
    "s1_kJperKgPerK = st1.s\n",
    "h1_kJperKg = st1.h\n",
    "\n",
    "# Determine state 2\n",
    "s2_kJperKgPerK = s1_kJperKgPerK\n",
    "st2 = th.state(substance,s=(s2_kJperKgPerK,'kJ/kg K'),p=(p2_MPa,'Mpa'),name='2')\n",
    "h2_kJperKg = st2.h"
   ]
  },
  {
   "cell_type": "code",
   "execution_count": 14,
   "id": "ae20d42e-66d8-475c-b460-6468c82e00e8",
   "metadata": {},
   "outputs": [
    {
     "name": "stdout",
     "output_type": "stream",
     "text": [
      "Work output per unit mass: 350.94 kJ/kg\n"
     ]
    }
   ],
   "source": [
    "# 6 Calculations (Code Cell)\n",
    "wOut_kJperKg = h1_kJperKg - h2_kJperKg\n",
    "\n",
    "print(f\"Work output per unit mass: {wOut_kJperKg:.2f} kJ/kg\")"
   ]
  },
  {
   "cell_type": "markdown",
   "id": "bf9e9cb8-c647-4149-81c0-ffb5ef4a576c",
   "metadata": {},
   "source": [
    "## 7. 💡 Summary and Reasoning\n",
    "\n",
    "By separating flow work from total work to form the property enthalpy, the work term we calculate is then useful shaft work. The work out per unit mass is a simple formula: \n",
    "\n",
    "$$\\frac{\\dot{W}_\\text{out}}{\\dot{m}} = h_1 - h_2$$\n",
    "\n",
    "* **Key Insight:** For a steady flow system undergoing an **adiabatic** and **reversible** process, this can be considered as an isentropic process. That is useful because it allows us to determine the exit state of the turbine since we also know the exit pressure. "
   ]
  },
  {
   "cell_type": "code",
   "execution_count": null,
   "id": "cc5bd1a4-9b24-417f-ba07-aa69ee6613c8",
   "metadata": {},
   "outputs": [],
   "source": []
  }
 ],
 "metadata": {
  "kernelspec": {
   "display_name": "Python 3 (ipykernel)",
   "language": "python",
   "name": "python3"
  },
  "language_info": {
   "codemirror_mode": {
    "name": "ipython",
    "version": 3
   },
   "file_extension": ".py",
   "mimetype": "text/x-python",
   "name": "python",
   "nbconvert_exporter": "python",
   "pygments_lexer": "ipython3",
   "version": "3.11.13"
  }
 },
 "nbformat": 4,
 "nbformat_minor": 5
}
