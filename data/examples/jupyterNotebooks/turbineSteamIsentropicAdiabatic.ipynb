{
 "cells": [
  {
   "cell_type": "markdown",
   "id": "b9519ce9-755b-4459-90c8-adb25c9ba0ea",
   "metadata": {},
   "source": [
    "## Problem Metadata \n",
    "DO NOT DELETE. This is a JSON Block. The metadata and course context MUST be in the first cell. \n",
    "\n",
    "```json\n",
    "{\n",
    "    \"problem_title\": \"Isentropic and adiabatic steam turbine\",\n",
    "    \"author\": \"tschutzius\",\n",
    "    \"year\": \"Fa25\",\n",
    "    \"difficulty_tags\": [\"easy\"],\n",
    "    \"topic\": \"Entropy\",\n",
    "    \"lecture_reference\": {\n",
    "        \"lecture_id\": \"1_4ak8fp37\",\n",
    "        \"subtopics\": [\n",
    "            {\n",
    "                  \"key\": \"Fa25-L7c-3.0\",\n",
    "                  \"title\": \"Isentropic process: Adiabatic turbine\"\n",
    "            }\n",
    "        ]\n",
    "    },\n",
    "    \"book_reference\": {\n",
    "        \"chapter_number\": 7,\n",
    "        \"title\": \"Entropy\",\n",
    "        \"sections\": [\n",
    "            \"Isentropic Processes\"\n",
    "        ]\n",
    "    },\n",
    "    \"notes\": \"\"\n",
    "}\n",
    "```"
   ]
  },
  {
   "cell_type": "markdown",
   "id": "c5662e5a-232d-47aa-8185-b55cded06270",
   "metadata": {},
   "source": [
    "## 1. Problem Statement\n",
    "\n",
    "Steam enters an adiabatic turbine at $p_1 =$ 5 MPa and $T_1 =$ 450 $^\\circ$ C and exits at $p_2 =$ 1.4 MPa. The process is reversible. \n",
    "\n",
    "**Goal:** Determine the work output per unit mass, $\\frac{\\dot{W}_\\text{out}}{\\dot{m}}$."
   ]
  },
  {
   "cell_type": "markdown",
   "id": "cecf0e00-44cc-4e52-a356-e98a1f6dd227",
   "metadata": {},
   "source": [
    "## 2. Schematic \n",
    "Draw a schematic that shows a turbine. Draw the control volume around the turbine. There is a single inlet and oulet for mass to flow in and out. Indicate that it is adiabatic and that work is being transferred out. "
   ]
  },
  {
   "cell_type": "markdown",
   "id": "a072d29a-31f3-4493-98fe-2af8bf45a78a",
   "metadata": {},
   "source": [
    "## 3. Assumptions and Approximations\n",
    "* **Control Volume** (mass crosses the boundary).\n",
    "* **Properties** We will use pyCalor to determine properties.\n",
    "* **Neglect changes in kinetic and potential energy** ($\\Delta KE\\approx0$, $\\Delta PE\\approx0$). (Justification: The velocities are typically low, or the change in height is negligible compared to the enthalpy change.)\n",
    "* **Adiabatic process**.\n",
    "* **Reversible process**.\n",
    "* **Steady-flow process** ($\\Delta m_\\text{CV}= 0$, $\\Delta E_\\text{CV}= 0$, $\\Delta S_\\text{CV}= 0$).\n",
    "* We have a single inlet and outlet ($\\dot{m}_\\text{in}$ and $\\dot{m}_\\text{out}$)."
   ]
  },
  {
   "cell_type": "markdown",
   "id": "8b40c3cd-e9da-4380-9357-818588e6dae1",
   "metadata": {},
   "source": [
    "## 4. Physical Laws\n",
    "1.  **First Law of Thermodynamics (Energy Balance for Control Volume):**\n",
    "    $$\\frac{dE_\\text{CV}}{dt} = \\dot{E}_\\text{in} - \\dot{E}_\\text{out}$$\n",
    "\n",
    "2.  **Conservation of Mass (Mass Balance for a Control Volume):**\n",
    "    $$\\frac{dm_\\text{CV}}{dt} = \\dot{m}_\\text{in} - \\dot{m}_\\text{out}$$\n",
    "\n",
    "Since this is a steady flow process, we can write:\n",
    "$$\\dot{E}_\\text{in} = \\dot{E}_\\text{out}$$\n",
    "\n",
    "$$\\dot{m}_\\text{in} = \\dot{m}_\\text{out} = \\dot{m}$$\n",
    "\n",
    "We can write our conservation of energy equation as:\n",
    "$$\\dot{W}_\\text{in} + \\dot{Q}_\\text{in} + \\dot{m} \\left(h_1 + \\frac{w_1^2}{2} + g z_1 \\right) = \\dot{W}_\\text{out} + \\dot{Q}_\\text{out} + \\dot{m} \\left(h_2 + \\frac{w_1^2}{2} + g z_2 \\right)$$\n",
    "\n",
    "Neglecting kinetic and potential energy effects we can write:\n",
    "$$\\dot{W}_\\text{in} + \\dot{Q}_\\text{in} + \\dot{m} \\left(h_1 \\right) = \\dot{W}_\\text{out} + \\dot{Q}_\\text{out} + \\dot{m} \\left(h_2 \\right)$$\n",
    "\n",
    "Applying the adiabatic assumption:\n",
    "$$\\dot{W}_\\text{in} + \\dot{m} \\left(h_1 \\right) = \\dot{W}_\\text{out} + \\dot{m} \\left(h_2 \\right)$$\n",
    "\n",
    "Rearranging:\n",
    "$$ \\frac{\\dot{W}_\\text{out} - \\dot{W}_\\text{in}}{\\dot{m}} = h_1 - h_2$$\n",
    "\n",
    "We expect that work is only transferred out, so $\\dot{W}_\\text{in} = 0$. We can then write:\n",
    "\n",
    "$$\\frac{\\dot{W}_\\text{out}}{\\dot{m}} = h_1 - h_2$$\n",
    "\n",
    "We know $h_1$ because we have the properties at state 1. We need additional information in order to determine state 2. Since the turbine is reversible and adiabatic (no heat transfer in), then the process is isentropic. Therefore:\n",
    "\n",
    "$$s_1 = s_2$$\n",
    "\n",
    "We can use this information to determine the enthalpy at state 2. "
   ]
  },
  {
   "cell_type": "code",
   "execution_count": 1,
   "id": "cf9b7a5d-8bc3-4752-bf0a-401fc115d999",
   "metadata": {},
   "outputs": [
    {
     "name": "stdout",
     "output_type": "stream",
     "text": [
      "Requirement already satisfied: pyCalor in /Users/schutzius/opt/anaconda3/envs/calorai_env/lib/python3.10/site-packages (1.0.21)\n",
      "Requirement already satisfied: numpy in /Users/schutzius/opt/anaconda3/envs/calorai_env/lib/python3.10/site-packages (2.2.6)\n",
      "Requirement already satisfied: matplotlib in /Users/schutzius/opt/anaconda3/envs/calorai_env/lib/python3.10/site-packages (3.10.7)\n",
      "Requirement already satisfied: CoolProp in /Users/schutzius/opt/anaconda3/envs/calorai_env/lib/python3.10/site-packages (from pyCalor) (7.1.0)\n",
      "Requirement already satisfied: igraph in /Users/schutzius/opt/anaconda3/envs/calorai_env/lib/python3.10/site-packages (from pyCalor) (0.11.9)\n",
      "Requirement already satisfied: contourpy>=1.0.1 in /Users/schutzius/opt/anaconda3/envs/calorai_env/lib/python3.10/site-packages (from matplotlib) (1.3.2)\n",
      "Requirement already satisfied: cycler>=0.10 in /Users/schutzius/opt/anaconda3/envs/calorai_env/lib/python3.10/site-packages (from matplotlib) (0.12.1)\n",
      "Requirement already satisfied: fonttools>=4.22.0 in /Users/schutzius/opt/anaconda3/envs/calorai_env/lib/python3.10/site-packages (from matplotlib) (4.60.1)\n",
      "Requirement already satisfied: kiwisolver>=1.3.1 in /Users/schutzius/opt/anaconda3/envs/calorai_env/lib/python3.10/site-packages (from matplotlib) (1.4.9)\n",
      "Requirement already satisfied: packaging>=20.0 in /Users/schutzius/opt/anaconda3/envs/calorai_env/lib/python3.10/site-packages (from matplotlib) (25.0)\n",
      "Requirement already satisfied: pillow>=8 in /Users/schutzius/opt/anaconda3/envs/calorai_env/lib/python3.10/site-packages (from matplotlib) (11.3.0)\n",
      "Requirement already satisfied: pyparsing>=3 in /Users/schutzius/opt/anaconda3/envs/calorai_env/lib/python3.10/site-packages (from matplotlib) (3.2.5)\n",
      "Requirement already satisfied: python-dateutil>=2.7 in /Users/schutzius/opt/anaconda3/envs/calorai_env/lib/python3.10/site-packages (from matplotlib) (2.9.0.post0)\n",
      "Requirement already satisfied: six>=1.5 in /Users/schutzius/opt/anaconda3/envs/calorai_env/lib/python3.10/site-packages (from python-dateutil>=2.7->matplotlib) (1.17.0)\n",
      "Requirement already satisfied: texttable>=1.6.2 in /Users/schutzius/opt/anaconda3/envs/calorai_env/lib/python3.10/site-packages (from igraph->pyCalor) (1.7.0)\n"
     ]
    }
   ],
   "source": [
    "## 5. Properties (Code Cell)\n",
    "!pip install pyCalor numpy matplotlib\n",
    "\n",
    "from pyCalor import thermo as th\n",
    "\n",
    "# Constants and Initial State\n",
    "p1_MPa = 5 # MPa\n",
    "T1_C = 450 # C\n",
    "\n",
    "p2_MPa = 1.4 # MPa\n",
    "\n",
    "substance = 'water'\n",
    "\n",
    "# Determine state 1\n",
    "st1 = th.state(substance,T=(T1_C,'C'),p=(p1_MPa,'Mpa'),name='1')\n",
    "s1_kJperKgPerK = st1.s\n",
    "h1_kJperKg = st1.h\n",
    "\n",
    "# Determine state 2\n",
    "s2_kJperKgPerK = s1_kJperKgPerK\n",
    "st2 = th.state(substance,s=(s2_kJperKgPerK,'kJ/kg K'),p=(p2_MPa,'Mpa'),name='2')\n",
    "h2_kJperKg = st2.h"
   ]
  },
  {
   "cell_type": "code",
   "execution_count": 2,
   "id": "ae20d42e-66d8-475c-b460-6468c82e00e8",
   "metadata": {},
   "outputs": [
    {
     "name": "stdout",
     "output_type": "stream",
     "text": [
      "Work output per unit mass: 350.94 kJ/kg\n"
     ]
    }
   ],
   "source": [
    "# 6 Calculations (Code Cell)\n",
    "wOut_kJperKg = h1_kJperKg - h2_kJperKg\n",
    "\n",
    "print(f\"Work output per unit mass: {wOut_kJperKg:.2f} kJ/kg\")"
   ]
  },
  {
   "cell_type": "markdown",
   "id": "bf9e9cb8-c647-4149-81c0-ffb5ef4a576c",
   "metadata": {},
   "source": [
    "## 7. Summary and Reasoning\n",
    "\n",
    "By separating flow work from total work to form the property enthalpy, the work term we calculate is then useful shaft work. The work out per unit mass is a simple formula: \n",
    "\n",
    "$$\\frac{\\dot{W}_\\text{out}}{\\dot{m}} = h_1 - h_2$$\n",
    "\n",
    "* **Key Insight:** For a steady flow system undergoing an **adiabatic** and **reversible** process, this can be considered as an isentropic process. That is useful because it allows us to determine the exit state of the turbine since we also know the exit pressure. "
   ]
  },
  {
   "cell_type": "markdown",
   "id": "79f28be5-e64b-489a-a7c0-c1886d5645a7",
   "metadata": {},
   "source": [
    "THIS SHOULD BE THE FINAL CELL, DO NOT ADD OTHERS AFTER THIS, EVEN IF THEY'RE EMPTY\n",
    "--- End of the Jupyter Notebook ---"
   ]
  }
 ],
 "metadata": {
  "kernelspec": {
   "display_name": "Python 3 (ipykernel)",
   "language": "python",
   "name": "python3"
  },
  "language_info": {
   "codemirror_mode": {
    "name": "ipython",
    "version": 3
   },
   "file_extension": ".py",
   "mimetype": "text/x-python",
   "name": "python",
   "nbconvert_exporter": "python",
   "pygments_lexer": "ipython3",
   "version": "3.10.18"
  }
 },
 "nbformat": 4,
 "nbformat_minor": 5
}
