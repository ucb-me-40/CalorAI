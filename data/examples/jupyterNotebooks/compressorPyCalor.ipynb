{
 "cells": [
  {
   "cell_type": "markdown",
   "id": "35ab2d23-3d34-421b-b9e1-30a85254af07",
   "metadata": {},
   "source": [
    "## Problem Metadata \n",
    "DO NOT DELETE (JSON Block; the metadata and course context MUST be in the first cell)\n",
    "\n",
    "```json\n",
    "{\n",
    "    \"problem_title\": \"compressorPyCalor\",\n",
    "    \"author\": \"tschutzius\",\n",
    "    \"year\": \"Fa25\",\n",
    "    \"difficulty_tags\": [\"easy\"],\n",
    "    \"topic\": \"Control Volumes\",\n",
    "    \"lecture_reference\": {\n",
    "        \"lecture_id\": \"1_hb7swztw\",\n",
    "        \"subtopics\": [\n",
    "            {\n",
    "              \"key\": \"Fa25-L5b-3.0\",\n",
    "              \"title\": \"Example: Energy Analysis of a Steady-flow System: Compressor\",\n",
    "            }\n",
    "        ]\n",
    "    },\n",
    "    \"book_reference\": {\n",
    "              \"chapter_number\": 5,\n",
    "              \"title\": \"Mass and Energy Analysis of Control Volumes\",\n",
    "        \"sections\": [\n",
    "            \"Some Steady-Flow Engineering Devices\",\n",
    "        ]\n",
    "    },\n",
    "    \"notes\": \"\"\n",
    "}\n",
    "```"
   ]
  },
  {
   "cell_type": "markdown",
   "id": "7ccdecde-1a74-47fd-9633-5a8561a277cb",
   "metadata": {},
   "source": [
    "## 1. Problem Statement\n",
    "Air enters a compressor with a mass flow rate of 0.02 kg/s at 100 kPa and 290 K and exits the compressor at 600 kPa and 500 K. The compressor is cooled with 1 kJ/kg. \n",
    "\n",
    "**Goal**: \n",
    "* Determine the shaft power input."
   ]
  },
  {
   "cell_type": "markdown",
   "id": "8837adf6-7370-4025-84e7-d5a8f6d37e45",
   "metadata": {},
   "source": [
    "## 2. Schematic\n",
    "Draw a compressor with a control volume drawn around it. Indicate that power is transferred in from a shaft and heat is transferred out. "
   ]
  },
  {
   "cell_type": "markdown",
   "id": "3bc62472-bbd8-4c75-be48-1675ce2877e6",
   "metadata": {},
   "source": [
    "## 3. Assumptions and Approximations\n",
    "* **Control Volume** (mass crosses the boundary).\n",
    "* **Ideal Gas Model** (Justification: Air at these conditions behaves as an ideal gas, $p v = R T$)\n",
    "* **Neglect changes in kinetic and potential energy** ($\\Delta KE\\approx0$, $\\Delta PE\\approx0$). (Justification: The velocities are typically low, or the change in height is negligible compared to the enthalpy change.)\n",
    "* **Steady-flow process** ($\\Delta~m_\\text{CV}=0$, $\\Delta~E_\\text{CV}= 0$, $\\Delta~S_\\text{CV}=0$).\n",
    "* **Properties**: Determine properties using `pyCalor`. \n",
    "* **Enthalpy/Internal Energy Change**: Changes in enthalpy can be determined via $dh = c_p dT$. (This is a consequence of the ideal gas model.)\n",
    "* **Constant Specific Heats** ($c_p$, $c_v=\\text{const}$). (Justification: The specific heat property changes are negligible over the process temperature range, simplifying the calculation of $\\Delta h$ to $c_p~\\Delta T$.\n",
    "* We have a single inlet and outlet ($\\dot{m}_\\text{in}$ and $\\dot{m}_\\text{out}$)."
   ]
  },
  {
   "cell_type": "markdown",
   "id": "d28aab05-bcab-4099-be60-1dd03637e867",
   "metadata": {},
   "source": [
    "## 4. Physical Laws and Governing Equations\n",
    "1.  **First Law of Thermodynamics (Energy Balance for Control Volume):**\n",
    "    $$\\frac{dE_\\text{CV}}{dt} = \\dot{E}_\\text{in} - \\dot{E}_\\text{out}$$\n",
    "\n",
    "2.  **Conservation of Mass (Mass Balance for a Control Volume):**\n",
    "    $$\\frac{dm_\\text{CV}}{dt} = \\dot{m}_\\text{in} - \\dot{m}_\\text{out}$$\n",
    "\n",
    "Since this is a steady flow process, we can write:\n",
    "$$\\dot{E}_\\text{in} = \\dot{E}_\\text{out}$$\n",
    "\n",
    "$$\\dot{m}_\\text{in} = \\dot{m}_\\text{out} = \\dot{m}$$\n",
    "\n",
    "We can then write for a compressor:\n",
    "$$\\dot{W}_\\text{in} + \\dot{Q}_\\text{in} + \\dot{m} \\left(h_1 + \\frac{w_1^2}{2} + g z_1 \\right) = \\dot{W}_\\text{out} + \\dot{Q}_\\text{out} + \\dot{m} \\left(h_2 + \\frac{w_1^2}{2} + g z_2 \\right)$$\n",
    "\n",
    "Neglecting changes in kinetic and potential energy:\n",
    "$$\\dot{W}_\\text{in} + \\dot{Q}_\\text{in} + \\dot{m} h_1  = \\dot{W}_\\text{out} + \\dot{Q}_\\text{out} + \\dot{m} h_2 $$\n",
    "\n",
    "Since the compressor operates isentropically, we can assume that it is adiabatic:\n",
    "$$\\dot{W}_\\text{in} + \\dot{m} h_1  = \\dot{W}_\\text{out} + \\dot{m} h_2 $$\n",
    "\n",
    "There is only work transferred into the compressor, not out. Therefore:\n",
    "$$\\dot{W}_\\text{in} = \\dot{m} \\left(h_2 - h_1 \\right)$$\n",
    "\n",
    "Assuming air behaves as an ideal gas, we can write:\n",
    "$$\\dot{W}_\\text{in} \\approx \\dot{m} c_p \\left(T_2 - T_1 \\right) $$"
   ]
  },
  {
   "cell_type": "code",
   "execution_count": 1,
   "id": "cf3f8a1d",
   "metadata": {},
   "outputs": [
    {
     "name": "stdout",
     "output_type": "stream",
     "text": [
      "Requirement already satisfied: pyCalor in /Users/thomschu/anaconda3/lib/python3.11/site-packages (1.0.21)\n",
      "Requirement already satisfied: CoolProp in /Users/thomschu/anaconda3/lib/python3.11/site-packages (from pyCalor) (6.6.0)\n",
      "Requirement already satisfied: igraph in /Users/thomschu/anaconda3/lib/python3.11/site-packages (from pyCalor) (0.11.9)\n",
      "Requirement already satisfied: texttable>=1.6.2 in /Users/thomschu/anaconda3/lib/python3.11/site-packages (from igraph->pyCalor) (1.7.0)\n"
     ]
    }
   ],
   "source": [
    "## 5. Properties (Code Cell)\n",
    "!pip install pyCalor\n",
    "from pyCalor import thermo as th\n",
    "\n",
    "#For the properties, I am using the notation \"in\" and \"out\" as well as \"1\" and \"2\", where \"in\" is also \"1\" and \"out\" is also \"2\"\n",
    "\n",
    "fluid = 'Air'\n",
    "\n",
    "mdot_kgperS = 0.02 #kg/s\n",
    "\n",
    "# state 1\n",
    "P1_Pa = 100e3 #Pa\n",
    "T1_K = 290 #K\n",
    "st1 = th.state(fluid,T=(T1_K,'K'),p=(P1_Pa,'Pa'),name='1')\n",
    "h1_JperKg = st1.h*1e3\n",
    "cp_kJperKgPerK = st1.cp\n",
    "\n",
    "# state 2\n",
    "P2_Pa = 600e3 #Pa\n",
    "T2_K = 500 #K\n",
    "st2 = th.state(fluid,T=(T2_K,'K'),p=(P2_Pa,'Pa'),name='2')\n",
    "h2_JperKg = st2.h*1e3\n",
    "\n",
    "qout_JperKg = 1e3 #J/kg"
   ]
  },
  {
   "cell_type": "code",
   "execution_count": 4,
   "id": "c241c5e8",
   "metadata": {},
   "outputs": [
    {
     "data": {
      "image/png": "[encoded data removed]",
      "text/plain": [
       "<Figure size 640x480 with 1 Axes>"
      ]
     },
     "metadata": {},
     "output_type": "display_data"
    },
    {
     "name": "stdout",
     "output_type": "stream",
     "text": [
      "WdotIn_JperS= 4278.032995931938\n",
      "WdotIn_JperS_alt= 4245.318177469188\n",
      "error= 0.7647163659994816\n"
     ]
    }
   ],
   "source": [
    "## 6 Calculations (Code Cell)\n",
    "pr = th.process([(st1,st2)])\n",
    "pr.plot('pv')\n",
    "QdotOut_JperS = qout_JperKg*mdot_kgperS #J/s\n",
    "WdotIn_JperS = QdotOut_JperS + mdot_kgperS*(h2_JperKg-h1_JperKg); print(\"WdotIn_JperS=\",WdotIn_JperS) #J/s\n",
    "\n",
    "### Alternative solution\n",
    "WdotIn_JperS_alt = QdotOut_JperS + mdot_kgperS*(cp_kJperKgPerK*1e3)*(T2_K-T1_K); print(\"WdotIn_JperS_alt=\",WdotIn_JperS_alt) #J/s\n",
    "error = ((WdotIn_JperS - WdotIn_JperS_alt)/WdotIn_JperS)*100; print(\"error=\",error)"
   ]
  },
  {
   "cell_type": "markdown",
   "id": "618b4639-bb49-4341-bc57-7b48bc92ebc9",
   "metadata": {},
   "source": [
    "## 7. Summary and Reasoning\n",
    "We see that the ideal gas assumption is a good one since the error for determining the power input is less than 1% compared to using thermodynamic properties (pyCalor). "
   ]
  },
  {
   "cell_type": "code",
   "execution_count": null,
   "id": "280b3738-38a7-4dbd-bfec-d7ba94b71534",
   "metadata": {},
   "outputs": [],
   "source": [
    "THIS SHOULD BE THE FINAL CELL, DO NOT ADD OTHERS AFTER THIS, EVEN IF THEY'RE EMPTY\n",
    "--- End of the Jupyter Notebook ---"
   ]
  }
 ],
 "metadata": {
  "kernelspec": {
   "display_name": "Python 3 (ipykernel)",
   "language": "python",
   "name": "python3"
  },
  "language_info": {
   "codemirror_mode": {
    "name": "ipython",
    "version": 3
   },
   "file_extension": ".py",
   "mimetype": "text/x-python",
   "name": "python",
   "nbconvert_exporter": "python",
   "pygments_lexer": "ipython3",
   "version": "3.11.5"
  }
 },
 "nbformat": 4,
 "nbformat_minor": 5
}
