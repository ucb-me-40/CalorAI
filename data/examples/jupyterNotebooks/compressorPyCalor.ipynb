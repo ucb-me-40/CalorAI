{
 "cells": [
  {
   "cell_type": "markdown",
   "id": "d28aab05-bcab-4099-be60-1dd03637e867",
   "metadata": {},
   "source": [
    "## Problem Metadata \n",
    "DO NOT DELETE (JSON Block; the metadata and course context MUST be in the first cell)\n",
    "\n",
    "```json\n",
    "{\n",
    "    \"problem_title\": \"compressorPyCalor\",\n",
    "    \"author\": \"tschutzius\",\n",
    "    \"year\": \"Fa25\",\n",
    "    \"difficulty_tags\": [\"easy\"],\n",
    "    \"topic\": \"Control Volumes\",\n",
    "    \"lecture_reference\": {\n",
    "        \"lecture_id\": \"1_hb7swztw\",\n",
    "        \"subtopics\": [\n",
    "            {\n",
    "              \"key\": \"Fa25-L5b-3.0\",\n",
    "              \"title\": \"Example: Energy Analysis of a Steady-flow System: Compressor\",\n",
    "            }\n",
    "        ]\n",
    "    },\n",
    "    \"book_reference\": {\n",
    "              \"chapter_number\": 5,\n",
    "              \"title\": \"Mass and Energy Analysis of Control Volumes\",\n",
    "        \"sections\": [\n",
    "            \"Some Steady-Flow Engineering Devices\",\n",
    "        ]\n",
    "    },\n",
    "    \"notes\": \"\"\n",
    "}\n",
    "```\n",
    "\n",
    "## 1. Problem Statement\n",
    "Air enters a compressor with a mass flow rate of 0.02 kg/s at 100 kPa and 290 K and exits the compressor at 600 kPa and 500 K. The compressor is cooled with 1 kJ/kg. \n",
    "\n",
    "**Goal**: \n",
    "* Determine the shaft power input.\n",
    "\n",
    "## 2. Schematic\n",
    "Draw a compressor with a control volume drawn around it. Indicate that power is transferred in from a shaft and heat is transferred out. \n",
    "\n",
    "## 3. Assumptions and Approximations\n",
    "* Neglect kinetic and potential energy\n",
    "* Steady-flow system\n",
    "* Determine properties using `pyCalor`. \n",
    "* Changes in enthalpy can be determined from $dh = c_p dT$ by assuming that air is an ideal gas.  \n",
    "    \n",
    "## 4. Physical Laws and Governing Equations\n",
    "\n",
    "Conservation of energy for a compressor:\n",
    "$$\\dot{W}_\\text{in} = \\dot{m} \\left(h_2 - h_1 \\right) $$\n",
    "\n",
    "Assuming air behaves as an ideal gas, we can write:\n",
    "$$\\dot{W}_\\text{in} \\approx \\dot{m} c_p \\left(T_2 - T_1 \\right) $$"
   ]
  },
  {
   "cell_type": "code",
   "execution_count": 2,
   "id": "cf3f8a1d",
   "metadata": {},
   "outputs": [
    {
     "name": "stdout",
     "output_type": "stream",
     "text": [
      "Requirement already satisfied: pyCalor in /srv/conda/lib/python3.11/site-packages (1.0.21)\n",
      "Requirement already satisfied: CoolProp in /srv/conda/lib/python3.11/site-packages (from pyCalor) (7.1.0)\n",
      "Requirement already satisfied: igraph in /srv/conda/lib/python3.11/site-packages (from pyCalor) (0.11.9)\n",
      "Requirement already satisfied: texttable>=1.6.2 in /srv/conda/lib/python3.11/site-packages (from igraph->pyCalor) (1.7.0)\n"
     ]
    }
   ],
   "source": [
    "## 5. Properties (Code Cell)\n",
    "!pip install pyCalor\n",
    "from pyCalor import thermo as th\n",
    "\n",
    "#For the properties, I am using the notation \"in\" and \"out\" as well as \"1\" and \"2\", where \"in\" is also \"1\" and \"out\" is also \"2\"\n",
    "\n",
    "fluid = 'Air'\n",
    "\n",
    "mdot_kgperS = 0.02 #kg/s\n",
    "\n",
    "# state 1\n",
    "P1_Pa = 100e3 #Pa\n",
    "T1_K = 290 #K\n",
    "st1 = th.state(fluid,T=(T1_K,'K'),p=(P1_Pa,'Pa'),name='1')\n",
    "h1_JperKg = st1.h*1e3\n",
    "cp_kJperKgPerK = st1.cp\n",
    "\n",
    "# state 2\n",
    "P2_Pa = 600e3 #Pa\n",
    "T2_K = 500 #K\n",
    "st2 = th.state(fluid,T=(T2_K,'K'),p=(P2_Pa,'Pa'),name='2')\n",
    "h2_JperKg = st2.h*1e3\n",
    "\n",
    "qout_JperKg = 1e3 #J/kg"
   ]
  },
  {
   "cell_type": "code",
   "execution_count": 5,
   "id": "c241c5e8",
   "metadata": {},
   "outputs": [
    {
     "name": "stdout",
     "output_type": "stream",
     "text": [
      "4278.032995931938\n"
     ]
    },
    {
     "data": {
      "image/png": "[encoded data removed]",
      "text/plain": [
       "<Figure size 640x480 with 1 Axes>"
      ]
     },
     "metadata": {},
     "output_type": "display_data"
    },
    {
     "name": "stdout",
     "output_type": "stream",
     "text": [
      "4245.318177469188\n",
      "0.7647163659994816\n"
     ]
    }
   ],
   "source": [
    "## 6 Calculations (Code Cell)\n",
    "QdotOut_JperS = qout_JperKg*mdot_kgperS #J/s\n",
    "\n",
    "WdotIn_JperS = QdotOut_JperS + mdot_kgperS*(h2_JperKg-h1_JperKg); print(WdotIn_JperS) #J/s\n",
    "\n",
    "pr = th.process([(st1,st2)])\n",
    "\n",
    "pr.plot('pv')\n",
    "\n",
    "### Alternative solution\n",
    "\n",
    "WdotIn_JperS_alt = QdotOut_JperS + mdot_kgperS*(cp_kJperKgPerK*1e3)*(T2_K-T1_K); print(WdotIn_JperS_alt) #J/s\n",
    "\n",
    "error = ((WdotIn_JperS - WdotIn_JperS_alt)/WdotIn_JperS)*100; print(error)"
   ]
  },
  {
   "cell_type": "markdown",
   "id": "618b4639-bb49-4341-bc57-7b48bc92ebc9",
   "metadata": {},
   "source": [
    "## 7. Summary and Reasoning\n",
    "We see that the ideal gas assumption is a good one since the error for determining the power input is less than 1% compared to using thermodynamic properties (pyCalor). "
   ]
  },
  {
   "cell_type": "code",
   "execution_count": null,
   "id": "280b3738-38a7-4dbd-bfec-d7ba94b71534",
   "metadata": {},
   "outputs": [],
   "source": []
  }
 ],
 "metadata": {
  "kernelspec": {
   "display_name": "Python 3 (ipykernel)",
   "language": "python",
   "name": "python3"
  },
  "language_info": {
   "codemirror_mode": {
    "name": "ipython",
    "version": 3
   },
   "file_extension": ".py",
   "mimetype": "text/x-python",
   "name": "python",
   "nbconvert_exporter": "python",
   "pygments_lexer": "ipython3",
   "version": "3.11.13"
  }
 },
 "nbformat": 4,
 "nbformat_minor": 5
}
