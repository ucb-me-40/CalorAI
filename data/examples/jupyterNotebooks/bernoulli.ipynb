{
 "cells": [
  {
   "cell_type": "markdown",
   "id": "3244c933-84a5-469d-9f65-972eaa306094",
   "metadata": {},
   "source": [
    "$$ \\frac{d m_\\text{CV}}{dt} = \\dot{m}_\\text{in} - \\dot{m}_\\text{out}$$"
   ]
  },
  {
   "cell_type": "markdown",
   "id": "a590b38e-d11d-464e-bd3d-bd5521f10f15",
   "metadata": {},
   "source": [
    "$$ \\frac{d E_\\text{CV}}{dt} = \\dot{E}_\\text{in} - \\dot{E}_\\text{out}$$"
   ]
  },
  {
   "cell_type": "markdown",
   "id": "687f396c-659f-47f1-83d2-2fb40017205b",
   "metadata": {},
   "source": [
    "Assume:\n",
    "- steady state\n",
    "- incompressible: $v = $constant\n",
    "- isentropic\n",
    "- no shaft work or heat transfer"
   ]
  },
  {
   "cell_type": "markdown",
   "id": "b27b407a-b924-4e9d-a438-0345ca8357cf",
   "metadata": {},
   "source": [
    "$$ \\dot{E} = \\dot{W} + \\dot{Q} + \\dot{m} \\left(h + w^2/2 + g z \\right)$$"
   ]
  },
  {
   "cell_type": "markdown",
   "id": "dec65bb5-ed4e-4bc2-a85e-c16034159ea9",
   "metadata": {},
   "source": [
    "$$ \\left(h + w^2/2 + g z \\right)_1 = \\left(h + w^2/2 + g z \\right)_2$$"
   ]
  },
  {
   "cell_type": "markdown",
   "id": "8fb572be-e1d5-488c-b996-3f93d29663df",
   "metadata": {},
   "source": [
    "$$T ds = dh - vdp$$\n",
    "\n",
    "Recall that $v=$ const. Therefore,\n",
    "\n",
    "$$T (s_2 - s_1) = (h_2 - h_1) - v(p_2 - p_1)$$"
   ]
  },
  {
   "cell_type": "markdown",
   "id": "c1433f56-c139-449b-b336-ccf37a1fd523",
   "metadata": {},
   "source": [
    "Since the process is isentropic, $s_2 = s_1$:\n",
    "$$(h_2 - h_1) = v(p_2 - p_1)$$"
   ]
  },
  {
   "cell_type": "markdown",
   "id": "698de177-76f6-4a12-ba10-90eafd0dfee9",
   "metadata": {},
   "source": [
    "$$ h_1 + w_1^2/2 + g z_1  = h_2 + w_2^2/2 + g z_2$$"
   ]
  },
  {
   "cell_type": "markdown",
   "id": "8b33ade2-48cb-40c4-8daa-bbf49ff6e934",
   "metadata": {},
   "source": [
    "$$ w_1^2/2 + g z_1  = (h_2 - h_1) + w_2^2/2 + g z_2$$"
   ]
  },
  {
   "cell_type": "markdown",
   "id": "0ec6cbe7-2fca-4466-bc89-03de34a8c70f",
   "metadata": {},
   "source": [
    "$$ w_1^2/2 + g z_1  = v(p_2 - p_1) + w_2^2/2 + g z_2$$"
   ]
  },
  {
   "cell_type": "markdown",
   "id": "ecbf35e0-f0bd-4ff5-a526-a4603355fdf8",
   "metadata": {},
   "source": [
    "$$  0  = v(p_2 - p_1) + \\frac{w_2^2 - w_1^2}{2} + g\\left(z_2 - z_1\\right)$$"
   ]
  },
  {
   "cell_type": "markdown",
   "id": "17e2f517-9688-48f6-bc9c-cebbf4207a47",
   "metadata": {},
   "source": [
    "Bernoulli equation: developed for an internally reversible process and is applicable to incompressible fluids that involve no friction or shock waves. \n",
    "\n",
    "Important in fluid dynamics. Daniel Bernoulli came from a Swiss family of prominent mathematicians.\n"
   ]
  },
  {
   "cell_type": "code",
   "execution_count": null,
   "id": "e1cc0220-5a86-4771-a0d1-97eb81f4bfbe",
   "metadata": {},
   "outputs": [],
   "source": []
  }
 ],
 "metadata": {
  "kernelspec": {
   "display_name": "Python 3 (ipykernel)",
   "language": "python",
   "name": "python3"
  },
  "language_info": {
   "codemirror_mode": {
    "name": "ipython",
    "version": 3
   },
   "file_extension": ".py",
   "mimetype": "text/x-python",
   "name": "python",
   "nbconvert_exporter": "python",
   "pygments_lexer": "ipython3",
   "version": "3.11.13"
  }
 },
 "nbformat": 4,
 "nbformat_minor": 5
}
