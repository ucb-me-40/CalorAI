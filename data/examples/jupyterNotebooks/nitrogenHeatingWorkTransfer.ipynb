{
 "cells": [
  {
   "cell_type": "markdown",
   "id": "3d654270-917c-4dc7-954d-4ccf113dbb09",
   "metadata": {},
   "source": [
    "## Problem Metadata \n",
    "DO NOT DELETE (JSON Block; the metadata and course context MUST be in the first cell)\n",
    "\n",
    "```json\n",
    "{\n",
    "    \"problem_title\": \"nitrogenHeatingWorkTransfer\",\n",
    "    \"author\": \"tschutzius\",\n",
    "    \"year\": \"Fa25\",\n",
    "    \"difficulty_tags\": [\"easy\"],\n",
    "    \"topic\": \"Closed Systems\",\n",
    "    \"lecture_reference\": {\n",
    "        \"lecture_id\": \"1_3375c5yj\",\n",
    "        \"subtopics\": [\n",
    "            {\n",
    "              \"key\": \"Fa25-L4c-2.0\",\n",
    "              \"title\": \"Electrical heating and cooling of a cylinder containing nitrogen at constant pressure\",\n",
    "            }\n",
    "        ]\n",
    "    },\n",
    "    \"book_reference\": {\n",
    "          \"chapter_number\": 4,\n",
    "          \"title\": \"Energy Analysis of Closed Systems\",\n",
    "        \"sections\": [\n",
    "            \"Moving Boundary Work\",\n",
    "            \"Energy Balance for Closed Systems\",\n",
    "        ]\n",
    "    },\n",
    "    \"notes\": \"\"\n",
    "}\n",
    "```"
   ]
  },
  {
   "cell_type": "markdown",
   "id": "2756f469-c47f-48df-86eb-6a752d6dceb8",
   "metadata": {},
   "source": [
    "## 1. Problem Statement\n",
    "A piston cylinder contains nitrogen initially at 400 kPa, 27$^\\circ$C, and 0.5 m$^3$. The piston contains a resistor. The pressure in the piston is kept constant while 120 V is applied to the resistor resulting in 2 A flowing thorugh it for 5 min. The piston is also cooled, transferring 2800 J out. \n",
    "\n",
    "**Goal**: \n",
    "* Determine the final temperature, $T_2$. "
   ]
  },
  {
   "cell_type": "markdown",
   "id": "26434052-fd4f-48e6-b1dd-9c27cf0c047e",
   "metadata": {},
   "source": [
    "## 2. Schematic\n",
    "Draw a schematic of a piston cylinder. Show that electrical work is transferred into the piston and heat is transferred out of it. The fluid in the piston cylinder is nitrogen. "
   ]
  },
  {
   "cell_type": "markdown",
   "id": "9a0fd314-ede7-4c81-b33b-c6593667f7e0",
   "metadata": {},
   "source": [
    "## 3. Assumptions and Approximations\n",
    "* **Closed system** (no mass in or out).\n",
    "* **Properties** We can use `pyCalor` to determine properties. \n",
    "* **Ideal Gas Model** (Justification: Air at these conditions behaves as an ideal gas, $p v = R T$)\n",
    "* **Quasi-equilibrium process** \n",
    "* **Neglect changes in kinetic and potential energy**: $\\Delta KE\\approx0$, $\\Delta PE\\approx0$. (Justification: The velocities are typically low, or the change in height is negligible compared to the enthalpy change.)\n",
    "* **Boundary work** is transferred through expansion ($p dV$).\n",
    "* **Other Work** is transferred in through electricity.\n",
    "* **Constant Specific Heats** ($c_p$, $c_v=\\text{const}$). (Justification: The specific heat property changes are negligible over the process temperature range, simplifying the calculation of $\\Delta h$ to $c_p\\Delta T$."
   ]
  },
  {
   "cell_type": "markdown",
   "id": "2a21d006-b98a-42ea-80a2-e882eec1816e",
   "metadata": {},
   "source": [
    "## 4. Physical Laws and Governing Equations\n",
    "- Conservation of energy\n",
    "- Ideal gas law\n",
    "\n",
    "Conservation of energy: \n",
    "$$\\Delta E_\\text{CV} = E_\\text{in} - E_\\text{out} $$\n",
    "\n",
    "$$\\Delta U + \\Delta KE + \\Delta PE = (W_\\text{in} + Q_\\text{in}) - (W_\\text{out} + Q_\\text{out})  $$\n",
    "\n",
    "Neglect changes in kinetic and potential energy:\n",
    "$$\\Delta U = (W_\\text{in}) - (W_\\text{out} + Q_\\text{out}) $$\n",
    "\n",
    "$$ W_\\text{out} = p_1 (V_2 - V_1) $$\n",
    "\n",
    "$$ W_\\text{out} = p_1 m (v_2 - v_1) $$\n",
    "\n",
    "$$ W_\\text{in} = \\text{V} I \\Delta t $$\n",
    "\n",
    "Combining yields:\n",
    "\n",
    "$$m (u_2 - u_1) = \\text{V} I \\Delta t  - p_1 m (v_2 - v_1)  - Q_\\text{out} $$\n",
    "\n",
    "Rearranging:\n",
    "\n",
    "$$m \\left[ \\left(u_2 + p_1 v_2\\right) - \\left( u_1 + p_1 v_1 \\right) \\right] = \\text{V} I \\Delta t   - Q_\\text{out} $$\n",
    "\n",
    "Since $p_2 = p_1$, we have:\n",
    "\n",
    "$$m \\left[ \\left(u_2 + p_2 v_2\\right) - \\left( u_1 + p_1 v_1 \\right) \\right] = \\text{V} I \\Delta t   - Q_\\text{out} $$\n",
    "\n",
    "The definition of enthalpy is:\n",
    "\n",
    "$$ h = u + p v$$\n",
    "\n",
    "Therefore,\n",
    "\n",
    "$$m \\left[ h_2 - h_1 \\right] = \\text{V} I \\Delta t   - Q_\\text{out} $$\n",
    "\n",
    "$$h_2  = \\text{V} I \\Delta t /m   - Q_\\text{out} / m + h_1$$\n",
    "\n",
    "## Alternative solution\n",
    "\n",
    "Picking up where we left off with our equation for enthalpy:\n",
    "\n",
    "$$h_2 = h_1 + (\\text{V} I t - Q_\\text{out})/m  $$\n",
    "\n",
    "Recall that we can define changes in enthalpy as:\n",
    "\n",
    "$$ dh = c_p dT $$\n",
    "\n",
    "Therefore, for constant specific heats:\n",
    "\n",
    "$$ h_2 - h_1 = c_p (T_2 - T_1) $$\n",
    "\n",
    "Substituting yields:\n",
    "\n",
    "$$T_2 = T_1 + (\\text{V} I t - Q_\\text{out})/(c_p m)  $$\n",
    "\n",
    "From the textbook we can determine the specific heat, $c_p$, or we can use pyCalor."
   ]
  },
  {
   "cell_type": "code",
   "execution_count": 1,
   "id": "6023387e-26ee-4d7b-ac52-05372dd5f8fb",
   "metadata": {},
   "outputs": [
    {
     "name": "stdout",
     "output_type": "stream",
     "text": [
      "Requirement already satisfied: pyCalor in /Users/schutzius/opt/anaconda3/envs/calorai_env/lib/python3.10/site-packages (1.0.21)\n",
      "Requirement already satisfied: numpy in /Users/schutzius/opt/anaconda3/envs/calorai_env/lib/python3.10/site-packages (2.2.6)\n",
      "Requirement already satisfied: matplotlib in /Users/schutzius/opt/anaconda3/envs/calorai_env/lib/python3.10/site-packages (3.10.7)\n",
      "Requirement already satisfied: CoolProp in /Users/schutzius/opt/anaconda3/envs/calorai_env/lib/python3.10/site-packages (from pyCalor) (7.1.0)\n",
      "Requirement already satisfied: igraph in /Users/schutzius/opt/anaconda3/envs/calorai_env/lib/python3.10/site-packages (from pyCalor) (0.11.9)\n",
      "Requirement already satisfied: contourpy>=1.0.1 in /Users/schutzius/opt/anaconda3/envs/calorai_env/lib/python3.10/site-packages (from matplotlib) (1.3.2)\n",
      "Requirement already satisfied: cycler>=0.10 in /Users/schutzius/opt/anaconda3/envs/calorai_env/lib/python3.10/site-packages (from matplotlib) (0.12.1)\n",
      "Requirement already satisfied: fonttools>=4.22.0 in /Users/schutzius/opt/anaconda3/envs/calorai_env/lib/python3.10/site-packages (from matplotlib) (4.60.1)\n",
      "Requirement already satisfied: kiwisolver>=1.3.1 in /Users/schutzius/opt/anaconda3/envs/calorai_env/lib/python3.10/site-packages (from matplotlib) (1.4.9)\n",
      "Requirement already satisfied: packaging>=20.0 in /Users/schutzius/opt/anaconda3/envs/calorai_env/lib/python3.10/site-packages (from matplotlib) (25.0)\n",
      "Requirement already satisfied: pillow>=8 in /Users/schutzius/opt/anaconda3/envs/calorai_env/lib/python3.10/site-packages (from matplotlib) (11.3.0)\n",
      "Requirement already satisfied: pyparsing>=3 in /Users/schutzius/opt/anaconda3/envs/calorai_env/lib/python3.10/site-packages (from matplotlib) (3.2.5)\n",
      "Requirement already satisfied: python-dateutil>=2.7 in /Users/schutzius/opt/anaconda3/envs/calorai_env/lib/python3.10/site-packages (from matplotlib) (2.9.0.post0)\n",
      "Requirement already satisfied: six>=1.5 in /Users/schutzius/opt/anaconda3/envs/calorai_env/lib/python3.10/site-packages (from python-dateutil>=2.7->matplotlib) (1.17.0)\n",
      "Requirement already satisfied: texttable>=1.6.2 in /Users/schutzius/opt/anaconda3/envs/calorai_env/lib/python3.10/site-packages (from igraph->pyCalor) (1.7.0)\n",
      "2.245058961983519\n"
     ]
    }
   ],
   "source": [
    "# 5. Properties (Code Cell)\n",
    "!pip install pyCalor numpy matplotlib\n",
    "from pyCalor import thermo as th\n",
    "\n",
    "R_JperKgPerK = 296.8\n",
    "V1_m3 = 0.5\n",
    "p1_Pa = 400e3\n",
    "T1_K = 27+273.15\n",
    "substance = 'nitrogen'\n",
    "\n",
    "# determine state 1 using pyCalor\n",
    "st1 = th.state(substance,T=(T1_K,'K'),p=(400,'kpa'),name='1')\n",
    "h1_JperKg = st1.h*1e3\n",
    "\n",
    "# determine the mass in the piston using the ideal gas law\n",
    "m_kg = (p1_Pa*V1_m3)/(R_JperKgPerK*T1_K); print(m_kg)\n",
    "\n",
    "Qout_J = 2800\n",
    "Volt_V = 120\n",
    "I_A = 2\n",
    "t_s = 5*60"
   ]
  },
  {
   "cell_type": "code",
   "execution_count": 7,
   "id": "39e62af6-77d4-4fa8-bd10-21529b6a6241",
   "metadata": {},
   "outputs": [
    {
     "name": "stdout",
     "output_type": "stream",
     "text": [
      "T2_C = 56.473 C.\n",
      "Alternative: T2_C = 56.666 C.\n",
      "Error of alternative solution = 0.059%\n"
     ]
    }
   ],
   "source": [
    "# 6 Calculations (Code Cell)\n",
    "\n",
    "Win_J = Volt_V*I_A*t_s\n",
    "\n",
    "h2_JperKg = h1_JperKg + ((Win_J - Qout_J)/m_kg)\n",
    "h2_kJperKg = h2_JperKg/1e3\n",
    "\n",
    "# by knowing h2, we can determine state 2 using pyCalor\n",
    "st2 = th.state(substance,p=(p1_Pa/1e3,'kpa'),h=h2_kJperKg,name='2')\n",
    "\n",
    "# final answer, T2\n",
    "T2_C = st2.T-273.15\n",
    "print('T2_C = {0:1.3f} C.'.format(T2_C))\n",
    "\n",
    "# alternative solution\n",
    "cp_N2_JperKgPerK = 1.039*1e3\n",
    "\n",
    "T2_K_ = T1_K + ((Win_J - Qout_J)/(cp_N2_JperKgPerK*m_kg))\n",
    "\n",
    "print('Alternative: T2_C = {0:1.3f} C.'.format(T2_K_-273.15))\n",
    "\n",
    "error = (T2_K_ - st2.T)/st2.T; \n",
    "\n",
    "print('Error of alternative solution = {0:1.3f}%'.format(error*100))"
   ]
  },
  {
   "cell_type": "markdown",
   "id": "7b9cc7d8-c5e6-4165-b377-7d06a08c4fcc",
   "metadata": {},
   "source": [
    "## 7. Summary and Reasoning\n",
    "We see that the values for $T_2$ are the same for two different approaches. The assumption of constant specific heat values appears to be a good one. "
   ]
  },
  {
   "cell_type": "markdown",
   "id": "58203054-91bf-4f7d-9e68-946cd98771d7",
   "metadata": {},
   "source": [
    "THIS SHOULD BE THE FINAL CELL, DO NOT ADD OTHERS AFTER THIS, EVEN IF THEY'RE EMPTY\n",
    "--- End of the Jupyter Notebook ---"
   ]
  }
 ],
 "metadata": {
  "kernelspec": {
   "display_name": "Python 3 (ipykernel)",
   "language": "python",
   "name": "python3"
  },
  "language_info": {
   "codemirror_mode": {
    "name": "ipython",
    "version": 3
   },
   "file_extension": ".py",
   "mimetype": "text/x-python",
   "name": "python",
   "nbconvert_exporter": "python",
   "pygments_lexer": "ipython3",
   "version": "3.10.18"
  }
 },
 "nbformat": 4,
 "nbformat_minor": 5
}
