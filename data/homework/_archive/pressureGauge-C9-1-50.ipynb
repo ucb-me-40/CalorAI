{
 "cells": [
  {
   "cell_type": "markdown",
   "id": "metadata",
   "metadata": {},
   "source": [
    "## Problem Metadata \n",
    "DO NOT DELETE. This is a JSON Block. The metadata and course context MUST be in the first cell.\n",
    "\n",
    "```json\n",
    "{\n",
    "  \"problem_title\": \"Pressure Gauge\",\n",
    "  \"author\": \"tschutzius\",\n",
    "  \"year\": \"Fa23\",\n",
    "  \"difficulty_tags\": [\"easy\"],\n",
    "  \"topic\": \"Introduction\",\n",
    "  \"module\": \"module-one\",\n",
    "  \"workflow_tags\": [\"draft\"],\n",
    "  \"lecture_reference\": {\n",
    "    \"lecture_id\": \"\",\n",
    "    \"subtopics\": []\n",
    "  },\n",
    "  \"book_reference\": {\n",
    "    \"chapter_number\": 1,\n",
    "    \"title\": \"Introduction and Basic Concepts\",\n",
    "    \"sections\": [\n",
    "      \"Pressure\",\n",
    "      \"Pressure Measurement Devices\"\n",
    "    ]\n",
    "  },\n",
    "  \"notes\": \".\"\n",
    "}\n",
    "```"
   ]
  },
  {
   "cell_type": "markdown",
   "id": "problem-statement",
   "metadata": {},
   "source": [
    "## 1. Problem Statement\n",
    "A pressure sensor, which measures gauge pressure, is connected to a tank and reads $p_{\\mathrm{gage}}$ kPa at a location where the atmospheric pressure is $p_{\\mathrm{atm}}$ kPa.  \n",
    "\n",
    "Determine the absolute pressure in the tank."
   ]
  },
  {
   "cell_type": "markdown",
   "id": "schematic",
   "metadata": {},
   "source": [
    "## 2. Schematic\n",
    "The setup consists of a **sealed tank** connected to a **pressure gauge** that measures pressure relative to the local atmosphere.\n",
    "\n",
    "- **System:** Gas inside the tank.  \n",
    "- **Device:** Pressure gauge reading $p_{\\mathrm{gage}}$.  \n",
    "- **Environment:** Atmospheric pressure $p_{\\mathrm{atm}}$ acts externally.  \n",
    "- **Goal:** Determine the **absolute pressure** inside the tank, $p_{\\mathrm{abs}}$."
   ]
  },
  {
   "cell_type": "markdown",
   "id": "assumptions",
   "metadata": {},
   "source": [
    "## 3. Assumptions and Approximations\n",
    "- The atmospheric pressure is constant and uniform at the measurement location.  \n",
    "- The gauge pressure is accurate and measured relative to the ambient atmosphere.  \n",
    "- The tank is stationary and elevation differences are negligible.  \n",
    "- The gas inside the tank behaves as a continuum; no spatial gradients are considered."
   ]
  },
  {
   "cell_type": "markdown",
   "id": "laws",
   "metadata": {},
   "source": [
    "## 4. Physical Laws and Governing Equations\n",
    "The relationship between absolute, atmospheric, and gauge pressures is given by:\n",
    "\n",
    "$$ p_{\\mathrm{abs}} = p_{\\mathrm{atm}} + p_{\\mathrm{gage}} $$\n",
    "\n",
    "where:  \n",
    "- $p_{\\mathrm{abs}}$ = absolute pressure (kPa)  \n",
    "- $p_{\\mathrm{atm}}$ = local atmospheric pressure (kPa)  \n",
    "- $p_{\\mathrm{gage}}$ = gauge pressure (kPa)  \n",
    "\n",
    "If the gauge measures vacuum instead (below atmospheric pressure), the relation becomes:\n",
    "\n",
    "$$ p_{\\mathrm{abs}} = p_{\\mathrm{atm}} - p_{\\mathrm{vac}} $$"
   ]
  },
  {
   "cell_type": "code",
   "execution_count": null,
   "id": "properties",
   "metadata": {},
   "outputs": [],
   "source": [
    "## 5. Properties and Calculations\n",
    "# Compute absolute pressure in the tank.\n",
    "\n",
    "# Given (example representative values)\n",
    "p_gage_kPa = 45    # gauge pressure [kPa]\n",
    "p_atm_kPa  = 94    # atmospheric pressure [kPa]\n",
    "\n",
    "# Absolute pressure calculation\n",
    "p_abs_kPa = p_atm_kPa + p_gage_kPa\n",
    "\n",
    "print(f\"Absolute pressure in the tank: {p_abs_kPa:.2f} kPa\")"
   ]
  },
  {
   "cell_type": "markdown",
   "id": "summary",
   "metadata": {},
   "source": [
    "## 6. Summary and Reasoning\n",
    "- From the governing relation:  \n",
    "  $$ p_{\\mathrm{abs}} = p_{\\mathrm{atm}} + p_{\\mathrm{gage}} $$\n",
    "\n",
    "- Substituting representative values:  \n",
    "  $$ p_{\\mathrm{abs}} = 94 + 45 = 139\\ \\text{kPa} $$\n",
    "\n",
    "- **Final Answer:**  \n",
    "  $$ \\boxed{p_{\\mathrm{abs}} = 139\\ \\text{kPa}} $$\n",
    "\n",
    "- The absolute pressure equals the sum of the atmospheric and gauge pressures. This confirms that gauge pressure measures the pressure difference relative to the local atmosphere."
   ]
  },
  {
   "cell_type": "markdown",
   "id": "final",
   "metadata": {},
   "source": [
    "## 7. Final Marker Cell\n",
    "THIS SHOULD BE THE FINAL CELL, DO NOT ADD OTHERS AFTER THIS, EVEN IF THEY'RE EMPTY  \n",
    "--- End of the Jupyter Notebook ---"
   ]
  }
 ],
 "metadata": {
  "kernelspec": {
   "display_name": "Python 3 (ipykernel)",
   "language": "python",
   "name": "python3"
  },
  "language_info": {
   "codemirror_mode": {
    "name": "ipython",
    "version": 3
   },
   "file_extension": ".py",
   "mimetype": "text/x-python",
   "name": "python",
   "nbconvert_exporter": "python",
   "pygments_lexer": "ipython3",
   "version": "3.11.13"
  }
 },
 "nbformat": 4,
 "nbformat_minor": 5
}
