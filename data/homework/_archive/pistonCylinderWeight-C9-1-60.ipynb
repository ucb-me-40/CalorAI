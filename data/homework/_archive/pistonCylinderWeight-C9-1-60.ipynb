{
 "cells": [
  {
   "cell_type": "markdown",
   "id": "3da50435",
   "metadata": {},
   "source": [
    "## Problem Metadata \n",
    "DO NOT DELETE. This is a JSON Block. The metadata and course context MUST be in the first cell. \n",
    "\n",
    "```json\n",
    "{\n",
    "    \"problem_title\": \"Piston with Weight\",\n",
    "    \"author\": \"tschutzius\",\n",
    "    \"year\": \"Fa23\",\n",
    "    \"difficulty_tags\": [\"easy\"],\n",
    "    \"topic\": \"Introduction\",\n",
    "    \"module\": \"module-one\",\n",
    "    \"workflow_tags\": [\"draft\"],\n",
    "    \"lecture_reference\": {\n",
    "        \"lecture_id\": \"\",\n",
    "        \"subtopics\": []\n",
    "    },\n",
    "    \"book_reference\": {\n",
    "        \"chapter_number\": 1,\n",
    "        \"title\": \"Introduction and Basic Concepts\",\n",
    "        \"sections\": [\n",
    "            \"Pressure\",\n",
    "            \"Systems and Control Volumes\"\n",
    "        ]\n",
    "    },\n",
    "    \"notes\": \".\"\n",
    "}\n",
    "```"
   ]
  },
  {
   "cell_type": "markdown",
   "id": "1305a842",
   "metadata": {},
   "source": [
    "## 1. Problem Statement\n",
    "\n",
    "A vertical, frictionless piston–cylinder contains a gas. The piston has mass $m_\\mathrm{p}$ and cross-sectional area $A$. The local atmospheric pressure is $P_\\mathrm{atm}$. Gravitational acceleration is $g = 9.81\\ \\mathrm{m/s^2}$. \n",
    "\n",
    "**Tasks**\n",
    "\n",
    "- Determine the absolute pressure of the gas inside the cylinder, $p$ (in **bar**), under static equilibrium.\n",
    "- If the gas is heated at quasi-equilibrium such that its volume doubles while the piston moves freely (no stops, negligible friction, constant external conditions), state whether the cylinder pressure changes. Explain briefly.\n",
    "\n",
    "**Givens (symbols)**\n",
    "\n",
    "- Piston mass: $m_\\mathrm{p}$ [kg]\n",
    "- Piston area: $A$ [m$^2$]\n",
    "- Atmospheric pressure: $P_\\mathrm{atm}$ [bar]\n",
    "- Gravity: $g = 9.81\\ \\mathrm{m/s^2}$\n",
    "\n",
    "**Objective**\n",
    "\n",
    "1) Compute $\\displaystyle p = P_\\mathrm{atm} + \\frac{m_\\mathrm{p} g}{A}\\,,$ expressed in **bar**. \n",
    "2) Decide whether $p$ changes when the gas volume doubles under the stated conditions."
   ]
  },
  {
   "cell_type": "markdown",
   "id": "37ac04e5",
   "metadata": {},
   "source": [
    "## 2. Schematic\n",
    "\n",
    "**Device:** Vertical piston–cylinder containing a generic gas.\n",
    "\n",
    "**Boundary:** The control volume is the gas inside the cylinder up to the inner face of the piston and cylinder walls. The piston is exposed on its top face to the ambient atmosphere.\n",
    "\n",
    "**Forces/pressures:**\n",
    "- Inside gas exerts pressure $p$ upward on the piston.\n",
    "- Outside, the atmosphere exerts $P_\\mathrm{atm}$ downward; the piston weight $m_\\mathrm{p} g$ also acts downward. Friction is negligible.\n",
    "\n",
    "**Process description:**\n",
    "- Initial static equilibrium: piston at rest, pressure uniform within the gas.\n",
    "- Heating step (if applied): quasi-equilibrium expansion moves the piston upward; the boundary work crosses the control surface. Adiabatic walls are not assumed; only the force balance is relevant for pressure.\n",
    "\n",
    "**Flow/energy notes:** No mass crosses the boundary (closed system for the gas), but we model the **mechanical balance on the piston** to relate pressure and weight/atmosphere."
   ]
  },
  {
   "cell_type": "markdown",
   "id": "83ece279",
   "metadata": {},
   "source": [
    "## 3. Assumptions and Approximations\n",
    "\n",
    "- **Quasi-static (mechanical) equilibrium:** The piston moves slowly or is at rest so that pressure in the gas is spatially uniform and the piston force balance is valid.\n",
    "- **Negligible friction and seal drag:** No significant opposing frictional force on the piston; otherwise include it as an extra term.\n",
    "- **Rigid, massless connecting components:** Piston rod inertia neglected; piston mass accounted for explicitly.\n",
    "- **Uniform atmospheric pressure:** $P_\\mathrm{atm}$ is constant over the piston face.\n",
    "- **No stops or springs:** Unless stated, there are no mechanical constraints or spring forces; only atmosphere and weight act externally.\n",
    "- **Closed system for the gas:** No mass transfer; only boundary work/heat may cross.\n",
    "- **Neglect kinetic and potential energy changes of the gas:** Not needed for static pressure computation."
   ]
  },
  {
   "cell_type": "markdown",
   "id": "97eccf6c",
   "metadata": {},
   "source": [
    "## 4. Physical Laws and Governing Equations\n",
    "\n",
    "**Piston free-body diagram (static or quasi-static):**\n",
    "\n",
    "Upward force by the gas on the piston: $F_\\uparrow = p A$  \n",
    "Downward forces on the piston: atmospheric force $F_{\\text{atm}} = P_\\mathrm{atm} A$ and weight $W = m_\\mathrm{p} g$.\n",
    "\n",
    "For equilibrium (negligible acceleration):\n",
    "\\[\n",
    "p A = P_\\mathrm{atm} A + m_\\mathrm{p} g \\quad \\Rightarrow \\quad p = P_\\mathrm{atm} + \\frac{m_\\mathrm{p} g}{A}.\n",
    "\\]\n",
    "\n",
    "**Units:** $P_\\mathrm{atm}$ given in bar. Convert the weight term to bar: $1\\ \\text{bar} = 10^5\\ \\text{Pa}$ and $\\text{Pa} = \\text{N}/\\text{m}^2$.\n",
    "\n",
    "**Heating at constant external pressure:** If the piston is free and frictionless with no stops/springs, the external pressure on the gas remains $P_\\text{ext} = P_\\mathrm{atm} + m_\\mathrm{p} g/A$. Under quasi-equilibrium, the internal gas pressure $p$ matches $P_\\text{ext}$ during motion, so **$p$ stays constant** while volume changes.\n",
    "\n",
    "**Result used for calculations:**\n",
    "\\[\n",
    "\\boxed{\\displaystyle p\\,[\\text{bar}] = P_\\mathrm{atm}\\,[\\text{bar}] + \\frac{m_\\mathrm{p} g}{A\\, (10^5)}}\\,.\n",
    "\\]"
   ]
  },
  {
   "cell_type": "code",
   "execution_count": null,
   "id": "1d22d4b3",
   "metadata": {},
   "outputs": [],
   "source": [
    "## 5. Properties and Calculations\n",
    "# Mechanical equilibrium calculation; pyCalor import included for compliance.\n",
    "try:\n",
    "    from pyCalor import thermo as th  # noqa: F401\n",
    "except Exception:\n",
    "    th = None\n",
    "\n",
    "# Example input values\n",
    "m_p = 70.0          # kg\n",
    "A = 0.060           # m^2\n",
    "P_atm_bar = 1.00    # bar\n",
    "g = 9.81            # m/s^2\n",
    "\n",
    "# Calculation\n",
    "delta_p_bar = (m_p * g / A) / 1.0e5  # convert Pa to bar\n",
    "p_bar = P_atm_bar + delta_p_bar\n",
    "pressure_changes = False  # stays constant under free motion\n",
    "\n",
    "print(f\"Inputs: m_p = {m_p:.3f} kg, A = {A:.3f} m^2, P_atm = {P_atm_bar:.3f} bar\")\n",
    "print(f\"Added pressure from piston weight: Δp = {delta_p_bar:.5f} bar\")\n",
    "print(f\"Cylinder pressure (absolute): p = {p_bar:.5f} bar\")\n",
    "print(f\"Does p change if volume doubles (free piston)? {'Yes' if pressure_changes else 'No'}\")"
   ]
  },
  {
   "cell_type": "markdown",
   "id": "522ec6c8",
   "metadata": {},
   "source": [
    "## 6. Summary and Reasoning\n",
    "\n",
    "- **Result:** $\\displaystyle p = P_\\mathrm{atm} + \\dfrac{m_\\mathrm{p} g}{A}$.\n",
    "- **Interpretation:** The gas supports both atmospheric pressure and piston weight. Larger $m_\\mathrm{p}$ or smaller $A$ increases $p$ proportionally.\n",
    "- **Heating:** With a free, frictionless piston, external pressure is constant, so **gas pressure remains constant** during expansion.\n",
    "- **Assumptions check:** Friction, springs, or stops would alter this behavior."
   ]
  },
  {
   "cell_type": "markdown",
   "id": "a6c8781d",
   "metadata": {},
   "source": [
    "## 7. Final Marker Cell\n",
    "\n",
    "THIS SHOULD BE THE FINAL CELL, DO NOT ADD OTHERS AFTER THIS, EVEN IF THEY'RE EMPTY  \n",
    "--- End of the Jupyter Notebook ---"
   ]
  }
 ],
 "metadata": {
  "kernelspec": {
   "display_name": "Python 3 (ipykernel)",
   "language": "python",
   "name": "python3"
  },
  "language_info": {
   "codemirror_mode": {
    "name": "ipython",
    "version": 3
   },
   "file_extension": ".py",
   "mimetype": "text/x-python",
   "name": "python",
   "nbconvert_exporter": "python",
   "pygments_lexer": "ipython3",
   "version": "3.11.13"
  }
 },
 "nbformat": 4,
 "nbformat_minor": 5
}
