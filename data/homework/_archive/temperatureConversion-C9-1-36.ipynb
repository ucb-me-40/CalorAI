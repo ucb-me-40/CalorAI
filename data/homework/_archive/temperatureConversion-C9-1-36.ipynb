{
 "cells": [
  {
   "cell_type": "markdown",
   "id": "ad28d595",
   "metadata": {},
   "source": [
    "## Problem Metadata \n",
    "DO NOT DELETE. This is a JSON Block. The metadata and course context MUST be in the first cell. \n",
    "\n",
    "```json\n",
    "{\n",
    "    \"problem_title\": \"Temperature Conversion\",\n",
    "    \"author\": \"tschutzius\",\n",
    "    \"year\": \"Fa23\",\n",
    "    \"difficulty_tags\": [\"easy\"],\n",
    "    \"topic\": \"Introduction\",\n",
    "    \"module\": \"module-one\",\n",
    "    \"workflow_tags\": [\"draft\"],\n",
    "    \"lecture_reference\": {\n",
    "        \"lecture_id\": \"\",\n",
    "        \"subtopics\": []\n",
    "    },\n",
    "    \"book_reference\": {\n",
    "        \"chapter_number\": 1,\n",
    "        \"title\": \"Introduction and Basic Concepts\",\n",
    "        \"sections\": [\n",
    "            \"Temperature Scales\",\n",
    "            \"Temperature and Energy\"\n",
    "        ]\n",
    "    },\n",
    "    \"notes\": \".\"\n",
    "}\n",
    "```"
   ]
  },
  {
   "cell_type": "markdown",
   "id": "0b7e1823",
   "metadata": {},
   "source": [
    "## 1. Problem Statement\n",
    "\n",
    "The temperature of a system rises by $\\Delta T = 200\\ ^\\circ\\mathrm{C}$ during a heating process.  \n",
    "\n",
    "**Goal:** Express this rise in temperature in **kelvins**.\n",
    "\n",
    "**Given:**\n",
    "- Temperature rise, $\\Delta T_C = 200\\ ^\\circ\\mathrm{C}$\n",
    "\n",
    "**Find:**\n",
    "- Temperature rise in kelvins, $\\Delta T_K$.\n",
    "\n",
    "_Source context:_ Based on PrairieLearn problem definition and input parameters:contentReference[oaicite:0]{index=0}:contentReference[oaicite:1]{index=1}:contentReference[oaicite:2]{index=2}."
   ]
  },
  {
   "cell_type": "markdown",
   "id": "d3478cdc",
   "metadata": {},
   "source": [
    "## 2. Schematic\n",
    "\n",
    "A **closed system** undergoes a heating process, during which its temperature increases by $\\Delta T_C$.\n",
    "\n",
    "This process does not require a physical diagram since no mechanical or flow work interactions are considered—only a temperature change.\n",
    "\n",
    "**System description:**\n",
    "- Working medium: arbitrary substance (solid, liquid, or gas)\n",
    "- Energy interaction: heat transfer causing a temperature rise\n",
    "- Temperature change: measured on Celsius and Kelvin scales\n",
    "\n",
    "**Key relationship:** The **size** of one degree Celsius and one kelvin are identical; the only difference is the zero reference point."
   ]
  },
  {
   "cell_type": "markdown",
   "id": "8c8e4eb5",
   "metadata": {},
   "source": [
    "## 3. Assumptions and Approximations\n",
    "\n",
    "- **Uniform temperature:** The system is homogeneous; temperature rise occurs uniformly.\n",
    "- **No phase change:** The process does not involve a phase change, ensuring a continuous temperature rise.\n",
    "- **Neglect energy losses:** All supplied energy contributes to the temperature increase.\n",
    "- **Linear temperature scale relation:** The conversion between Celsius and Kelvin temperature differences follows $\\Delta T_K = \\Delta T_C$.\n",
    "- **Neglect reference offsets:** Only temperature differences are compared, not absolute temperatures (so the 273.15 K offset cancels)."
   ]
  },
  {
   "cell_type": "markdown",
   "id": "878f2aa5",
   "metadata": {},
   "source": [
    "## 4. Physical Laws and Governing Equations\n",
    "\n",
    "Temperature differences measured in Celsius and Kelvin are related by:\n",
    "\n",
    "$$\n",
    "\\Delta T_K = \\Delta T_C\n",
    "$$\n",
    "\n",
    "This arises from the definition of the Kelvin scale:\n",
    "\n",
    "$$\n",
    "T_K = T_C + 273.15\n",
    "$$\n",
    "\n",
    "Thus, for temperature **differences** (not absolute values):\n",
    "\n",
    "$$\n",
    "\\Delta T_K = (T_{2,C} + 273.15) - (T_{1,C} + 273.15) = T_{2,C} - T_{1,C} = \\Delta T_C\n",
    "$$\n",
    "\n",
    "Therefore, the **magnitude of a temperature difference** is the same in kelvins and in degrees Celsius."
   ]
  },
  {
   "cell_type": "code",
   "execution_count": null,
   "id": "4d144782",
   "metadata": {},
   "outputs": [],
   "source": [
    "## 5. Properties and Calculations\n",
    "# Given temperature change in Celsius\n",
    "temperatureC = 200  # °C\n",
    "\n",
    "# Conversion relation (for temperature difference)\n",
    "temperatureK = temperatureC  # 1°C = 1 K difference\n",
    "\n",
    "print(f\"Temperature rise: ΔT = {temperatureC:.2f} °C = {temperatureK:.2f} K\")"
   ]
  },
  {
   "cell_type": "markdown",
   "id": "9d066426",
   "metadata": {},
   "source": [
    "## 6. Summary and Reasoning\n",
    "\n",
    "- **Result:**  A temperature increase of $200\\ ^\\circ\\mathrm{C}$ corresponds to **$200\\ \\mathrm{K}$**.\n",
    "- **Reasoning:** The Celsius and Kelvin scales have identical incremental magnitudes (1 °C = 1 K). Only their zero points differ.\n",
    "- **Validation:** The relationship holds for **temperature differences**, not absolute temperatures (e.g., $25\\ ^\\circ\\mathrm{C}$ ≠ 25 K).\n",
    "\n",
    "**Conclusion:**\n",
    "$$\n",
    "\\boxed{\\Delta T_K = 200\\ \\mathrm{K}}\n",
    "$$\n",
    "\n",
    "This fundamental conversion is essential for thermodynamic calculations, ensuring consistent SI units when applying energy balance relations such as $Q = m c \\Delta T$."
   ]
  },
  {
   "cell_type": "markdown",
   "id": "7ffdc51e",
   "metadata": {},
   "source": [
    "## 7. Final Marker Cell\n",
    "\n",
    "THIS SHOULD BE THE FINAL CELL, DO NOT ADD OTHERS AFTER THIS, EVEN IF THEY'RE EMPTY  \n",
    "--- End of the Jupyter Notebook ---"
   ]
  }
 ],
 "metadata": {
  "kernelspec": {
   "display_name": "Python 3 (ipykernel)",
   "language": "python",
   "name": "python3"
  },
  "language_info": {
   "codemirror_mode": {
    "name": "ipython",
    "version": 3
   },
   "file_extension": ".py",
   "mimetype": "text/x-python",
   "name": "python",
   "nbconvert_exporter": "python",
   "pygments_lexer": "ipython3",
   "version": "3.11.13"
  }
 },
 "nbformat": 4,
 "nbformat_minor": 5
}
